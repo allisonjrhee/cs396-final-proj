{
  "cells": [
    {
      "cell_type": "markdown",
      "metadata": {},
      "source": []
    },
    {
      "cell_type": "code",
      "execution_count": 8,
      "metadata": {
        "id": "5m3Va89kocL-"
      },
      "outputs": [],
      "source": [
        "import sklearn\n",
        "import pandas as pd\n",
        "import json\n",
        "import numpy as np\n",
        "import scipy\n",
        "from scipy import stats\n",
        "import matplotlib\n",
        "from matplotlib import pyplot as plt"
      ]
    },
    {
      "cell_type": "code",
      "execution_count": 9,
      "metadata": {
        "id": "ppbEgWyo-ksT"
      },
      "outputs": [],
      "source": [
        "vaccinehesitancy = pd.read_csv(r'Vaccine-Hesitancy (clean).csv')"
      ]
    },
    {
      "cell_type": "code",
      "execution_count": 10,
      "metadata": {
        "colab": {
          "base_uri": "https://localhost:8080/"
        },
        "id": "akoisF0fmcrv",
        "outputId": "f5d6fe7e-7d14-4dea-86b2-eb81c81889f4"
      },
      "outputs": [
        {
          "name": "stderr",
          "output_type": "stream",
          "text": [
            "/var/folders/r2/zpk7_6mj6995g1gtd80hvc0w0000gn/T/ipykernel_92870/2655743332.py:1: DtypeWarning: Columns (1) have mixed types. Specify dtype option on import or set low_memory=False.\n",
            "  vaccine_df = pd.read_csv(r'COVID-19_Vaccinations_in_the_United_States_County.csv')\n"
          ]
        }
      ],
      "source": [
        "vaccine_df = pd.read_csv(r'COVID-19_Vaccinations_in_the_United_States_County.csv')"
      ]
    },
    {
      "cell_type": "code",
      "execution_count": 11,
      "metadata": {
        "id": "p7beYXbnmdpq"
      },
      "outputs": [],
      "source": [
        "education_df = pd.read_csv(r'Education-attainment(clean).csv')"
      ]
    },
    {
      "cell_type": "markdown",
      "metadata": {
        "id": "5xkpaIoMA-33"
      },
      "source": [
        "# VACCINE HESITANCY ANALYSIS"
      ]
    },
    {
      "cell_type": "markdown",
      "metadata": {
        "id": "D0-5w4pifS8e"
      },
      "source": [
        "## SVI and CVAC"
      ]
    },
    {
      "cell_type": "code",
      "execution_count": 12,
      "metadata": {
        "id": "Bvm49ZRhzI0W"
      },
      "outputs": [],
      "source": [
        "vaccinehesitancy = vaccinehesitancy.rename(columns={\"CVAC level of concern for vaccination rollout\": \"CVAC\", \"CVAC Level Of Concern\": \"CVAC Category\"})\n",
        "vaccinehesitancy = vaccinehesitancy.sort_values('FIPS Code')\n",
        "vaccinehesitancy = vaccinehesitancy.reset_index(drop=True)"
      ]
    },
    {
      "cell_type": "code",
      "execution_count": 13,
      "metadata": {
        "colab": {
          "base_uri": "https://localhost:8080/",
          "height": 956
        },
        "id": "p1wL8KmCou6c",
        "outputId": "ee5f7b30-0eb4-4b6e-f923-4584b3fec1d2"
      },
      "outputs": [
        {
          "data": {
            "text/html": [
              "<div>\n",
              "<style scoped>\n",
              "    .dataframe tbody tr th:only-of-type {\n",
              "        vertical-align: middle;\n",
              "    }\n",
              "\n",
              "    .dataframe tbody tr th {\n",
              "        vertical-align: top;\n",
              "    }\n",
              "\n",
              "    .dataframe thead th {\n",
              "        text-align: right;\n",
              "    }\n",
              "</style>\n",
              "<table border=\"1\" class=\"dataframe\">\n",
              "  <thead>\n",
              "    <tr style=\"text-align: right;\">\n",
              "      <th></th>\n",
              "      <th>FIPS Code</th>\n",
              "      <th>County Name</th>\n",
              "      <th>State</th>\n",
              "      <th>Estimated hesitant</th>\n",
              "      <th>Estimated hesitant or unsure</th>\n",
              "      <th>Estimated strongly hesitant</th>\n",
              "      <th>SVI</th>\n",
              "      <th>SVI Category</th>\n",
              "      <th>CVAC</th>\n",
              "      <th>CVAC Category</th>\n",
              "      <th>Percent adults fully vaccinated against COVID-19 (as of 6/10/21)</th>\n",
              "      <th>Percent Hispanic</th>\n",
              "      <th>Percent non-Hispanic American Indian/Alaska Native</th>\n",
              "      <th>Percent non-Hispanic Asian</th>\n",
              "      <th>Percent non-Hispanic Black</th>\n",
              "      <th>Percent non-Hispanic Native Hawaiian/Pacific Islander</th>\n",
              "      <th>Percent non-Hispanic White</th>\n",
              "      <th>State Code</th>\n",
              "    </tr>\n",
              "  </thead>\n",
              "  <tbody>\n",
              "    <tr>\n",
              "      <th>0</th>\n",
              "      <td>1001</td>\n",
              "      <td>Autauga County, Alabama</td>\n",
              "      <td>ALABAMA</td>\n",
              "      <td>0.1685</td>\n",
              "      <td>0.2233</td>\n",
              "      <td>0.1272</td>\n",
              "      <td>0.44</td>\n",
              "      <td>Moderate Vulnerability</td>\n",
              "      <td>0.61</td>\n",
              "      <td>High Concern</td>\n",
              "      <td>0.288</td>\n",
              "      <td>0.0283</td>\n",
              "      <td>0.0025</td>\n",
              "      <td>0.0103</td>\n",
              "      <td>0.1900</td>\n",
              "      <td>0.0001</td>\n",
              "      <td>0.7460</td>\n",
              "      <td>AL</td>\n",
              "    </tr>\n",
              "    <tr>\n",
              "      <th>1</th>\n",
              "      <td>1003</td>\n",
              "      <td>Baldwin County, Alabama</td>\n",
              "      <td>ALABAMA</td>\n",
              "      <td>0.1544</td>\n",
              "      <td>0.1988</td>\n",
              "      <td>0.1169</td>\n",
              "      <td>0.22</td>\n",
              "      <td>Low Vulnerability</td>\n",
              "      <td>0.23</td>\n",
              "      <td>Low Concern</td>\n",
              "      <td>0.336</td>\n",
              "      <td>0.0456</td>\n",
              "      <td>0.0065</td>\n",
              "      <td>0.0092</td>\n",
              "      <td>0.0917</td>\n",
              "      <td>0.0000</td>\n",
              "      <td>0.8307</td>\n",
              "      <td>AL</td>\n",
              "    </tr>\n",
              "    <tr>\n",
              "      <th>2</th>\n",
              "      <td>1005</td>\n",
              "      <td>Barbour County, Alabama</td>\n",
              "      <td>ALABAMA</td>\n",
              "      <td>0.1676</td>\n",
              "      <td>0.2337</td>\n",
              "      <td>0.1274</td>\n",
              "      <td>1.00</td>\n",
              "      <td>Very High Vulnerability</td>\n",
              "      <td>0.89</td>\n",
              "      <td>Very High Concern</td>\n",
              "      <td>0.257</td>\n",
              "      <td>0.0436</td>\n",
              "      <td>0.0029</td>\n",
              "      <td>0.0048</td>\n",
              "      <td>0.4744</td>\n",
              "      <td>0.0000</td>\n",
              "      <td>0.4581</td>\n",
              "      <td>AL</td>\n",
              "    </tr>\n",
              "    <tr>\n",
              "      <th>3</th>\n",
              "      <td>1007</td>\n",
              "      <td>Bibb County, Alabama</td>\n",
              "      <td>ALABAMA</td>\n",
              "      <td>0.1808</td>\n",
              "      <td>0.2526</td>\n",
              "      <td>0.1390</td>\n",
              "      <td>0.60</td>\n",
              "      <td>High Vulnerability</td>\n",
              "      <td>0.76</td>\n",
              "      <td>High Concern</td>\n",
              "      <td>0.222</td>\n",
              "      <td>0.0257</td>\n",
              "      <td>0.0013</td>\n",
              "      <td>0.0012</td>\n",
              "      <td>0.2214</td>\n",
              "      <td>0.0000</td>\n",
              "      <td>0.7453</td>\n",
              "      <td>AL</td>\n",
              "    </tr>\n",
              "    <tr>\n",
              "      <th>4</th>\n",
              "      <td>1009</td>\n",
              "      <td>Blount County, Alabama</td>\n",
              "      <td>ALABAMA</td>\n",
              "      <td>0.1854</td>\n",
              "      <td>0.2362</td>\n",
              "      <td>0.1416</td>\n",
              "      <td>0.42</td>\n",
              "      <td>Moderate Vulnerability</td>\n",
              "      <td>0.80</td>\n",
              "      <td>High Concern</td>\n",
              "      <td>0.215</td>\n",
              "      <td>0.0926</td>\n",
              "      <td>0.0007</td>\n",
              "      <td>0.0037</td>\n",
              "      <td>0.0153</td>\n",
              "      <td>0.0004</td>\n",
              "      <td>0.8689</td>\n",
              "      <td>AL</td>\n",
              "    </tr>\n",
              "    <tr>\n",
              "      <th>...</th>\n",
              "      <td>...</td>\n",
              "      <td>...</td>\n",
              "      <td>...</td>\n",
              "      <td>...</td>\n",
              "      <td>...</td>\n",
              "      <td>...</td>\n",
              "      <td>...</td>\n",
              "      <td>...</td>\n",
              "      <td>...</td>\n",
              "      <td>...</td>\n",
              "      <td>...</td>\n",
              "      <td>...</td>\n",
              "      <td>...</td>\n",
              "      <td>...</td>\n",
              "      <td>...</td>\n",
              "      <td>...</td>\n",
              "      <td>...</td>\n",
              "      <td>...</td>\n",
              "    </tr>\n",
              "    <tr>\n",
              "      <th>3136</th>\n",
              "      <td>56037</td>\n",
              "      <td>Sweetwater County, Wyoming</td>\n",
              "      <td>WYOMING</td>\n",
              "      <td>0.2184</td>\n",
              "      <td>0.2843</td>\n",
              "      <td>0.1584</td>\n",
              "      <td>0.37</td>\n",
              "      <td>Low Vulnerability</td>\n",
              "      <td>0.56</td>\n",
              "      <td>Moderate Concern</td>\n",
              "      <td>0.348</td>\n",
              "      <td>0.1588</td>\n",
              "      <td>0.0102</td>\n",
              "      <td>0.0074</td>\n",
              "      <td>0.0112</td>\n",
              "      <td>0.0003</td>\n",
              "      <td>0.7956</td>\n",
              "      <td>WY</td>\n",
              "    </tr>\n",
              "    <tr>\n",
              "      <th>3137</th>\n",
              "      <td>56039</td>\n",
              "      <td>Teton County, Wyoming</td>\n",
              "      <td>WYOMING</td>\n",
              "      <td>0.2050</td>\n",
              "      <td>0.2671</td>\n",
              "      <td>0.1472</td>\n",
              "      <td>0.11</td>\n",
              "      <td>Very Low Vulnerability</td>\n",
              "      <td>0.44</td>\n",
              "      <td>Moderate Concern</td>\n",
              "      <td>0.789</td>\n",
              "      <td>0.1503</td>\n",
              "      <td>0.0033</td>\n",
              "      <td>0.0125</td>\n",
              "      <td>0.0124</td>\n",
              "      <td>0.0012</td>\n",
              "      <td>0.8134</td>\n",
              "      <td>WY</td>\n",
              "    </tr>\n",
              "    <tr>\n",
              "      <th>3138</th>\n",
              "      <td>56041</td>\n",
              "      <td>Uinta County, Wyoming</td>\n",
              "      <td>WYOMING</td>\n",
              "      <td>0.2184</td>\n",
              "      <td>0.2843</td>\n",
              "      <td>0.1584</td>\n",
              "      <td>0.45</td>\n",
              "      <td>Moderate Vulnerability</td>\n",
              "      <td>0.48</td>\n",
              "      <td>Moderate Concern</td>\n",
              "      <td>0.388</td>\n",
              "      <td>0.0913</td>\n",
              "      <td>0.0065</td>\n",
              "      <td>0.0016</td>\n",
              "      <td>0.0011</td>\n",
              "      <td>0.0000</td>\n",
              "      <td>0.8752</td>\n",
              "      <td>WY</td>\n",
              "    </tr>\n",
              "    <tr>\n",
              "      <th>3139</th>\n",
              "      <td>56043</td>\n",
              "      <td>Washakie County, Wyoming</td>\n",
              "      <td>WYOMING</td>\n",
              "      <td>0.2283</td>\n",
              "      <td>0.2943</td>\n",
              "      <td>0.1687</td>\n",
              "      <td>0.37</td>\n",
              "      <td>Low Vulnerability</td>\n",
              "      <td>0.69</td>\n",
              "      <td>High Concern</td>\n",
              "      <td>0.364</td>\n",
              "      <td>0.1423</td>\n",
              "      <td>0.0052</td>\n",
              "      <td>0.0000</td>\n",
              "      <td>0.0004</td>\n",
              "      <td>0.0000</td>\n",
              "      <td>0.8190</td>\n",
              "      <td>WY</td>\n",
              "    </tr>\n",
              "    <tr>\n",
              "      <th>3140</th>\n",
              "      <td>56045</td>\n",
              "      <td>Weston County, Wyoming</td>\n",
              "      <td>WYOMING</td>\n",
              "      <td>0.2283</td>\n",
              "      <td>0.2943</td>\n",
              "      <td>0.1687</td>\n",
              "      <td>0.35</td>\n",
              "      <td>Low Vulnerability</td>\n",
              "      <td>0.51</td>\n",
              "      <td>Moderate Concern</td>\n",
              "      <td>0.311</td>\n",
              "      <td>0.0108</td>\n",
              "      <td>0.0017</td>\n",
              "      <td>0.0077</td>\n",
              "      <td>0.0023</td>\n",
              "      <td>0.0011</td>\n",
              "      <td>0.9637</td>\n",
              "      <td>WY</td>\n",
              "    </tr>\n",
              "  </tbody>\n",
              "</table>\n",
              "<p>3141 rows × 18 columns</p>\n",
              "</div>"
            ],
            "text/plain": [
              "      FIPS Code                 County Name    State  Estimated hesitant  \\\n",
              "0          1001     Autauga County, Alabama  ALABAMA              0.1685   \n",
              "1          1003     Baldwin County, Alabama  ALABAMA              0.1544   \n",
              "2          1005     Barbour County, Alabama  ALABAMA              0.1676   \n",
              "3          1007        Bibb County, Alabama  ALABAMA              0.1808   \n",
              "4          1009      Blount County, Alabama  ALABAMA              0.1854   \n",
              "...         ...                         ...      ...                 ...   \n",
              "3136      56037  Sweetwater County, Wyoming  WYOMING              0.2184   \n",
              "3137      56039       Teton County, Wyoming  WYOMING              0.2050   \n",
              "3138      56041       Uinta County, Wyoming  WYOMING              0.2184   \n",
              "3139      56043    Washakie County, Wyoming  WYOMING              0.2283   \n",
              "3140      56045      Weston County, Wyoming  WYOMING              0.2283   \n",
              "\n",
              "      Estimated hesitant or unsure  Estimated strongly hesitant   SVI  \\\n",
              "0                           0.2233                       0.1272  0.44   \n",
              "1                           0.1988                       0.1169  0.22   \n",
              "2                           0.2337                       0.1274  1.00   \n",
              "3                           0.2526                       0.1390  0.60   \n",
              "4                           0.2362                       0.1416  0.42   \n",
              "...                            ...                          ...   ...   \n",
              "3136                        0.2843                       0.1584  0.37   \n",
              "3137                        0.2671                       0.1472  0.11   \n",
              "3138                        0.2843                       0.1584  0.45   \n",
              "3139                        0.2943                       0.1687  0.37   \n",
              "3140                        0.2943                       0.1687  0.35   \n",
              "\n",
              "                 SVI Category  CVAC      CVAC Category  \\\n",
              "0      Moderate Vulnerability  0.61       High Concern   \n",
              "1           Low Vulnerability  0.23        Low Concern   \n",
              "2     Very High Vulnerability  0.89  Very High Concern   \n",
              "3          High Vulnerability  0.76       High Concern   \n",
              "4      Moderate Vulnerability  0.80       High Concern   \n",
              "...                       ...   ...                ...   \n",
              "3136        Low Vulnerability  0.56   Moderate Concern   \n",
              "3137   Very Low Vulnerability  0.44   Moderate Concern   \n",
              "3138   Moderate Vulnerability  0.48   Moderate Concern   \n",
              "3139        Low Vulnerability  0.69       High Concern   \n",
              "3140        Low Vulnerability  0.51   Moderate Concern   \n",
              "\n",
              "      Percent adults fully vaccinated against COVID-19 (as of 6/10/21)  \\\n",
              "0                                                 0.288                  \n",
              "1                                                 0.336                  \n",
              "2                                                 0.257                  \n",
              "3                                                 0.222                  \n",
              "4                                                 0.215                  \n",
              "...                                                 ...                  \n",
              "3136                                              0.348                  \n",
              "3137                                              0.789                  \n",
              "3138                                              0.388                  \n",
              "3139                                              0.364                  \n",
              "3140                                              0.311                  \n",
              "\n",
              "      Percent Hispanic  Percent non-Hispanic American Indian/Alaska Native  \\\n",
              "0               0.0283                                             0.0025    \n",
              "1               0.0456                                             0.0065    \n",
              "2               0.0436                                             0.0029    \n",
              "3               0.0257                                             0.0013    \n",
              "4               0.0926                                             0.0007    \n",
              "...                ...                                                ...    \n",
              "3136            0.1588                                             0.0102    \n",
              "3137            0.1503                                             0.0033    \n",
              "3138            0.0913                                             0.0065    \n",
              "3139            0.1423                                             0.0052    \n",
              "3140            0.0108                                             0.0017    \n",
              "\n",
              "      Percent non-Hispanic Asian  Percent non-Hispanic Black  \\\n",
              "0                         0.0103                      0.1900   \n",
              "1                         0.0092                      0.0917   \n",
              "2                         0.0048                      0.4744   \n",
              "3                         0.0012                      0.2214   \n",
              "4                         0.0037                      0.0153   \n",
              "...                          ...                         ...   \n",
              "3136                      0.0074                      0.0112   \n",
              "3137                      0.0125                      0.0124   \n",
              "3138                      0.0016                      0.0011   \n",
              "3139                      0.0000                      0.0004   \n",
              "3140                      0.0077                      0.0023   \n",
              "\n",
              "      Percent non-Hispanic Native Hawaiian/Pacific Islander  \\\n",
              "0                                                0.0001       \n",
              "1                                                0.0000       \n",
              "2                                                0.0000       \n",
              "3                                                0.0000       \n",
              "4                                                0.0004       \n",
              "...                                                 ...       \n",
              "3136                                             0.0003       \n",
              "3137                                             0.0012       \n",
              "3138                                             0.0000       \n",
              "3139                                             0.0000       \n",
              "3140                                             0.0011       \n",
              "\n",
              "      Percent non-Hispanic White State Code  \n",
              "0                         0.7460         AL  \n",
              "1                         0.8307         AL  \n",
              "2                         0.4581         AL  \n",
              "3                         0.7453         AL  \n",
              "4                         0.8689         AL  \n",
              "...                          ...        ...  \n",
              "3136                      0.7956         WY  \n",
              "3137                      0.8134         WY  \n",
              "3138                      0.8752         WY  \n",
              "3139                      0.8190         WY  \n",
              "3140                      0.9637         WY  \n",
              "\n",
              "[3141 rows x 18 columns]"
            ]
          },
          "execution_count": 13,
          "metadata": {},
          "output_type": "execute_result"
        }
      ],
      "source": [
        "vaccinehesitancy"
      ]
    },
    {
      "cell_type": "code",
      "execution_count": 14,
      "metadata": {
        "id": "d0H3hwWMK7XG"
      },
      "outputs": [],
      "source": [
        "organizedhesitancy = []\n",
        "states = []\n",
        "\n",
        "def makelower(text):\n",
        "  return text.lower()\n",
        "\n",
        "vaccinehesitancy['State'] = vaccinehesitancy['State'].apply(makelower)\n",
        "vaccinehesitancy['County Name'] = vaccinehesitancy['County Name'].apply(makelower)\n",
        "vaccinehesitancy['SVI Category'] = vaccinehesitancy['SVI Category'].apply(makelower)\n",
        "vaccinehesitancy['CVAC Category'] = vaccinehesitancy['CVAC Category'].apply(makelower)\n",
        "\n",
        "for i in vaccinehesitancy['State']:\n",
        "  if i not in states:\n",
        "    states.append(i)\n",
        "  else:\n",
        "    pass"
      ]
    },
    {
      "cell_type": "code",
      "execution_count": 15,
      "metadata": {
        "colab": {
          "base_uri": "https://localhost:8080/",
          "height": 130
        },
        "id": "WJ-iLTu-Fizc",
        "outputId": "26f674a9-a172-4355-994e-5d0e787c1ab0"
      },
      "outputs": [
        {
          "name": "stdout",
          "output_type": "stream",
          "text": [
            "The Pearson correlation coefficient matrix\n"
          ]
        },
        {
          "data": {
            "text/html": [
              "<div>\n",
              "<style scoped>\n",
              "    .dataframe tbody tr th:only-of-type {\n",
              "        vertical-align: middle;\n",
              "    }\n",
              "\n",
              "    .dataframe tbody tr th {\n",
              "        vertical-align: top;\n",
              "    }\n",
              "\n",
              "    .dataframe thead th {\n",
              "        text-align: right;\n",
              "    }\n",
              "</style>\n",
              "<table border=\"1\" class=\"dataframe\">\n",
              "  <thead>\n",
              "    <tr style=\"text-align: right;\">\n",
              "      <th></th>\n",
              "      <th>SVI</th>\n",
              "      <th>CVAC</th>\n",
              "    </tr>\n",
              "  </thead>\n",
              "  <tbody>\n",
              "    <tr>\n",
              "      <th>SVI</th>\n",
              "      <td>1.000000</td>\n",
              "      <td>0.717859</td>\n",
              "    </tr>\n",
              "    <tr>\n",
              "      <th>CVAC</th>\n",
              "      <td>0.717859</td>\n",
              "      <td>1.000000</td>\n",
              "    </tr>\n",
              "  </tbody>\n",
              "</table>\n",
              "</div>"
            ],
            "text/plain": [
              "           SVI      CVAC\n",
              "SVI   1.000000  0.717859\n",
              "CVAC  0.717859  1.000000"
            ]
          },
          "execution_count": 15,
          "metadata": {},
          "output_type": "execute_result"
        }
      ],
      "source": [
        "svi_cvac_pearson = vaccinehesitancy[['SVI','CVAC']].corr(method='pearson')\n",
        "print(\"The Pearson correlation coefficient matrix\")\n",
        "svi_cvac_pearson"
      ]
    },
    {
      "cell_type": "code",
      "execution_count": 16,
      "metadata": {
        "colab": {
          "base_uri": "https://localhost:8080/",
          "height": 318
        },
        "id": "SbFLIixmIo40",
        "outputId": "443bdb44-406c-4e48-83da-210df6409667"
      },
      "outputs": [
        {
          "data": {
            "text/plain": [
              "[<matplotlib.lines.Line2D at 0x13212bfa0>]"
            ]
          },
          "execution_count": 16,
          "metadata": {},
          "output_type": "execute_result"
        },
        {
          "data": {
            "image/png": "[encoded data removed]",
            "text/plain": [
              "<Figure size 432x288 with 1 Axes>"
            ]
          },
          "metadata": {
            "needs_background": "light"
          },
          "output_type": "display_data"
        }
      ],
      "source": [
        "plt.xlabel(\"SVI\")\n",
        "plt.ylabel(\"CVAC\")\n",
        "plt.title(\"SVI-CVAC Correlation\",fontsize=20)\n",
        "plt.plot(vaccinehesitancy['SVI'],vaccinehesitancy['CVAC'], \"o\")\n",
        "m1, b1 = np.polyfit(vaccinehesitancy['SVI'], vaccinehesitancy['CVAC'], 1)\n",
        "plt.plot(vaccinehesitancy['SVI'], m1*vaccinehesitancy['SVI'] + b1)"
      ]
    },
    {
      "cell_type": "markdown",
      "metadata": {
        "id": "9Ct_X3MiHmOL"
      },
      "source": [
        "### Pearson correlation shows...."
      ]
    },
    {
      "cell_type": "markdown",
      "metadata": {
        "id": "2ZQnOhF4OsGc"
      },
      "source": [
        "## Hesitancy and SVI"
      ]
    },
    {
      "cell_type": "code",
      "execution_count": 17,
      "metadata": {
        "id": "D3LU28YdMGaB"
      },
      "outputs": [],
      "source": [
        "hesitant = vaccinehesitancy['Estimated hesitant']\n",
        "hest = vaccinehesitancy['Estimated hesitant or unsure']\n",
        "stronglyhesitant = vaccinehesitancy['Estimated strongly hesitant']"
      ]
    },
    {
      "cell_type": "code",
      "execution_count": 18,
      "metadata": {
        "colab": {
          "base_uri": "https://localhost:8080/"
        },
        "id": "aA2U2yziMGXi",
        "outputId": "44604b77-2611-4225-b79d-a4c1841fd2b3"
      },
      "outputs": [
        {
          "name": "stdout",
          "output_type": "stream",
          "text": [
            "The Pearson correlation coefficient matrix for Hesitant\n",
            "                         SVI  Estimated hesitant\n",
            "SVI                 1.00000             0.28231\n",
            "Estimated hesitant  0.28231             1.00000 \n",
            "\n",
            "The Pearson correlation coefficient matrix for Hesitant or Unsure\n",
            "                                   SVI  Estimated hesitant or unsure\n",
            "SVI                           1.00000                       0.38649\n",
            "Estimated hesitant or unsure  0.38649                       1.00000 \n",
            "\n",
            "The Pearson correlation coefficient matrix for Strongly Hesitant\n",
            "                                   SVI  Estimated strongly hesitant\n",
            "SVI                          1.000000                     0.299722\n",
            "Estimated strongly hesitant  0.299722                     1.000000\n"
          ]
        }
      ],
      "source": [
        "hesitant_pearson = vaccinehesitancy[['SVI','Estimated hesitant']].corr(method='pearson')\n",
        "hesitantunsure_pearson = vaccinehesitancy[['SVI','Estimated hesitant or unsure']].corr(method='pearson')\n",
        "stronglyhesitant_pearson = vaccinehesitancy[['SVI','Estimated strongly hesitant']].corr(method='pearson')\n",
        "print(\"The Pearson correlation coefficient matrix for Hesitant\\n\", hesitant_pearson, \"\\n\")\n",
        "print(\"The Pearson correlation coefficient matrix for Hesitant or Unsure\\n\", hesitantunsure_pearson, \"\\n\")\n",
        "print(\"The Pearson correlation coefficient matrix for Strongly Hesitant\\n\", stronglyhesitant_pearson)"
      ]
    },
    {
      "cell_type": "code",
      "execution_count": 19,
      "metadata": {
        "colab": {
          "base_uri": "https://localhost:8080/",
          "height": 312
        },
        "id": "V9Rttw37T61F",
        "outputId": "79f242f9-ba8c-4ebd-bb80-2c88549c6c89"
      },
      "outputs": [
        {
          "data": {
            "text/plain": [
              "[<matplotlib.lines.Line2D at 0x13251c940>]"
            ]
          },
          "execution_count": 19,
          "metadata": {},
          "output_type": "execute_result"
        },
        {
          "data": {
            "image/png": "[encoded data removed]",
            "text/plain": [
              "<Figure size 432x288 with 3 Axes>"
            ]
          },
          "metadata": {
            "needs_background": "light"
          },
          "output_type": "display_data"
        }
      ],
      "source": [
        "fig, (ax1, ax2, ax3) = plt.subplots(1, 3)\n",
        "x = vaccinehesitancy['SVI']\n",
        "y1 = vaccinehesitancy['Estimated hesitant']\n",
        "y2 = vaccinehesitancy['Estimated hesitant or unsure']\n",
        "y3 = vaccinehesitancy['Estimated strongly hesitant']\n",
        "m1, b1 = np.polyfit(x, y1, 1)\n",
        "m2, b2 = np.polyfit(x, y2, 1)\n",
        "m3, b3 = np.polyfit(x, y3, 1)\n",
        "fig.suptitle('SVI with hesitancy rates')\n",
        "ax1.plot(x,y1, 'o')\n",
        "ax1.plot(x, m1*x + b1)\n",
        "ax2.plot(x,y2,'o')\n",
        "ax2.plot(x, m2*x + b2)\n",
        "ax3.plot(x,y3, 'o')\n",
        "ax3.plot(x, m3*x + b3)\n"
      ]
    },
    {
      "cell_type": "markdown",
      "metadata": {
        "id": "8phpyuKafYny"
      },
      "source": [
        "The Pearson correlation shows a positive correlation between the categories of hesitancy and the SVI score. As shown in the correlation coefficient matrix, the category with the highest correlation to SVI is the \"estimated hesitant or unsure.\""
      ]
    },
    {
      "cell_type": "markdown",
      "metadata": {
        "id": "MqiEmGrffYyu"
      },
      "source": [
        "## States and SVI"
      ]
    },
    {
      "cell_type": "code",
      "execution_count": 20,
      "metadata": {
        "id": "ol9xc8lwfeeW"
      },
      "outputs": [],
      "source": [
        "svicat = ['high vulnerability', 'low vulnerability', 'moderate vulnerability', 'very high vulnerability', 'very low vulnerability']"
      ]
    },
    {
      "cell_type": "code",
      "execution_count": 21,
      "metadata": {
        "colab": {
          "base_uri": "https://localhost:8080/",
          "height": 956
        },
        "id": "MK0_WAJwg-IT",
        "outputId": "dd93d467-d57b-49ec-f033-c30610937450"
      },
      "outputs": [
        {
          "data": {
            "text/html": [
              "<div>\n",
              "<style scoped>\n",
              "    .dataframe tbody tr th:only-of-type {\n",
              "        vertical-align: middle;\n",
              "    }\n",
              "\n",
              "    .dataframe tbody tr th {\n",
              "        vertical-align: top;\n",
              "    }\n",
              "\n",
              "    .dataframe thead th {\n",
              "        text-align: right;\n",
              "    }\n",
              "</style>\n",
              "<table border=\"1\" class=\"dataframe\">\n",
              "  <thead>\n",
              "    <tr style=\"text-align: right;\">\n",
              "      <th></th>\n",
              "      <th>FIPS Code</th>\n",
              "      <th>County Name</th>\n",
              "      <th>State</th>\n",
              "      <th>Estimated hesitant</th>\n",
              "      <th>Estimated hesitant or unsure</th>\n",
              "      <th>Estimated strongly hesitant</th>\n",
              "      <th>SVI</th>\n",
              "      <th>SVI Category</th>\n",
              "      <th>CVAC</th>\n",
              "      <th>CVAC Category</th>\n",
              "      <th>Percent adults fully vaccinated against COVID-19 (as of 6/10/21)</th>\n",
              "      <th>Percent Hispanic</th>\n",
              "      <th>Percent non-Hispanic American Indian/Alaska Native</th>\n",
              "      <th>Percent non-Hispanic Asian</th>\n",
              "      <th>Percent non-Hispanic Black</th>\n",
              "      <th>Percent non-Hispanic Native Hawaiian/Pacific Islander</th>\n",
              "      <th>Percent non-Hispanic White</th>\n",
              "      <th>State Code</th>\n",
              "    </tr>\n",
              "  </thead>\n",
              "  <tbody>\n",
              "    <tr>\n",
              "      <th>0</th>\n",
              "      <td>1001</td>\n",
              "      <td>autauga county, alabama</td>\n",
              "      <td>alabama</td>\n",
              "      <td>0.1685</td>\n",
              "      <td>0.2233</td>\n",
              "      <td>0.1272</td>\n",
              "      <td>0.44</td>\n",
              "      <td>moderate vulnerability</td>\n",
              "      <td>0.61</td>\n",
              "      <td>high concern</td>\n",
              "      <td>0.288</td>\n",
              "      <td>0.0283</td>\n",
              "      <td>0.0025</td>\n",
              "      <td>0.0103</td>\n",
              "      <td>0.1900</td>\n",
              "      <td>0.0001</td>\n",
              "      <td>0.7460</td>\n",
              "      <td>AL</td>\n",
              "    </tr>\n",
              "    <tr>\n",
              "      <th>1</th>\n",
              "      <td>1003</td>\n",
              "      <td>baldwin county, alabama</td>\n",
              "      <td>alabama</td>\n",
              "      <td>0.1544</td>\n",
              "      <td>0.1988</td>\n",
              "      <td>0.1169</td>\n",
              "      <td>0.22</td>\n",
              "      <td>low vulnerability</td>\n",
              "      <td>0.23</td>\n",
              "      <td>low concern</td>\n",
              "      <td>0.336</td>\n",
              "      <td>0.0456</td>\n",
              "      <td>0.0065</td>\n",
              "      <td>0.0092</td>\n",
              "      <td>0.0917</td>\n",
              "      <td>0.0000</td>\n",
              "      <td>0.8307</td>\n",
              "      <td>AL</td>\n",
              "    </tr>\n",
              "    <tr>\n",
              "      <th>2</th>\n",
              "      <td>1005</td>\n",
              "      <td>barbour county, alabama</td>\n",
              "      <td>alabama</td>\n",
              "      <td>0.1676</td>\n",
              "      <td>0.2337</td>\n",
              "      <td>0.1274</td>\n",
              "      <td>1.00</td>\n",
              "      <td>very high vulnerability</td>\n",
              "      <td>0.89</td>\n",
              "      <td>very high concern</td>\n",
              "      <td>0.257</td>\n",
              "      <td>0.0436</td>\n",
              "      <td>0.0029</td>\n",
              "      <td>0.0048</td>\n",
              "      <td>0.4744</td>\n",
              "      <td>0.0000</td>\n",
              "      <td>0.4581</td>\n",
              "      <td>AL</td>\n",
              "    </tr>\n",
              "    <tr>\n",
              "      <th>3</th>\n",
              "      <td>1007</td>\n",
              "      <td>bibb county, alabama</td>\n",
              "      <td>alabama</td>\n",
              "      <td>0.1808</td>\n",
              "      <td>0.2526</td>\n",
              "      <td>0.1390</td>\n",
              "      <td>0.60</td>\n",
              "      <td>high vulnerability</td>\n",
              "      <td>0.76</td>\n",
              "      <td>high concern</td>\n",
              "      <td>0.222</td>\n",
              "      <td>0.0257</td>\n",
              "      <td>0.0013</td>\n",
              "      <td>0.0012</td>\n",
              "      <td>0.2214</td>\n",
              "      <td>0.0000</td>\n",
              "      <td>0.7453</td>\n",
              "      <td>AL</td>\n",
              "    </tr>\n",
              "    <tr>\n",
              "      <th>4</th>\n",
              "      <td>1009</td>\n",
              "      <td>blount county, alabama</td>\n",
              "      <td>alabama</td>\n",
              "      <td>0.1854</td>\n",
              "      <td>0.2362</td>\n",
              "      <td>0.1416</td>\n",
              "      <td>0.42</td>\n",
              "      <td>moderate vulnerability</td>\n",
              "      <td>0.80</td>\n",
              "      <td>high concern</td>\n",
              "      <td>0.215</td>\n",
              "      <td>0.0926</td>\n",
              "      <td>0.0007</td>\n",
              "      <td>0.0037</td>\n",
              "      <td>0.0153</td>\n",
              "      <td>0.0004</td>\n",
              "      <td>0.8689</td>\n",
              "      <td>AL</td>\n",
              "    </tr>\n",
              "    <tr>\n",
              "      <th>...</th>\n",
              "      <td>...</td>\n",
              "      <td>...</td>\n",
              "      <td>...</td>\n",
              "      <td>...</td>\n",
              "      <td>...</td>\n",
              "      <td>...</td>\n",
              "      <td>...</td>\n",
              "      <td>...</td>\n",
              "      <td>...</td>\n",
              "      <td>...</td>\n",
              "      <td>...</td>\n",
              "      <td>...</td>\n",
              "      <td>...</td>\n",
              "      <td>...</td>\n",
              "      <td>...</td>\n",
              "      <td>...</td>\n",
              "      <td>...</td>\n",
              "      <td>...</td>\n",
              "    </tr>\n",
              "    <tr>\n",
              "      <th>3136</th>\n",
              "      <td>56037</td>\n",
              "      <td>sweetwater county, wyoming</td>\n",
              "      <td>wyoming</td>\n",
              "      <td>0.2184</td>\n",
              "      <td>0.2843</td>\n",
              "      <td>0.1584</td>\n",
              "      <td>0.37</td>\n",
              "      <td>low vulnerability</td>\n",
              "      <td>0.56</td>\n",
              "      <td>moderate concern</td>\n",
              "      <td>0.348</td>\n",
              "      <td>0.1588</td>\n",
              "      <td>0.0102</td>\n",
              "      <td>0.0074</td>\n",
              "      <td>0.0112</td>\n",
              "      <td>0.0003</td>\n",
              "      <td>0.7956</td>\n",
              "      <td>WY</td>\n",
              "    </tr>\n",
              "    <tr>\n",
              "      <th>3137</th>\n",
              "      <td>56039</td>\n",
              "      <td>teton county, wyoming</td>\n",
              "      <td>wyoming</td>\n",
              "      <td>0.2050</td>\n",
              "      <td>0.2671</td>\n",
              "      <td>0.1472</td>\n",
              "      <td>0.11</td>\n",
              "      <td>very low vulnerability</td>\n",
              "      <td>0.44</td>\n",
              "      <td>moderate concern</td>\n",
              "      <td>0.789</td>\n",
              "      <td>0.1503</td>\n",
              "      <td>0.0033</td>\n",
              "      <td>0.0125</td>\n",
              "      <td>0.0124</td>\n",
              "      <td>0.0012</td>\n",
              "      <td>0.8134</td>\n",
              "      <td>WY</td>\n",
              "    </tr>\n",
              "    <tr>\n",
              "      <th>3138</th>\n",
              "      <td>56041</td>\n",
              "      <td>uinta county, wyoming</td>\n",
              "      <td>wyoming</td>\n",
              "      <td>0.2184</td>\n",
              "      <td>0.2843</td>\n",
              "      <td>0.1584</td>\n",
              "      <td>0.45</td>\n",
              "      <td>moderate vulnerability</td>\n",
              "      <td>0.48</td>\n",
              "      <td>moderate concern</td>\n",
              "      <td>0.388</td>\n",
              "      <td>0.0913</td>\n",
              "      <td>0.0065</td>\n",
              "      <td>0.0016</td>\n",
              "      <td>0.0011</td>\n",
              "      <td>0.0000</td>\n",
              "      <td>0.8752</td>\n",
              "      <td>WY</td>\n",
              "    </tr>\n",
              "    <tr>\n",
              "      <th>3139</th>\n",
              "      <td>56043</td>\n",
              "      <td>washakie county, wyoming</td>\n",
              "      <td>wyoming</td>\n",
              "      <td>0.2283</td>\n",
              "      <td>0.2943</td>\n",
              "      <td>0.1687</td>\n",
              "      <td>0.37</td>\n",
              "      <td>low vulnerability</td>\n",
              "      <td>0.69</td>\n",
              "      <td>high concern</td>\n",
              "      <td>0.364</td>\n",
              "      <td>0.1423</td>\n",
              "      <td>0.0052</td>\n",
              "      <td>0.0000</td>\n",
              "      <td>0.0004</td>\n",
              "      <td>0.0000</td>\n",
              "      <td>0.8190</td>\n",
              "      <td>WY</td>\n",
              "    </tr>\n",
              "    <tr>\n",
              "      <th>3140</th>\n",
              "      <td>56045</td>\n",
              "      <td>weston county, wyoming</td>\n",
              "      <td>wyoming</td>\n",
              "      <td>0.2283</td>\n",
              "      <td>0.2943</td>\n",
              "      <td>0.1687</td>\n",
              "      <td>0.35</td>\n",
              "      <td>low vulnerability</td>\n",
              "      <td>0.51</td>\n",
              "      <td>moderate concern</td>\n",
              "      <td>0.311</td>\n",
              "      <td>0.0108</td>\n",
              "      <td>0.0017</td>\n",
              "      <td>0.0077</td>\n",
              "      <td>0.0023</td>\n",
              "      <td>0.0011</td>\n",
              "      <td>0.9637</td>\n",
              "      <td>WY</td>\n",
              "    </tr>\n",
              "  </tbody>\n",
              "</table>\n",
              "<p>3141 rows × 18 columns</p>\n",
              "</div>"
            ],
            "text/plain": [
              "      FIPS Code                 County Name    State  Estimated hesitant  \\\n",
              "0          1001     autauga county, alabama  alabama              0.1685   \n",
              "1          1003     baldwin county, alabama  alabama              0.1544   \n",
              "2          1005     barbour county, alabama  alabama              0.1676   \n",
              "3          1007        bibb county, alabama  alabama              0.1808   \n",
              "4          1009      blount county, alabama  alabama              0.1854   \n",
              "...         ...                         ...      ...                 ...   \n",
              "3136      56037  sweetwater county, wyoming  wyoming              0.2184   \n",
              "3137      56039       teton county, wyoming  wyoming              0.2050   \n",
              "3138      56041       uinta county, wyoming  wyoming              0.2184   \n",
              "3139      56043    washakie county, wyoming  wyoming              0.2283   \n",
              "3140      56045      weston county, wyoming  wyoming              0.2283   \n",
              "\n",
              "      Estimated hesitant or unsure  Estimated strongly hesitant   SVI  \\\n",
              "0                           0.2233                       0.1272  0.44   \n",
              "1                           0.1988                       0.1169  0.22   \n",
              "2                           0.2337                       0.1274  1.00   \n",
              "3                           0.2526                       0.1390  0.60   \n",
              "4                           0.2362                       0.1416  0.42   \n",
              "...                            ...                          ...   ...   \n",
              "3136                        0.2843                       0.1584  0.37   \n",
              "3137                        0.2671                       0.1472  0.11   \n",
              "3138                        0.2843                       0.1584  0.45   \n",
              "3139                        0.2943                       0.1687  0.37   \n",
              "3140                        0.2943                       0.1687  0.35   \n",
              "\n",
              "                 SVI Category  CVAC      CVAC Category  \\\n",
              "0      moderate vulnerability  0.61       high concern   \n",
              "1           low vulnerability  0.23        low concern   \n",
              "2     very high vulnerability  0.89  very high concern   \n",
              "3          high vulnerability  0.76       high concern   \n",
              "4      moderate vulnerability  0.80       high concern   \n",
              "...                       ...   ...                ...   \n",
              "3136        low vulnerability  0.56   moderate concern   \n",
              "3137   very low vulnerability  0.44   moderate concern   \n",
              "3138   moderate vulnerability  0.48   moderate concern   \n",
              "3139        low vulnerability  0.69       high concern   \n",
              "3140        low vulnerability  0.51   moderate concern   \n",
              "\n",
              "      Percent adults fully vaccinated against COVID-19 (as of 6/10/21)  \\\n",
              "0                                                 0.288                  \n",
              "1                                                 0.336                  \n",
              "2                                                 0.257                  \n",
              "3                                                 0.222                  \n",
              "4                                                 0.215                  \n",
              "...                                                 ...                  \n",
              "3136                                              0.348                  \n",
              "3137                                              0.789                  \n",
              "3138                                              0.388                  \n",
              "3139                                              0.364                  \n",
              "3140                                              0.311                  \n",
              "\n",
              "      Percent Hispanic  Percent non-Hispanic American Indian/Alaska Native  \\\n",
              "0               0.0283                                             0.0025    \n",
              "1               0.0456                                             0.0065    \n",
              "2               0.0436                                             0.0029    \n",
              "3               0.0257                                             0.0013    \n",
              "4               0.0926                                             0.0007    \n",
              "...                ...                                                ...    \n",
              "3136            0.1588                                             0.0102    \n",
              "3137            0.1503                                             0.0033    \n",
              "3138            0.0913                                             0.0065    \n",
              "3139            0.1423                                             0.0052    \n",
              "3140            0.0108                                             0.0017    \n",
              "\n",
              "      Percent non-Hispanic Asian  Percent non-Hispanic Black  \\\n",
              "0                         0.0103                      0.1900   \n",
              "1                         0.0092                      0.0917   \n",
              "2                         0.0048                      0.4744   \n",
              "3                         0.0012                      0.2214   \n",
              "4                         0.0037                      0.0153   \n",
              "...                          ...                         ...   \n",
              "3136                      0.0074                      0.0112   \n",
              "3137                      0.0125                      0.0124   \n",
              "3138                      0.0016                      0.0011   \n",
              "3139                      0.0000                      0.0004   \n",
              "3140                      0.0077                      0.0023   \n",
              "\n",
              "      Percent non-Hispanic Native Hawaiian/Pacific Islander  \\\n",
              "0                                                0.0001       \n",
              "1                                                0.0000       \n",
              "2                                                0.0000       \n",
              "3                                                0.0000       \n",
              "4                                                0.0004       \n",
              "...                                                 ...       \n",
              "3136                                             0.0003       \n",
              "3137                                             0.0012       \n",
              "3138                                             0.0000       \n",
              "3139                                             0.0000       \n",
              "3140                                             0.0011       \n",
              "\n",
              "      Percent non-Hispanic White State Code  \n",
              "0                         0.7460         AL  \n",
              "1                         0.8307         AL  \n",
              "2                         0.4581         AL  \n",
              "3                         0.7453         AL  \n",
              "4                         0.8689         AL  \n",
              "...                          ...        ...  \n",
              "3136                      0.7956         WY  \n",
              "3137                      0.8134         WY  \n",
              "3138                      0.8752         WY  \n",
              "3139                      0.8190         WY  \n",
              "3140                      0.9637         WY  \n",
              "\n",
              "[3141 rows x 18 columns]"
            ]
          },
          "execution_count": 21,
          "metadata": {},
          "output_type": "execute_result"
        }
      ],
      "source": [
        "vaccinehesitancy"
      ]
    },
    {
      "cell_type": "code",
      "execution_count": 22,
      "metadata": {
        "colab": {
          "base_uri": "https://localhost:8080/"
        },
        "id": "cZU4Ep2MNeED",
        "outputId": "db60e6f9-9a5d-4e0b-c913-aeaf4704b505"
      },
      "outputs": [
        {
          "data": {
            "text/plain": [
              "([0.0, 0.2], [0.2, 0.4], [0.4, 0.6], [0.6, 0.8], [0.8, 1.0])"
            ]
          },
          "execution_count": 22,
          "metadata": {},
          "output_type": "execute_result"
        }
      ],
      "source": [
        "vlow= [1,0]\n",
        "low = [1, 0]\n",
        "mod = [1, 0]\n",
        "high = [1, 0]\n",
        "vhigh = [1, 0]\n",
        "def findcutoffs():\n",
        "  svicat = vaccinehesitancy['SVI Category']\n",
        "  svi = vaccinehesitancy['SVI']\n",
        "  for i in range(3141):\n",
        "    if svicat[i] == \"very low vulnerability\":\n",
        "      if svi[i] < vlow[0]:\n",
        "        vlow[0] = svi[i]\n",
        "      if svi[i] > vlow[1]:\n",
        "        vlow[1] = svi[i]\n",
        "    if svicat[i] == \"low vulnerability\":\n",
        "      if svi[i] < low[0]:\n",
        "        low[0] = svi[i]\n",
        "      if svi[i] > low[1]:\n",
        "        low[1] = svi[i]\n",
        "    elif svicat[i] == \"moderate vulnerability\":\n",
        "      if svi[i] < mod[0]:\n",
        "        mod[0] = svi[i]\n",
        "      if svi[i] > mod[1]:\n",
        "        mod[1] = svi[i]\n",
        "    elif svicat[i] == \"high vulnerability\":\n",
        "      if svi[i] < high[0]:\n",
        "        high[0] = svi[i]\n",
        "      if svi[i] > high[1]:\n",
        "        high[1] = svi[i]\n",
        "    elif svicat[i] == \"very high vulnerability\":\n",
        "      if svi[i] < vhigh[0]:\n",
        "        vhigh[0] = svi[i]\n",
        "      if svi[i] > vhigh[1]:\n",
        "        vhigh[1] = svi[i]\n",
        "  return (vlow, low, mod, high, vhigh)\n",
        "\n",
        "findcutoffs()"
      ]
    },
    {
      "cell_type": "code",
      "execution_count": 23,
      "metadata": {
        "id": "geWfYVN8QJTI"
      },
      "outputs": [],
      "source": [
        "states = {}\n",
        "for i in vaccinehesitancy['State']:\n",
        "  if i not in states:\n",
        "    states[i] = 1\n",
        "  else:\n",
        "    states[i] += 1"
      ]
    },
    {
      "cell_type": "code",
      "execution_count": 24,
      "metadata": {
        "id": "riQ-hnT0Qb9e"
      },
      "outputs": [],
      "source": [
        "averagesvi = {}\n",
        "def getaveragesvi():\n",
        "  for s in states:\n",
        "    for i in range(3141):\n",
        "      if vaccinehesitancy['State'][i] == s:\n",
        "        if s not in averagesvi:\n",
        "          averagesvi[s] = vaccinehesitancy['SVI'][i]\n",
        "        else:\n",
        "          averagesvi[s] += vaccinehesitancy['SVI'][i]\n",
        "    averagesvi[s] = averagesvi[s]/states.get(s)\n",
        "getaveragesvi()"
      ]
    },
    {
      "cell_type": "code",
      "execution_count": 25,
      "metadata": {
        "id": "qR-UJG1Say7c"
      },
      "outputs": [],
      "source": [
        "averagecvac = {}\n",
        "def getaveragecvac():\n",
        "  for s in states:\n",
        "    for i in range(3141):\n",
        "      if vaccinehesitancy['State'][i] == s:\n",
        "        if s not in averagecvac:\n",
        "          averagecvac[s] = vaccinehesitancy['CVAC'][i]\n",
        "        else:\n",
        "          averagecvac[s] += vaccinehesitancy['CVAC'][i]\n",
        "    averagecvac[s] = averagecvac[s]/states.get(s)\n",
        "getaveragecvac()"
      ]
    },
    {
      "cell_type": "code",
      "execution_count": 26,
      "metadata": {
        "colab": {
          "base_uri": "https://localhost:8080/"
        },
        "id": "o0u9SghiTfn1",
        "outputId": "fff689b2-bc68-4d6b-d612-b227afd32d04"
      },
      "outputs": [
        {
          "data": {
            "text/plain": [
              "[['north dakota', 0.16641509433962265, 'very low vulnerability'],\n",
              " ['new hampshire', 0.16699999999999998, 'very low vulnerability'],\n",
              " ['vermont', 0.1992857142857143, 'very low vulnerability'],\n",
              " ['nebraska', 0.20161290322580633, 'low vulnerability'],\n",
              " ['iowa', 0.2391919191919191, 'low vulnerability'],\n",
              " ['wisconsin', 0.24097222222222228, 'low vulnerability'],\n",
              " ['wyoming', 0.2534782608695652, 'low vulnerability'],\n",
              " ['rhode island', 0.26, 'low vulnerability'],\n",
              " ['minnesota', 0.26988505747126434, 'low vulnerability'],\n",
              " ['montana', 0.2819642857142857, 'low vulnerability'],\n",
              " ['connecticut', 0.31625, 'low vulnerability'],\n",
              " ['south dakota', 0.32045454545454544, 'low vulnerability'],\n",
              " ['kansas', 0.320952380952381, 'low vulnerability'],\n",
              " ['utah', 0.32172413793103444, 'low vulnerability'],\n",
              " ['maine', 0.329375, 'low vulnerability'],\n",
              " ['massachusetts', 0.33, 'low vulnerability'],\n",
              " ['maryland', 0.36375, 'low vulnerability'],\n",
              " ['indiana', 0.3641304347826087, 'low vulnerability'],\n",
              " ['pennsylvania', 0.37298507462686575, 'low vulnerability'],\n",
              " ['illinois', 0.3778431372549021, 'low vulnerability'],\n",
              " ['colorado', 0.3959375, 'low vulnerability'],\n",
              " ['ohio', 0.39784090909090924, 'low vulnerability'],\n",
              " ['hawaii', 0.414, 'moderate vulnerability'],\n",
              " ['new jersey', 0.4195238095238095, 'moderate vulnerability'],\n",
              " ['michigan', 0.4207228915662649, 'moderate vulnerability'],\n",
              " ['virginia', 0.429172932330827, 'moderate vulnerability'],\n",
              " ['idaho', 0.4475000000000001, 'moderate vulnerability'],\n",
              " ['new york', 0.4680645161290323, 'moderate vulnerability'],\n",
              " ['missouri', 0.4962608695652175, 'moderate vulnerability'],\n",
              " ['delaware', 0.5033333333333333, 'moderate vulnerability'],\n",
              " ['washington', 0.5187179487179487, 'moderate vulnerability'],\n",
              " ['west virginia', 0.5199999999999999, 'moderate vulnerability'],\n",
              " ['nevada', 0.5582352941176469, 'moderate vulnerability'],\n",
              " ['alaska', 0.5617241379310345, 'moderate vulnerability'],\n",
              " ['tennessee', 0.5849473684210527, 'moderate vulnerability'],\n",
              " ['district of columbia', 0.6, 'high vulnerability'],\n",
              " ['oregon', 0.6052777777777778, 'high vulnerability'],\n",
              " ['kentucky', 0.6137500000000004, 'high vulnerability'],\n",
              " ['california', 0.6337931034482757, 'high vulnerability'],\n",
              " ['oklahoma', 0.6475324675324674, 'high vulnerability'],\n",
              " ['florida', 0.6595522388059704, 'high vulnerability'],\n",
              " ['north carolina', 0.6613000000000001, 'high vulnerability'],\n",
              " ['texas', 0.6769291338582679, 'high vulnerability'],\n",
              " ['alabama', 0.7034328358208953, 'high vulnerability'],\n",
              " ['georgia', 0.7082389937106918, 'high vulnerability'],\n",
              " ['arkansas', 0.7177333333333333, 'high vulnerability'],\n",
              " ['south carolina', 0.7582608695652174, 'high vulnerability'],\n",
              " ['new mexico', 0.7890625, 'high vulnerability'],\n",
              " ['louisiana', 0.7890625000000003, 'high vulnerability'],\n",
              " ['mississippi', 0.8069512195121952, 'very high vulnerability'],\n",
              " ['arizona', 0.846, 'very high vulnerability']]"
            ]
          },
          "execution_count": 26,
          "metadata": {},
          "output_type": "execute_result"
        }
      ],
      "source": [
        "sorted_svi_average = []\n",
        "for w in sorted(averagesvi, key=averagesvi.get, reverse=False):\n",
        "    if float(vlow[0]) <= float(averagesvi[w]) < float(vlow[1]):\n",
        "      sorted_svi_average.append([w, averagesvi[w],\"very low vulnerability\"])\n",
        "    if float(low[0]) <= float(averagesvi[w]) < float(low[1]):\n",
        "      sorted_svi_average.append([w, averagesvi[w],\"low vulnerability\"])\n",
        "    if float(mod[0]) <= float(averagesvi[w]) < float(mod[1]):\n",
        "      sorted_svi_average.append([w, averagesvi[w],\"moderate vulnerability\"])\n",
        "    if float(high[0]) <= float(averagesvi[w]) < float(high[1]):\n",
        "      sorted_svi_average.append([w, averagesvi[w],\"high vulnerability\"])\n",
        "    if float(vhigh[0]) <= float(averagesvi[w]) < float(vhigh[1]):\n",
        "      sorted_svi_average.append([w, averagesvi[w],\"very high vulnerability\"])\n",
        "sorted_svi_average"
      ]
    },
    {
      "cell_type": "code",
      "execution_count": 27,
      "metadata": {
        "colab": {
          "base_uri": "https://localhost:8080/"
        },
        "id": "YY7SoXfkWVcJ",
        "outputId": "4c9f3e3c-6f68-4aa2-cc7e-da5b0d1df046"
      },
      "outputs": [
        {
          "data": {
            "text/plain": [
              "[['rhode island', 0.02, 'very low concern'],\n",
              " ['connecticut', 0.031249999999999997, 'very low concern'],\n",
              " ['massachusetts', 0.03285714285714286, 'very low concern'],\n",
              " ['iowa', 0.05949494949494945, 'very low concern'],\n",
              " ['new hampshire', 0.097, 'very low concern'],\n",
              " ['new jersey', 0.15761904761904763, 'very low concern'],\n",
              " ['north dakota', 0.16584905660377358, 'very low concern'],\n",
              " ['district of columbia', 0.17, 'very low concern'],\n",
              " ['maryland', 0.17041666666666666, 'very low concern'],\n",
              " ['wisconsin', 0.17152777777777778, 'very low concern'],\n",
              " ['vermont', 0.19714285714285715, 'very low concern'],\n",
              " ['delaware', 0.19999999999999998, 'very low concern'],\n",
              " ['pennsylvania', 0.202089552238806, 'low concern'],\n",
              " ['ohio', 0.2240909090909091, 'low concern'],\n",
              " ['new york', 0.23483870967741946, 'low concern'],\n",
              " ['nebraska', 0.23677419354838702, 'low concern'],\n",
              " ['kentucky', 0.27166666666666656, 'low concern'],\n",
              " ['south dakota', 0.2806060606060607, 'low concern'],\n",
              " ['virginia', 0.3079699248120303, 'low concern'],\n",
              " ['maine', 0.3118749999999999, 'low concern'],\n",
              " ['hawaii', 0.32599999999999996, 'low concern'],\n",
              " ['montana', 0.32839285714285715, 'low concern'],\n",
              " ['minnesota', 0.330919540229885, 'low concern'],\n",
              " ['colorado', 0.34859375, 'low concern'],\n",
              " ['idaho', 0.3875, 'low concern'],\n",
              " ['illinois', 0.3880392156862745, 'low concern'],\n",
              " ['west virginia', 0.3932727272727273, 'low concern'],\n",
              " ['michigan', 0.40024096385542185, 'moderate concern'],\n",
              " ['kansas', 0.4539047619047619, 'moderate concern'],\n",
              " ['washington', 0.46051282051282055, 'moderate concern'],\n",
              " ['utah', 0.5072413793103447, 'moderate concern'],\n",
              " ['oregon', 0.5294444444444445, 'moderate concern'],\n",
              " ['wyoming', 0.557391304347826, 'moderate concern'],\n",
              " ['new mexico', 0.605625, 'high concern'],\n",
              " ['indiana', 0.6163043478260868, 'high concern'],\n",
              " ['north carolina', 0.6313000000000001, 'high concern'],\n",
              " ['california', 0.6332758620689656, 'high concern'],\n",
              " ['arkansas', 0.6447999999999999, 'high concern'],\n",
              " ['south carolina', 0.662608695652174, 'high concern'],\n",
              " ['oklahoma', 0.6957142857142862, 'high concern'],\n",
              " ['missouri', 0.7022608695652176, 'high concern'],\n",
              " ['alabama', 0.7201492537313435, 'high concern'],\n",
              " ['florida', 0.7238805970149254, 'high concern'],\n",
              " ['louisiana', 0.74203125, 'high concern'],\n",
              " ['alaska', 0.7444827586206897, 'high concern'],\n",
              " ['tennessee', 0.7517894736842103, 'high concern'],\n",
              " ['georgia', 0.7531446540880505, 'high concern'],\n",
              " ['nevada', 0.7905882352941177, 'high concern'],\n",
              " ['mississippi', 0.8795121951219512, 'very high concern'],\n",
              " ['texas', 0.8803937007874016, 'very high concern'],\n",
              " ['arizona', 0.9013333333333333, 'very high concern']]"
            ]
          },
          "execution_count": 27,
          "metadata": {},
          "output_type": "execute_result"
        }
      ],
      "source": [
        "sorted_cvac_average = []\n",
        "for w in sorted(averagecvac, key=averagecvac.get, reverse=False):\n",
        "    if float(vlow[0]) <= float(averagecvac[w]) < float(vlow[1]):\n",
        "      sorted_cvac_average.append([w, averagecvac[w],\"very low concern\"])\n",
        "    if float(low[0]) <= float(averagecvac[w]) < float(low[1]):\n",
        "      sorted_cvac_average.append([w, averagecvac[w],\"low concern\"])\n",
        "    if float(mod[0]) <= float(averagecvac[w]) < float(mod[1]):\n",
        "      sorted_cvac_average.append([w, averagecvac[w],\"moderate concern\"])\n",
        "    if float(high[0]) <= float(averagecvac[w]) < float(high[1]):\n",
        "      sorted_cvac_average.append([w, averagecvac[w],\"high concern\"])\n",
        "    if float(vhigh[0]) <= float(averagecvac[w]) < float(vhigh[1]):\n",
        "      sorted_cvac_average.append([w, averagecvac[w],\"very high concern\"])\n",
        "sorted_cvac_average"
      ]
    },
    {
      "cell_type": "markdown",
      "metadata": {
        "id": "0TS9RuIzAAu1"
      },
      "source": [
        "## SVI, CVAC, and Race"
      ]
    },
    {
      "cell_type": "markdown",
      "metadata": {
        "id": "xkxhZY28ACgr"
      },
      "source": [
        "### Hispanic"
      ]
    },
    {
      "cell_type": "code",
      "execution_count": 28,
      "metadata": {
        "colab": {
          "base_uri": "https://localhost:8080/",
          "height": 112
        },
        "id": "H0AKruBCAEYZ",
        "outputId": "f4c2a255-e313-4a00-bbbf-8b8c0b4b007a"
      },
      "outputs": [
        {
          "data": {
            "text/html": [
              "<div>\n",
              "<style scoped>\n",
              "    .dataframe tbody tr th:only-of-type {\n",
              "        vertical-align: middle;\n",
              "    }\n",
              "\n",
              "    .dataframe tbody tr th {\n",
              "        vertical-align: top;\n",
              "    }\n",
              "\n",
              "    .dataframe thead th {\n",
              "        text-align: right;\n",
              "    }\n",
              "</style>\n",
              "<table border=\"1\" class=\"dataframe\">\n",
              "  <thead>\n",
              "    <tr style=\"text-align: right;\">\n",
              "      <th></th>\n",
              "      <th>SVI</th>\n",
              "      <th>Percent Hispanic</th>\n",
              "    </tr>\n",
              "  </thead>\n",
              "  <tbody>\n",
              "    <tr>\n",
              "      <th>SVI</th>\n",
              "      <td>1.000000</td>\n",
              "      <td>0.313903</td>\n",
              "    </tr>\n",
              "    <tr>\n",
              "      <th>Percent Hispanic</th>\n",
              "      <td>0.313903</td>\n",
              "      <td>1.000000</td>\n",
              "    </tr>\n",
              "  </tbody>\n",
              "</table>\n",
              "</div>"
            ],
            "text/plain": [
              "                       SVI  Percent Hispanic\n",
              "SVI               1.000000          0.313903\n",
              "Percent Hispanic  0.313903          1.000000"
            ]
          },
          "execution_count": 28,
          "metadata": {},
          "output_type": "execute_result"
        }
      ],
      "source": [
        "hispanic_svi_p = vaccinehesitancy[['SVI','Percent Hispanic']].corr(method='pearson')\n",
        "hispanic_svi_p"
      ]
    },
    {
      "cell_type": "code",
      "execution_count": 29,
      "metadata": {
        "colab": {
          "base_uri": "https://localhost:8080/",
          "height": 112
        },
        "id": "Kt4w-OC2bW3g",
        "outputId": "a929695e-dcd9-499d-e38b-8efe69b6600f"
      },
      "outputs": [
        {
          "data": {
            "text/html": [
              "<div>\n",
              "<style scoped>\n",
              "    .dataframe tbody tr th:only-of-type {\n",
              "        vertical-align: middle;\n",
              "    }\n",
              "\n",
              "    .dataframe tbody tr th {\n",
              "        vertical-align: top;\n",
              "    }\n",
              "\n",
              "    .dataframe thead th {\n",
              "        text-align: right;\n",
              "    }\n",
              "</style>\n",
              "<table border=\"1\" class=\"dataframe\">\n",
              "  <thead>\n",
              "    <tr style=\"text-align: right;\">\n",
              "      <th></th>\n",
              "      <th>SVI</th>\n",
              "      <th>Percent Hispanic</th>\n",
              "    </tr>\n",
              "  </thead>\n",
              "  <tbody>\n",
              "    <tr>\n",
              "      <th>SVI</th>\n",
              "      <td>1.000000</td>\n",
              "      <td>0.220508</td>\n",
              "    </tr>\n",
              "    <tr>\n",
              "      <th>Percent Hispanic</th>\n",
              "      <td>0.220508</td>\n",
              "      <td>1.000000</td>\n",
              "    </tr>\n",
              "  </tbody>\n",
              "</table>\n",
              "</div>"
            ],
            "text/plain": [
              "                       SVI  Percent Hispanic\n",
              "SVI               1.000000          0.220508\n",
              "Percent Hispanic  0.220508          1.000000"
            ]
          },
          "execution_count": 29,
          "metadata": {},
          "output_type": "execute_result"
        }
      ],
      "source": [
        "hispanic_svi_s = vaccinehesitancy[['SVI','Percent Hispanic']].corr(method='spearman')\n",
        "hispanic_svi_s"
      ]
    },
    {
      "cell_type": "code",
      "execution_count": 30,
      "metadata": {
        "colab": {
          "base_uri": "https://localhost:8080/",
          "height": 112
        },
        "id": "-dvNWC3ial5C",
        "outputId": "f7fa7bd8-9546-4dcd-ef92-4b546a91ae46"
      },
      "outputs": [
        {
          "data": {
            "text/html": [
              "<div>\n",
              "<style scoped>\n",
              "    .dataframe tbody tr th:only-of-type {\n",
              "        vertical-align: middle;\n",
              "    }\n",
              "\n",
              "    .dataframe tbody tr th {\n",
              "        vertical-align: top;\n",
              "    }\n",
              "\n",
              "    .dataframe thead th {\n",
              "        text-align: right;\n",
              "    }\n",
              "</style>\n",
              "<table border=\"1\" class=\"dataframe\">\n",
              "  <thead>\n",
              "    <tr style=\"text-align: right;\">\n",
              "      <th></th>\n",
              "      <th>CVAC</th>\n",
              "      <th>Percent Hispanic</th>\n",
              "    </tr>\n",
              "  </thead>\n",
              "  <tbody>\n",
              "    <tr>\n",
              "      <th>CVAC</th>\n",
              "      <td>1.000000</td>\n",
              "      <td>0.324224</td>\n",
              "    </tr>\n",
              "    <tr>\n",
              "      <th>Percent Hispanic</th>\n",
              "      <td>0.324224</td>\n",
              "      <td>1.000000</td>\n",
              "    </tr>\n",
              "  </tbody>\n",
              "</table>\n",
              "</div>"
            ],
            "text/plain": [
              "                      CVAC  Percent Hispanic\n",
              "CVAC              1.000000          0.324224\n",
              "Percent Hispanic  0.324224          1.000000"
            ]
          },
          "execution_count": 30,
          "metadata": {},
          "output_type": "execute_result"
        }
      ],
      "source": [
        "hispanic_cvac_p = vaccinehesitancy[['CVAC','Percent Hispanic']].corr(method='pearson')\n",
        "hispanic_cvac_p"
      ]
    },
    {
      "cell_type": "code",
      "execution_count": 31,
      "metadata": {
        "colab": {
          "base_uri": "https://localhost:8080/",
          "height": 112
        },
        "id": "j1_uEIWjbc89",
        "outputId": "33894336-24fb-4b63-d267-4635376b0e2e"
      },
      "outputs": [
        {
          "data": {
            "text/html": [
              "<div>\n",
              "<style scoped>\n",
              "    .dataframe tbody tr th:only-of-type {\n",
              "        vertical-align: middle;\n",
              "    }\n",
              "\n",
              "    .dataframe tbody tr th {\n",
              "        vertical-align: top;\n",
              "    }\n",
              "\n",
              "    .dataframe thead th {\n",
              "        text-align: right;\n",
              "    }\n",
              "</style>\n",
              "<table border=\"1\" class=\"dataframe\">\n",
              "  <thead>\n",
              "    <tr style=\"text-align: right;\">\n",
              "      <th></th>\n",
              "      <th>CVAC</th>\n",
              "      <th>Percent Hispanic</th>\n",
              "    </tr>\n",
              "  </thead>\n",
              "  <tbody>\n",
              "    <tr>\n",
              "      <th>CVAC</th>\n",
              "      <td>1.000000</td>\n",
              "      <td>0.215147</td>\n",
              "    </tr>\n",
              "    <tr>\n",
              "      <th>Percent Hispanic</th>\n",
              "      <td>0.215147</td>\n",
              "      <td>1.000000</td>\n",
              "    </tr>\n",
              "  </tbody>\n",
              "</table>\n",
              "</div>"
            ],
            "text/plain": [
              "                      CVAC  Percent Hispanic\n",
              "CVAC              1.000000          0.215147\n",
              "Percent Hispanic  0.215147          1.000000"
            ]
          },
          "execution_count": 31,
          "metadata": {},
          "output_type": "execute_result"
        }
      ],
      "source": [
        "hispanic_cvac_s = vaccinehesitancy[['CVAC','Percent Hispanic']].corr(method='spearman')\n",
        "hispanic_cvac_s"
      ]
    },
    {
      "cell_type": "markdown",
      "metadata": {
        "id": "eX4emIxgbiyl"
      },
      "source": [
        "### Asian"
      ]
    },
    {
      "cell_type": "code",
      "execution_count": 32,
      "metadata": {
        "id": "nN9yYrCzbmv1"
      },
      "outputs": [],
      "source": [
        "asian_svi_p = vaccinehesitancy[['SVI','Percent non-Hispanic Asian']].corr(method='pearson')\n",
        "asian_svi_s = vaccinehesitancy[['SVI','Percent non-Hispanic Asian']].corr(method='spearman')\n",
        "asian_cvac_p = vaccinehesitancy[['CVAC','Percent non-Hispanic Asian']].corr(method='pearson')\n",
        "asian_cvac_s = vaccinehesitancy[['CVAC','Percent non-Hispanic Asian']].corr(method='spearman')"
      ]
    },
    {
      "cell_type": "code",
      "execution_count": 33,
      "metadata": {
        "colab": {
          "base_uri": "https://localhost:8080/",
          "height": 112
        },
        "id": "jhvO4ammck1s",
        "outputId": "ad1ea061-6f98-4328-f19c-3a68d44f4551"
      },
      "outputs": [
        {
          "data": {
            "text/html": [
              "<div>\n",
              "<style scoped>\n",
              "    .dataframe tbody tr th:only-of-type {\n",
              "        vertical-align: middle;\n",
              "    }\n",
              "\n",
              "    .dataframe tbody tr th {\n",
              "        vertical-align: top;\n",
              "    }\n",
              "\n",
              "    .dataframe thead th {\n",
              "        text-align: right;\n",
              "    }\n",
              "</style>\n",
              "<table border=\"1\" class=\"dataframe\">\n",
              "  <thead>\n",
              "    <tr style=\"text-align: right;\">\n",
              "      <th></th>\n",
              "      <th>SVI</th>\n",
              "      <th>Percent non-Hispanic Asian</th>\n",
              "    </tr>\n",
              "  </thead>\n",
              "  <tbody>\n",
              "    <tr>\n",
              "      <th>SVI</th>\n",
              "      <td>1.000000</td>\n",
              "      <td>-0.058608</td>\n",
              "    </tr>\n",
              "    <tr>\n",
              "      <th>Percent non-Hispanic Asian</th>\n",
              "      <td>-0.058608</td>\n",
              "      <td>1.000000</td>\n",
              "    </tr>\n",
              "  </tbody>\n",
              "</table>\n",
              "</div>"
            ],
            "text/plain": [
              "                                 SVI  Percent non-Hispanic Asian\n",
              "SVI                         1.000000                   -0.058608\n",
              "Percent non-Hispanic Asian -0.058608                    1.000000"
            ]
          },
          "execution_count": 33,
          "metadata": {},
          "output_type": "execute_result"
        }
      ],
      "source": [
        "asian_svi_p"
      ]
    },
    {
      "cell_type": "code",
      "execution_count": 34,
      "metadata": {
        "colab": {
          "base_uri": "https://localhost:8080/",
          "height": 112
        },
        "id": "7-VKrtC-coy3",
        "outputId": "29c11720-f627-4b48-e1e7-9876f2512166"
      },
      "outputs": [
        {
          "data": {
            "text/html": [
              "<div>\n",
              "<style scoped>\n",
              "    .dataframe tbody tr th:only-of-type {\n",
              "        vertical-align: middle;\n",
              "    }\n",
              "\n",
              "    .dataframe tbody tr th {\n",
              "        vertical-align: top;\n",
              "    }\n",
              "\n",
              "    .dataframe thead th {\n",
              "        text-align: right;\n",
              "    }\n",
              "</style>\n",
              "<table border=\"1\" class=\"dataframe\">\n",
              "  <thead>\n",
              "    <tr style=\"text-align: right;\">\n",
              "      <th></th>\n",
              "      <th>SVI</th>\n",
              "      <th>Percent non-Hispanic Asian</th>\n",
              "    </tr>\n",
              "  </thead>\n",
              "  <tbody>\n",
              "    <tr>\n",
              "      <th>SVI</th>\n",
              "      <td>1.000000</td>\n",
              "      <td>-0.051676</td>\n",
              "    </tr>\n",
              "    <tr>\n",
              "      <th>Percent non-Hispanic Asian</th>\n",
              "      <td>-0.051676</td>\n",
              "      <td>1.000000</td>\n",
              "    </tr>\n",
              "  </tbody>\n",
              "</table>\n",
              "</div>"
            ],
            "text/plain": [
              "                                 SVI  Percent non-Hispanic Asian\n",
              "SVI                         1.000000                   -0.051676\n",
              "Percent non-Hispanic Asian -0.051676                    1.000000"
            ]
          },
          "execution_count": 34,
          "metadata": {},
          "output_type": "execute_result"
        }
      ],
      "source": [
        "asian_svi_s"
      ]
    },
    {
      "cell_type": "code",
      "execution_count": 35,
      "metadata": {
        "colab": {
          "base_uri": "https://localhost:8080/",
          "height": 112
        },
        "id": "1L6pdRjZcpqm",
        "outputId": "1f3f2294-42d6-4ac9-fdfb-2035cfaac465"
      },
      "outputs": [
        {
          "data": {
            "text/html": [
              "<div>\n",
              "<style scoped>\n",
              "    .dataframe tbody tr th:only-of-type {\n",
              "        vertical-align: middle;\n",
              "    }\n",
              "\n",
              "    .dataframe tbody tr th {\n",
              "        vertical-align: top;\n",
              "    }\n",
              "\n",
              "    .dataframe thead th {\n",
              "        text-align: right;\n",
              "    }\n",
              "</style>\n",
              "<table border=\"1\" class=\"dataframe\">\n",
              "  <thead>\n",
              "    <tr style=\"text-align: right;\">\n",
              "      <th></th>\n",
              "      <th>CVAC</th>\n",
              "      <th>Percent non-Hispanic Asian</th>\n",
              "    </tr>\n",
              "  </thead>\n",
              "  <tbody>\n",
              "    <tr>\n",
              "      <th>CVAC</th>\n",
              "      <td>1.000000</td>\n",
              "      <td>-0.139805</td>\n",
              "    </tr>\n",
              "    <tr>\n",
              "      <th>Percent non-Hispanic Asian</th>\n",
              "      <td>-0.139805</td>\n",
              "      <td>1.000000</td>\n",
              "    </tr>\n",
              "  </tbody>\n",
              "</table>\n",
              "</div>"
            ],
            "text/plain": [
              "                                CVAC  Percent non-Hispanic Asian\n",
              "CVAC                        1.000000                   -0.139805\n",
              "Percent non-Hispanic Asian -0.139805                    1.000000"
            ]
          },
          "execution_count": 35,
          "metadata": {},
          "output_type": "execute_result"
        }
      ],
      "source": [
        "asian_cvac_p"
      ]
    },
    {
      "cell_type": "code",
      "execution_count": 36,
      "metadata": {
        "colab": {
          "base_uri": "https://localhost:8080/",
          "height": 112
        },
        "id": "VZzco2ACcqmf",
        "outputId": "f9bc25d2-7d4b-4863-821a-1f4d80fd1886"
      },
      "outputs": [
        {
          "data": {
            "text/html": [
              "<div>\n",
              "<style scoped>\n",
              "    .dataframe tbody tr th:only-of-type {\n",
              "        vertical-align: middle;\n",
              "    }\n",
              "\n",
              "    .dataframe tbody tr th {\n",
              "        vertical-align: top;\n",
              "    }\n",
              "\n",
              "    .dataframe thead th {\n",
              "        text-align: right;\n",
              "    }\n",
              "</style>\n",
              "<table border=\"1\" class=\"dataframe\">\n",
              "  <thead>\n",
              "    <tr style=\"text-align: right;\">\n",
              "      <th></th>\n",
              "      <th>CVAC</th>\n",
              "      <th>Percent non-Hispanic Asian</th>\n",
              "    </tr>\n",
              "  </thead>\n",
              "  <tbody>\n",
              "    <tr>\n",
              "      <th>CVAC</th>\n",
              "      <td>1.000000</td>\n",
              "      <td>-0.213438</td>\n",
              "    </tr>\n",
              "    <tr>\n",
              "      <th>Percent non-Hispanic Asian</th>\n",
              "      <td>-0.213438</td>\n",
              "      <td>1.000000</td>\n",
              "    </tr>\n",
              "  </tbody>\n",
              "</table>\n",
              "</div>"
            ],
            "text/plain": [
              "                                CVAC  Percent non-Hispanic Asian\n",
              "CVAC                        1.000000                   -0.213438\n",
              "Percent non-Hispanic Asian -0.213438                    1.000000"
            ]
          },
          "execution_count": 36,
          "metadata": {},
          "output_type": "execute_result"
        }
      ],
      "source": [
        "asian_cvac_s"
      ]
    },
    {
      "cell_type": "markdown",
      "metadata": {
        "id": "6YgqXSsEczHR"
      },
      "source": [
        "### Black"
      ]
    },
    {
      "cell_type": "code",
      "execution_count": 37,
      "metadata": {
        "id": "4PZK7gE0c0Vu"
      },
      "outputs": [],
      "source": [
        "black_svi_p = vaccinehesitancy[['SVI','Percent non-Hispanic Black']].corr(method='pearson')\n",
        "black_svi_s = vaccinehesitancy[['SVI','Percent non-Hispanic Black']].corr(method='spearman')\n",
        "black_cvac_p = vaccinehesitancy[['CVAC','Percent non-Hispanic Black']].corr(method='pearson')\n",
        "black_cvac_s = vaccinehesitancy[['CVAC','Percent non-Hispanic Black']].corr(method='spearman')"
      ]
    },
    {
      "cell_type": "code",
      "execution_count": 38,
      "metadata": {
        "colab": {
          "base_uri": "https://localhost:8080/",
          "height": 112
        },
        "id": "_R9XG4NddAI6",
        "outputId": "d670119d-5985-479d-be72-60bbc4ad1f63"
      },
      "outputs": [
        {
          "data": {
            "text/html": [
              "<div>\n",
              "<style scoped>\n",
              "    .dataframe tbody tr th:only-of-type {\n",
              "        vertical-align: middle;\n",
              "    }\n",
              "\n",
              "    .dataframe tbody tr th {\n",
              "        vertical-align: top;\n",
              "    }\n",
              "\n",
              "    .dataframe thead th {\n",
              "        text-align: right;\n",
              "    }\n",
              "</style>\n",
              "<table border=\"1\" class=\"dataframe\">\n",
              "  <thead>\n",
              "    <tr style=\"text-align: right;\">\n",
              "      <th></th>\n",
              "      <th>SVI</th>\n",
              "      <th>Percent non-Hispanic Black</th>\n",
              "    </tr>\n",
              "  </thead>\n",
              "  <tbody>\n",
              "    <tr>\n",
              "      <th>SVI</th>\n",
              "      <td>1.000000</td>\n",
              "      <td>0.475836</td>\n",
              "    </tr>\n",
              "    <tr>\n",
              "      <th>Percent non-Hispanic Black</th>\n",
              "      <td>0.475836</td>\n",
              "      <td>1.000000</td>\n",
              "    </tr>\n",
              "  </tbody>\n",
              "</table>\n",
              "</div>"
            ],
            "text/plain": [
              "                                 SVI  Percent non-Hispanic Black\n",
              "SVI                         1.000000                    0.475836\n",
              "Percent non-Hispanic Black  0.475836                    1.000000"
            ]
          },
          "execution_count": 38,
          "metadata": {},
          "output_type": "execute_result"
        }
      ],
      "source": [
        "black_svi_p"
      ]
    },
    {
      "cell_type": "code",
      "execution_count": 39,
      "metadata": {
        "colab": {
          "base_uri": "https://localhost:8080/",
          "height": 112
        },
        "id": "xmbhyRVFdBdi",
        "outputId": "77f1ebf1-2b54-4742-97f0-5be64e9b6aed"
      },
      "outputs": [
        {
          "data": {
            "text/html": [
              "<div>\n",
              "<style scoped>\n",
              "    .dataframe tbody tr th:only-of-type {\n",
              "        vertical-align: middle;\n",
              "    }\n",
              "\n",
              "    .dataframe tbody tr th {\n",
              "        vertical-align: top;\n",
              "    }\n",
              "\n",
              "    .dataframe thead th {\n",
              "        text-align: right;\n",
              "    }\n",
              "</style>\n",
              "<table border=\"1\" class=\"dataframe\">\n",
              "  <thead>\n",
              "    <tr style=\"text-align: right;\">\n",
              "      <th></th>\n",
              "      <th>SVI</th>\n",
              "      <th>Percent non-Hispanic Black</th>\n",
              "    </tr>\n",
              "  </thead>\n",
              "  <tbody>\n",
              "    <tr>\n",
              "      <th>SVI</th>\n",
              "      <td>1.000000</td>\n",
              "      <td>0.463702</td>\n",
              "    </tr>\n",
              "    <tr>\n",
              "      <th>Percent non-Hispanic Black</th>\n",
              "      <td>0.463702</td>\n",
              "      <td>1.000000</td>\n",
              "    </tr>\n",
              "  </tbody>\n",
              "</table>\n",
              "</div>"
            ],
            "text/plain": [
              "                                 SVI  Percent non-Hispanic Black\n",
              "SVI                         1.000000                    0.463702\n",
              "Percent non-Hispanic Black  0.463702                    1.000000"
            ]
          },
          "execution_count": 39,
          "metadata": {},
          "output_type": "execute_result"
        }
      ],
      "source": [
        "black_svi_s"
      ]
    },
    {
      "cell_type": "code",
      "execution_count": 40,
      "metadata": {
        "colab": {
          "base_uri": "https://localhost:8080/",
          "height": 112
        },
        "id": "bJI98dnAdCOG",
        "outputId": "4df35c04-5aeb-41c0-be5f-7c2b01082a97"
      },
      "outputs": [
        {
          "data": {
            "text/html": [
              "<div>\n",
              "<style scoped>\n",
              "    .dataframe tbody tr th:only-of-type {\n",
              "        vertical-align: middle;\n",
              "    }\n",
              "\n",
              "    .dataframe tbody tr th {\n",
              "        vertical-align: top;\n",
              "    }\n",
              "\n",
              "    .dataframe thead th {\n",
              "        text-align: right;\n",
              "    }\n",
              "</style>\n",
              "<table border=\"1\" class=\"dataframe\">\n",
              "  <thead>\n",
              "    <tr style=\"text-align: right;\">\n",
              "      <th></th>\n",
              "      <th>CVAC</th>\n",
              "      <th>Percent non-Hispanic Black</th>\n",
              "    </tr>\n",
              "  </thead>\n",
              "  <tbody>\n",
              "    <tr>\n",
              "      <th>CVAC</th>\n",
              "      <td>1.000000</td>\n",
              "      <td>0.359352</td>\n",
              "    </tr>\n",
              "    <tr>\n",
              "      <th>Percent non-Hispanic Black</th>\n",
              "      <td>0.359352</td>\n",
              "      <td>1.000000</td>\n",
              "    </tr>\n",
              "  </tbody>\n",
              "</table>\n",
              "</div>"
            ],
            "text/plain": [
              "                                CVAC  Percent non-Hispanic Black\n",
              "CVAC                        1.000000                    0.359352\n",
              "Percent non-Hispanic Black  0.359352                    1.000000"
            ]
          },
          "execution_count": 40,
          "metadata": {},
          "output_type": "execute_result"
        }
      ],
      "source": [
        "black_cvac_p"
      ]
    },
    {
      "cell_type": "code",
      "execution_count": 41,
      "metadata": {
        "colab": {
          "base_uri": "https://localhost:8080/",
          "height": 112
        },
        "id": "PefFjcM1dC8O",
        "outputId": "a899fed8-e8df-4b2c-e465-a86285a90cc9"
      },
      "outputs": [
        {
          "data": {
            "text/html": [
              "<div>\n",
              "<style scoped>\n",
              "    .dataframe tbody tr th:only-of-type {\n",
              "        vertical-align: middle;\n",
              "    }\n",
              "\n",
              "    .dataframe tbody tr th {\n",
              "        vertical-align: top;\n",
              "    }\n",
              "\n",
              "    .dataframe thead th {\n",
              "        text-align: right;\n",
              "    }\n",
              "</style>\n",
              "<table border=\"1\" class=\"dataframe\">\n",
              "  <thead>\n",
              "    <tr style=\"text-align: right;\">\n",
              "      <th></th>\n",
              "      <th>CVAC</th>\n",
              "      <th>Percent non-Hispanic Black</th>\n",
              "    </tr>\n",
              "  </thead>\n",
              "  <tbody>\n",
              "    <tr>\n",
              "      <th>CVAC</th>\n",
              "      <td>1.000000</td>\n",
              "      <td>0.295237</td>\n",
              "    </tr>\n",
              "    <tr>\n",
              "      <th>Percent non-Hispanic Black</th>\n",
              "      <td>0.295237</td>\n",
              "      <td>1.000000</td>\n",
              "    </tr>\n",
              "  </tbody>\n",
              "</table>\n",
              "</div>"
            ],
            "text/plain": [
              "                                CVAC  Percent non-Hispanic Black\n",
              "CVAC                        1.000000                    0.295237\n",
              "Percent non-Hispanic Black  0.295237                    1.000000"
            ]
          },
          "execution_count": 41,
          "metadata": {},
          "output_type": "execute_result"
        }
      ],
      "source": [
        "black_cvac_s"
      ]
    },
    {
      "cell_type": "markdown",
      "metadata": {
        "id": "nTfSmKfMdHe_"
      },
      "source": [
        "### White"
      ]
    },
    {
      "cell_type": "code",
      "execution_count": 42,
      "metadata": {
        "id": "grhxm8-KdNO4"
      },
      "outputs": [],
      "source": [
        "white_svi_p = vaccinehesitancy[['SVI','Percent non-Hispanic White']].corr(method='pearson')\n",
        "white_svi_s = vaccinehesitancy[['SVI','Percent non-Hispanic White']].corr(method='spearman')\n",
        "white_cvac_p = vaccinehesitancy[['CVAC','Percent non-Hispanic White']].corr(method='pearson')\n",
        "white_cvac_s = vaccinehesitancy[['CVAC','Percent non-Hispanic White']].corr(method='spearman')"
      ]
    },
    {
      "cell_type": "code",
      "execution_count": 43,
      "metadata": {
        "colab": {
          "base_uri": "https://localhost:8080/",
          "height": 112
        },
        "id": "EcP20-wkdVgE",
        "outputId": "233f4ae4-48d2-4c91-d9d1-83201162e32e"
      },
      "outputs": [
        {
          "data": {
            "text/html": [
              "<div>\n",
              "<style scoped>\n",
              "    .dataframe tbody tr th:only-of-type {\n",
              "        vertical-align: middle;\n",
              "    }\n",
              "\n",
              "    .dataframe tbody tr th {\n",
              "        vertical-align: top;\n",
              "    }\n",
              "\n",
              "    .dataframe thead th {\n",
              "        text-align: right;\n",
              "    }\n",
              "</style>\n",
              "<table border=\"1\" class=\"dataframe\">\n",
              "  <thead>\n",
              "    <tr style=\"text-align: right;\">\n",
              "      <th></th>\n",
              "      <th>SVI</th>\n",
              "      <th>Percent non-Hispanic White</th>\n",
              "    </tr>\n",
              "  </thead>\n",
              "  <tbody>\n",
              "    <tr>\n",
              "      <th>SVI</th>\n",
              "      <td>1.000000</td>\n",
              "      <td>-0.615726</td>\n",
              "    </tr>\n",
              "    <tr>\n",
              "      <th>Percent non-Hispanic White</th>\n",
              "      <td>-0.615726</td>\n",
              "      <td>1.000000</td>\n",
              "    </tr>\n",
              "  </tbody>\n",
              "</table>\n",
              "</div>"
            ],
            "text/plain": [
              "                                 SVI  Percent non-Hispanic White\n",
              "SVI                         1.000000                   -0.615726\n",
              "Percent non-Hispanic White -0.615726                    1.000000"
            ]
          },
          "execution_count": 43,
          "metadata": {},
          "output_type": "execute_result"
        }
      ],
      "source": [
        "white_svi_p"
      ]
    },
    {
      "cell_type": "code",
      "execution_count": 44,
      "metadata": {
        "colab": {
          "base_uri": "https://localhost:8080/",
          "height": 112
        },
        "id": "Wn_4UhASdXUd",
        "outputId": "b8758474-e27c-4a8e-d169-4713841630a7"
      },
      "outputs": [
        {
          "data": {
            "text/html": [
              "<div>\n",
              "<style scoped>\n",
              "    .dataframe tbody tr th:only-of-type {\n",
              "        vertical-align: middle;\n",
              "    }\n",
              "\n",
              "    .dataframe tbody tr th {\n",
              "        vertical-align: top;\n",
              "    }\n",
              "\n",
              "    .dataframe thead th {\n",
              "        text-align: right;\n",
              "    }\n",
              "</style>\n",
              "<table border=\"1\" class=\"dataframe\">\n",
              "  <thead>\n",
              "    <tr style=\"text-align: right;\">\n",
              "      <th></th>\n",
              "      <th>SVI</th>\n",
              "      <th>Percent non-Hispanic White</th>\n",
              "    </tr>\n",
              "  </thead>\n",
              "  <tbody>\n",
              "    <tr>\n",
              "      <th>SVI</th>\n",
              "      <td>1.000000</td>\n",
              "      <td>-0.603454</td>\n",
              "    </tr>\n",
              "    <tr>\n",
              "      <th>Percent non-Hispanic White</th>\n",
              "      <td>-0.603454</td>\n",
              "      <td>1.000000</td>\n",
              "    </tr>\n",
              "  </tbody>\n",
              "</table>\n",
              "</div>"
            ],
            "text/plain": [
              "                                 SVI  Percent non-Hispanic White\n",
              "SVI                         1.000000                   -0.603454\n",
              "Percent non-Hispanic White -0.603454                    1.000000"
            ]
          },
          "execution_count": 44,
          "metadata": {},
          "output_type": "execute_result"
        }
      ],
      "source": [
        "white_svi_s"
      ]
    },
    {
      "cell_type": "code",
      "execution_count": 45,
      "metadata": {
        "colab": {
          "base_uri": "https://localhost:8080/",
          "height": 112
        },
        "id": "gvnq1YfWdZBQ",
        "outputId": "215182e2-45ec-4960-b8b1-c4d2484e3e94"
      },
      "outputs": [
        {
          "data": {
            "text/html": [
              "<div>\n",
              "<style scoped>\n",
              "    .dataframe tbody tr th:only-of-type {\n",
              "        vertical-align: middle;\n",
              "    }\n",
              "\n",
              "    .dataframe tbody tr th {\n",
              "        vertical-align: top;\n",
              "    }\n",
              "\n",
              "    .dataframe thead th {\n",
              "        text-align: right;\n",
              "    }\n",
              "</style>\n",
              "<table border=\"1\" class=\"dataframe\">\n",
              "  <thead>\n",
              "    <tr style=\"text-align: right;\">\n",
              "      <th></th>\n",
              "      <th>CVAC</th>\n",
              "      <th>Percent non-Hispanic White</th>\n",
              "    </tr>\n",
              "  </thead>\n",
              "  <tbody>\n",
              "    <tr>\n",
              "      <th>CVAC</th>\n",
              "      <td>1.00000</td>\n",
              "      <td>-0.51285</td>\n",
              "    </tr>\n",
              "    <tr>\n",
              "      <th>Percent non-Hispanic White</th>\n",
              "      <td>-0.51285</td>\n",
              "      <td>1.00000</td>\n",
              "    </tr>\n",
              "  </tbody>\n",
              "</table>\n",
              "</div>"
            ],
            "text/plain": [
              "                               CVAC  Percent non-Hispanic White\n",
              "CVAC                        1.00000                    -0.51285\n",
              "Percent non-Hispanic White -0.51285                     1.00000"
            ]
          },
          "execution_count": 45,
          "metadata": {},
          "output_type": "execute_result"
        }
      ],
      "source": [
        "white_cvac_p"
      ]
    },
    {
      "cell_type": "code",
      "execution_count": 46,
      "metadata": {
        "colab": {
          "base_uri": "https://localhost:8080/",
          "height": 112
        },
        "id": "sOb_uv34dZjV",
        "outputId": "e411ce19-192b-4279-db7c-06aea57617f5"
      },
      "outputs": [
        {
          "data": {
            "text/html": [
              "<div>\n",
              "<style scoped>\n",
              "    .dataframe tbody tr th:only-of-type {\n",
              "        vertical-align: middle;\n",
              "    }\n",
              "\n",
              "    .dataframe tbody tr th {\n",
              "        vertical-align: top;\n",
              "    }\n",
              "\n",
              "    .dataframe thead th {\n",
              "        text-align: right;\n",
              "    }\n",
              "</style>\n",
              "<table border=\"1\" class=\"dataframe\">\n",
              "  <thead>\n",
              "    <tr style=\"text-align: right;\">\n",
              "      <th></th>\n",
              "      <th>CVAC</th>\n",
              "      <th>Percent non-Hispanic White</th>\n",
              "    </tr>\n",
              "  </thead>\n",
              "  <tbody>\n",
              "    <tr>\n",
              "      <th>CVAC</th>\n",
              "      <td>1.000000</td>\n",
              "      <td>-0.495504</td>\n",
              "    </tr>\n",
              "    <tr>\n",
              "      <th>Percent non-Hispanic White</th>\n",
              "      <td>-0.495504</td>\n",
              "      <td>1.000000</td>\n",
              "    </tr>\n",
              "  </tbody>\n",
              "</table>\n",
              "</div>"
            ],
            "text/plain": [
              "                                CVAC  Percent non-Hispanic White\n",
              "CVAC                        1.000000                   -0.495504\n",
              "Percent non-Hispanic White -0.495504                    1.000000"
            ]
          },
          "execution_count": 46,
          "metadata": {},
          "output_type": "execute_result"
        }
      ],
      "source": [
        "white_cvac_s"
      ]
    },
    {
      "cell_type": "markdown",
      "metadata": {
        "id": "snvr5q-bddeO"
      },
      "source": [
        "### American Indian/Alaska Native"
      ]
    },
    {
      "cell_type": "code",
      "execution_count": 47,
      "metadata": {
        "id": "A9dPXbmadji3"
      },
      "outputs": [],
      "source": [
        "aian_svi_p = vaccinehesitancy[['SVI','Percent non-Hispanic American Indian/Alaska Native']].corr(method='pearson')\n",
        "aian_svi_s = vaccinehesitancy[['SVI','Percent non-Hispanic American Indian/Alaska Native']].corr(method='spearman')\n",
        "aian_cvac_p = vaccinehesitancy[['CVAC','Percent non-Hispanic American Indian/Alaska Native']].corr(method='pearson')\n",
        "aian_cvac_s = vaccinehesitancy[['CVAC','Percent non-Hispanic American Indian/Alaska Native']].corr(method='spearman')"
      ]
    },
    {
      "cell_type": "code",
      "execution_count": 48,
      "metadata": {
        "colab": {
          "base_uri": "https://localhost:8080/",
          "height": 112
        },
        "id": "mOjymiagdxkf",
        "outputId": "3d91d8fc-e093-476c-b8f0-acc386121cc6"
      },
      "outputs": [
        {
          "data": {
            "text/html": [
              "<div>\n",
              "<style scoped>\n",
              "    .dataframe tbody tr th:only-of-type {\n",
              "        vertical-align: middle;\n",
              "    }\n",
              "\n",
              "    .dataframe tbody tr th {\n",
              "        vertical-align: top;\n",
              "    }\n",
              "\n",
              "    .dataframe thead th {\n",
              "        text-align: right;\n",
              "    }\n",
              "</style>\n",
              "<table border=\"1\" class=\"dataframe\">\n",
              "  <thead>\n",
              "    <tr style=\"text-align: right;\">\n",
              "      <th></th>\n",
              "      <th>SVI</th>\n",
              "      <th>Percent non-Hispanic American Indian/Alaska Native</th>\n",
              "    </tr>\n",
              "  </thead>\n",
              "  <tbody>\n",
              "    <tr>\n",
              "      <th>SVI</th>\n",
              "      <td>1.00000</td>\n",
              "      <td>0.16756</td>\n",
              "    </tr>\n",
              "    <tr>\n",
              "      <th>Percent non-Hispanic American Indian/Alaska Native</th>\n",
              "      <td>0.16756</td>\n",
              "      <td>1.00000</td>\n",
              "    </tr>\n",
              "  </tbody>\n",
              "</table>\n",
              "</div>"
            ],
            "text/plain": [
              "                                                        SVI  \\\n",
              "SVI                                                 1.00000   \n",
              "Percent non-Hispanic American Indian/Alaska Native  0.16756   \n",
              "\n",
              "                                                    Percent non-Hispanic American Indian/Alaska Native  \n",
              "SVI                                                                                           0.16756   \n",
              "Percent non-Hispanic American Indian/Alaska Native                                            1.00000   "
            ]
          },
          "execution_count": 48,
          "metadata": {},
          "output_type": "execute_result"
        }
      ],
      "source": [
        "aian_svi_p"
      ]
    },
    {
      "cell_type": "code",
      "execution_count": 49,
      "metadata": {
        "colab": {
          "base_uri": "https://localhost:8080/",
          "height": 112
        },
        "id": "8vQv_mSPdzFk",
        "outputId": "7c4bdf7c-a2f2-44fa-b1f3-6edb13b0728c"
      },
      "outputs": [
        {
          "data": {
            "text/html": [
              "<div>\n",
              "<style scoped>\n",
              "    .dataframe tbody tr th:only-of-type {\n",
              "        vertical-align: middle;\n",
              "    }\n",
              "\n",
              "    .dataframe tbody tr th {\n",
              "        vertical-align: top;\n",
              "    }\n",
              "\n",
              "    .dataframe thead th {\n",
              "        text-align: right;\n",
              "    }\n",
              "</style>\n",
              "<table border=\"1\" class=\"dataframe\">\n",
              "  <thead>\n",
              "    <tr style=\"text-align: right;\">\n",
              "      <th></th>\n",
              "      <th>SVI</th>\n",
              "      <th>Percent non-Hispanic American Indian/Alaska Native</th>\n",
              "    </tr>\n",
              "  </thead>\n",
              "  <tbody>\n",
              "    <tr>\n",
              "      <th>SVI</th>\n",
              "      <td>1.000000</td>\n",
              "      <td>0.033246</td>\n",
              "    </tr>\n",
              "    <tr>\n",
              "      <th>Percent non-Hispanic American Indian/Alaska Native</th>\n",
              "      <td>0.033246</td>\n",
              "      <td>1.000000</td>\n",
              "    </tr>\n",
              "  </tbody>\n",
              "</table>\n",
              "</div>"
            ],
            "text/plain": [
              "                                                         SVI  \\\n",
              "SVI                                                 1.000000   \n",
              "Percent non-Hispanic American Indian/Alaska Native  0.033246   \n",
              "\n",
              "                                                    Percent non-Hispanic American Indian/Alaska Native  \n",
              "SVI                                                                                          0.033246   \n",
              "Percent non-Hispanic American Indian/Alaska Native                                           1.000000   "
            ]
          },
          "execution_count": 49,
          "metadata": {},
          "output_type": "execute_result"
        }
      ],
      "source": [
        "aian_svi_s"
      ]
    },
    {
      "cell_type": "code",
      "execution_count": 50,
      "metadata": {
        "colab": {
          "base_uri": "https://localhost:8080/",
          "height": 112
        },
        "id": "Q86bkzGVdz7-",
        "outputId": "1e30223a-e038-4d83-8a4d-1463ba6cf7ae"
      },
      "outputs": [
        {
          "data": {
            "text/html": [
              "<div>\n",
              "<style scoped>\n",
              "    .dataframe tbody tr th:only-of-type {\n",
              "        vertical-align: middle;\n",
              "    }\n",
              "\n",
              "    .dataframe tbody tr th {\n",
              "        vertical-align: top;\n",
              "    }\n",
              "\n",
              "    .dataframe thead th {\n",
              "        text-align: right;\n",
              "    }\n",
              "</style>\n",
              "<table border=\"1\" class=\"dataframe\">\n",
              "  <thead>\n",
              "    <tr style=\"text-align: right;\">\n",
              "      <th></th>\n",
              "      <th>CVAC</th>\n",
              "      <th>Percent non-Hispanic American Indian/Alaska Native</th>\n",
              "    </tr>\n",
              "  </thead>\n",
              "  <tbody>\n",
              "    <tr>\n",
              "      <th>CVAC</th>\n",
              "      <td>1.000000</td>\n",
              "      <td>0.139842</td>\n",
              "    </tr>\n",
              "    <tr>\n",
              "      <th>Percent non-Hispanic American Indian/Alaska Native</th>\n",
              "      <td>0.139842</td>\n",
              "      <td>1.000000</td>\n",
              "    </tr>\n",
              "  </tbody>\n",
              "</table>\n",
              "</div>"
            ],
            "text/plain": [
              "                                                        CVAC  \\\n",
              "CVAC                                                1.000000   \n",
              "Percent non-Hispanic American Indian/Alaska Native  0.139842   \n",
              "\n",
              "                                                    Percent non-Hispanic American Indian/Alaska Native  \n",
              "CVAC                                                                                         0.139842   \n",
              "Percent non-Hispanic American Indian/Alaska Native                                           1.000000   "
            ]
          },
          "execution_count": 50,
          "metadata": {},
          "output_type": "execute_result"
        }
      ],
      "source": [
        "aian_cvac_p"
      ]
    },
    {
      "cell_type": "code",
      "execution_count": 51,
      "metadata": {
        "colab": {
          "base_uri": "https://localhost:8080/",
          "height": 112
        },
        "id": "qHDjm0ard0tc",
        "outputId": "7b7be65c-e8cf-425a-8262-6a40f052590b"
      },
      "outputs": [
        {
          "data": {
            "text/html": [
              "<div>\n",
              "<style scoped>\n",
              "    .dataframe tbody tr th:only-of-type {\n",
              "        vertical-align: middle;\n",
              "    }\n",
              "\n",
              "    .dataframe tbody tr th {\n",
              "        vertical-align: top;\n",
              "    }\n",
              "\n",
              "    .dataframe thead th {\n",
              "        text-align: right;\n",
              "    }\n",
              "</style>\n",
              "<table border=\"1\" class=\"dataframe\">\n",
              "  <thead>\n",
              "    <tr style=\"text-align: right;\">\n",
              "      <th></th>\n",
              "      <th>CVAC</th>\n",
              "      <th>Percent non-Hispanic American Indian/Alaska Native</th>\n",
              "    </tr>\n",
              "  </thead>\n",
              "  <tbody>\n",
              "    <tr>\n",
              "      <th>CVAC</th>\n",
              "      <td>1.00000</td>\n",
              "      <td>0.05592</td>\n",
              "    </tr>\n",
              "    <tr>\n",
              "      <th>Percent non-Hispanic American Indian/Alaska Native</th>\n",
              "      <td>0.05592</td>\n",
              "      <td>1.00000</td>\n",
              "    </tr>\n",
              "  </tbody>\n",
              "</table>\n",
              "</div>"
            ],
            "text/plain": [
              "                                                       CVAC  \\\n",
              "CVAC                                                1.00000   \n",
              "Percent non-Hispanic American Indian/Alaska Native  0.05592   \n",
              "\n",
              "                                                    Percent non-Hispanic American Indian/Alaska Native  \n",
              "CVAC                                                                                          0.05592   \n",
              "Percent non-Hispanic American Indian/Alaska Native                                            1.00000   "
            ]
          },
          "execution_count": 51,
          "metadata": {},
          "output_type": "execute_result"
        }
      ],
      "source": [
        "aian_cvac_s"
      ]
    },
    {
      "cell_type": "markdown",
      "metadata": {
        "id": "yVPqAhDNd4WU"
      },
      "source": [
        "### Native Hawaiian/Pacific Islander"
      ]
    },
    {
      "cell_type": "code",
      "execution_count": 52,
      "metadata": {
        "id": "2n9qTQZsd9FU"
      },
      "outputs": [],
      "source": [
        "nhpi_svi_p = vaccinehesitancy[['SVI','Percent non-Hispanic Native Hawaiian/Pacific Islander']].corr(method='pearson')\n",
        "nhpi_svi_s = vaccinehesitancy[['SVI','Percent non-Hispanic Native Hawaiian/Pacific Islander']].corr(method='spearman')\n",
        "nhpi_cvac_p = vaccinehesitancy[['CVAC','Percent non-Hispanic Native Hawaiian/Pacific Islander']].corr(method='pearson')\n",
        "nhpi_cvac_s = vaccinehesitancy[['CVAC','Percent non-Hispanic Native Hawaiian/Pacific Islander']].corr(method='spearman')"
      ]
    },
    {
      "cell_type": "code",
      "execution_count": 53,
      "metadata": {
        "colab": {
          "base_uri": "https://localhost:8080/",
          "height": 112
        },
        "id": "I7mYzLN8eU-v",
        "outputId": "a2cd9075-c30f-4406-f8dc-ffd6c0774911"
      },
      "outputs": [
        {
          "data": {
            "text/html": [
              "<div>\n",
              "<style scoped>\n",
              "    .dataframe tbody tr th:only-of-type {\n",
              "        vertical-align: middle;\n",
              "    }\n",
              "\n",
              "    .dataframe tbody tr th {\n",
              "        vertical-align: top;\n",
              "    }\n",
              "\n",
              "    .dataframe thead th {\n",
              "        text-align: right;\n",
              "    }\n",
              "</style>\n",
              "<table border=\"1\" class=\"dataframe\">\n",
              "  <thead>\n",
              "    <tr style=\"text-align: right;\">\n",
              "      <th></th>\n",
              "      <th>SVI</th>\n",
              "      <th>Percent non-Hispanic Native Hawaiian/Pacific Islander</th>\n",
              "    </tr>\n",
              "  </thead>\n",
              "  <tbody>\n",
              "    <tr>\n",
              "      <th>SVI</th>\n",
              "      <td>1.000000</td>\n",
              "      <td>0.000462</td>\n",
              "    </tr>\n",
              "    <tr>\n",
              "      <th>Percent non-Hispanic Native Hawaiian/Pacific Islander</th>\n",
              "      <td>0.000462</td>\n",
              "      <td>1.000000</td>\n",
              "    </tr>\n",
              "  </tbody>\n",
              "</table>\n",
              "</div>"
            ],
            "text/plain": [
              "                                                         SVI  \\\n",
              "SVI                                                 1.000000   \n",
              "Percent non-Hispanic Native Hawaiian/Pacific Is...  0.000462   \n",
              "\n",
              "                                                    Percent non-Hispanic Native Hawaiian/Pacific Islander  \n",
              "SVI                                                                                          0.000462      \n",
              "Percent non-Hispanic Native Hawaiian/Pacific Is...                                           1.000000      "
            ]
          },
          "execution_count": 53,
          "metadata": {},
          "output_type": "execute_result"
        }
      ],
      "source": [
        "nhpi_svi_p"
      ]
    },
    {
      "cell_type": "code",
      "execution_count": 54,
      "metadata": {
        "colab": {
          "base_uri": "https://localhost:8080/",
          "height": 112
        },
        "id": "be-IAMwNeVCC",
        "outputId": "c0330739-7e5f-44e9-ca86-25b2f6e19ffe"
      },
      "outputs": [
        {
          "data": {
            "text/html": [
              "<div>\n",
              "<style scoped>\n",
              "    .dataframe tbody tr th:only-of-type {\n",
              "        vertical-align: middle;\n",
              "    }\n",
              "\n",
              "    .dataframe tbody tr th {\n",
              "        vertical-align: top;\n",
              "    }\n",
              "\n",
              "    .dataframe thead th {\n",
              "        text-align: right;\n",
              "    }\n",
              "</style>\n",
              "<table border=\"1\" class=\"dataframe\">\n",
              "  <thead>\n",
              "    <tr style=\"text-align: right;\">\n",
              "      <th></th>\n",
              "      <th>SVI</th>\n",
              "      <th>Percent non-Hispanic Native Hawaiian/Pacific Islander</th>\n",
              "    </tr>\n",
              "  </thead>\n",
              "  <tbody>\n",
              "    <tr>\n",
              "      <th>SVI</th>\n",
              "      <td>1.000000</td>\n",
              "      <td>0.057773</td>\n",
              "    </tr>\n",
              "    <tr>\n",
              "      <th>Percent non-Hispanic Native Hawaiian/Pacific Islander</th>\n",
              "      <td>0.057773</td>\n",
              "      <td>1.000000</td>\n",
              "    </tr>\n",
              "  </tbody>\n",
              "</table>\n",
              "</div>"
            ],
            "text/plain": [
              "                                                         SVI  \\\n",
              "SVI                                                 1.000000   \n",
              "Percent non-Hispanic Native Hawaiian/Pacific Is...  0.057773   \n",
              "\n",
              "                                                    Percent non-Hispanic Native Hawaiian/Pacific Islander  \n",
              "SVI                                                                                          0.057773      \n",
              "Percent non-Hispanic Native Hawaiian/Pacific Is...                                           1.000000      "
            ]
          },
          "execution_count": 54,
          "metadata": {},
          "output_type": "execute_result"
        }
      ],
      "source": [
        "nhpi_svi_s"
      ]
    },
    {
      "cell_type": "code",
      "execution_count": 55,
      "metadata": {
        "colab": {
          "base_uri": "https://localhost:8080/",
          "height": 112
        },
        "id": "853h5-VBeVGF",
        "outputId": "9cb6e0ec-42f5-4aa1-e1cb-9887c15bd90c"
      },
      "outputs": [
        {
          "data": {
            "text/html": [
              "<div>\n",
              "<style scoped>\n",
              "    .dataframe tbody tr th:only-of-type {\n",
              "        vertical-align: middle;\n",
              "    }\n",
              "\n",
              "    .dataframe tbody tr th {\n",
              "        vertical-align: top;\n",
              "    }\n",
              "\n",
              "    .dataframe thead th {\n",
              "        text-align: right;\n",
              "    }\n",
              "</style>\n",
              "<table border=\"1\" class=\"dataframe\">\n",
              "  <thead>\n",
              "    <tr style=\"text-align: right;\">\n",
              "      <th></th>\n",
              "      <th>CVAC</th>\n",
              "      <th>Percent non-Hispanic Native Hawaiian/Pacific Islander</th>\n",
              "    </tr>\n",
              "  </thead>\n",
              "  <tbody>\n",
              "    <tr>\n",
              "      <th>CVAC</th>\n",
              "      <td>1.000000</td>\n",
              "      <td>0.002752</td>\n",
              "    </tr>\n",
              "    <tr>\n",
              "      <th>Percent non-Hispanic Native Hawaiian/Pacific Islander</th>\n",
              "      <td>0.002752</td>\n",
              "      <td>1.000000</td>\n",
              "    </tr>\n",
              "  </tbody>\n",
              "</table>\n",
              "</div>"
            ],
            "text/plain": [
              "                                                        CVAC  \\\n",
              "CVAC                                                1.000000   \n",
              "Percent non-Hispanic Native Hawaiian/Pacific Is...  0.002752   \n",
              "\n",
              "                                                    Percent non-Hispanic Native Hawaiian/Pacific Islander  \n",
              "CVAC                                                                                         0.002752      \n",
              "Percent non-Hispanic Native Hawaiian/Pacific Is...                                           1.000000      "
            ]
          },
          "execution_count": 55,
          "metadata": {},
          "output_type": "execute_result"
        }
      ],
      "source": [
        "nhpi_cvac_p"
      ]
    },
    {
      "cell_type": "code",
      "execution_count": 56,
      "metadata": {
        "colab": {
          "base_uri": "https://localhost:8080/",
          "height": 112
        },
        "id": "aSBBkI0WeVJg",
        "outputId": "f0bf2d43-f23f-4d8b-e69b-0a45e087f3a3"
      },
      "outputs": [
        {
          "data": {
            "text/html": [
              "<div>\n",
              "<style scoped>\n",
              "    .dataframe tbody tr th:only-of-type {\n",
              "        vertical-align: middle;\n",
              "    }\n",
              "\n",
              "    .dataframe tbody tr th {\n",
              "        vertical-align: top;\n",
              "    }\n",
              "\n",
              "    .dataframe thead th {\n",
              "        text-align: right;\n",
              "    }\n",
              "</style>\n",
              "<table border=\"1\" class=\"dataframe\">\n",
              "  <thead>\n",
              "    <tr style=\"text-align: right;\">\n",
              "      <th></th>\n",
              "      <th>CVAC</th>\n",
              "      <th>Percent non-Hispanic Native Hawaiian/Pacific Islander</th>\n",
              "    </tr>\n",
              "  </thead>\n",
              "  <tbody>\n",
              "    <tr>\n",
              "      <th>CVAC</th>\n",
              "      <td>1.000000</td>\n",
              "      <td>-0.024868</td>\n",
              "    </tr>\n",
              "    <tr>\n",
              "      <th>Percent non-Hispanic Native Hawaiian/Pacific Islander</th>\n",
              "      <td>-0.024868</td>\n",
              "      <td>1.000000</td>\n",
              "    </tr>\n",
              "  </tbody>\n",
              "</table>\n",
              "</div>"
            ],
            "text/plain": [
              "                                                        CVAC  \\\n",
              "CVAC                                                1.000000   \n",
              "Percent non-Hispanic Native Hawaiian/Pacific Is... -0.024868   \n",
              "\n",
              "                                                    Percent non-Hispanic Native Hawaiian/Pacific Islander  \n",
              "CVAC                                                                                        -0.024868      \n",
              "Percent non-Hispanic Native Hawaiian/Pacific Is...                                           1.000000      "
            ]
          },
          "execution_count": 56,
          "metadata": {},
          "output_type": "execute_result"
        }
      ],
      "source": [
        "nhpi_cvac_s"
      ]
    },
    {
      "cell_type": "markdown",
      "metadata": {
        "id": "jNCS1HR8bFPr"
      },
      "source": [
        "#Vaccine DF"
      ]
    },
    {
      "cell_type": "code",
      "execution_count": 57,
      "metadata": {
        "id": "rpaO6QXEMGLR"
      },
      "outputs": [],
      "source": [
        "vaccine_df = vaccine_df.sample(10000,random_state = 0)\n",
        "vaccine_df = vaccine_df.dropna()\n"
      ]
    },
    {
      "cell_type": "code",
      "execution_count": 58,
      "metadata": {
        "colab": {
          "base_uri": "https://localhost:8080/",
          "height": 488
        },
        "id": "hnV1XSz6MGG9",
        "outputId": "1429768d-5a20-4b8f-c91c-b476bce39567"
      },
      "outputs": [
        {
          "data": {
            "text/html": [
              "<div>\n",
              "<style scoped>\n",
              "    .dataframe tbody tr th:only-of-type {\n",
              "        vertical-align: middle;\n",
              "    }\n",
              "\n",
              "    .dataframe tbody tr th {\n",
              "        vertical-align: top;\n",
              "    }\n",
              "\n",
              "    .dataframe thead th {\n",
              "        text-align: right;\n",
              "    }\n",
              "</style>\n",
              "<table border=\"1\" class=\"dataframe\">\n",
              "  <thead>\n",
              "    <tr style=\"text-align: right;\">\n",
              "      <th></th>\n",
              "      <th>Date</th>\n",
              "      <th>FIPS</th>\n",
              "      <th>MMWR_week</th>\n",
              "      <th>Recip_County</th>\n",
              "      <th>Recip_State</th>\n",
              "      <th>Completeness_pct</th>\n",
              "      <th>Administered_Dose1_Recip</th>\n",
              "      <th>Administered_Dose1_Pop_Pct</th>\n",
              "      <th>Administered_Dose1_Recip_5Plus</th>\n",
              "      <th>Administered_Dose1_Recip_5PlusPop_Pct</th>\n",
              "      <th>...</th>\n",
              "      <th>Booster_Doses_Vax_Pct_UR_Equity</th>\n",
              "      <th>Booster_Doses_12PlusVax_Pct_UR_Equity</th>\n",
              "      <th>Booster_Doses_18PlusVax_Pct_UR_Equity</th>\n",
              "      <th>Booster_Doses_65PlusVax_Pct_UR_Equity</th>\n",
              "      <th>Census2019</th>\n",
              "      <th>Census2019_5PlusPop</th>\n",
              "      <th>Census2019_5to17Pop</th>\n",
              "      <th>Census2019_12PlusPop</th>\n",
              "      <th>Census2019_18PlusPop</th>\n",
              "      <th>Census2019_65PlusPop</th>\n",
              "    </tr>\n",
              "  </thead>\n",
              "  <tbody>\n",
              "    <tr>\n",
              "      <th>87617</th>\n",
              "      <td>04/05/2022</td>\n",
              "      <td>20027</td>\n",
              "      <td>14</td>\n",
              "      <td>Clay County</td>\n",
              "      <td>KS</td>\n",
              "      <td>93.6</td>\n",
              "      <td>5361.0</td>\n",
              "      <td>67.0</td>\n",
              "      <td>5361.0</td>\n",
              "      <td>71.2</td>\n",
              "      <td>...</td>\n",
              "      <td>7.0</td>\n",
              "      <td>7.0</td>\n",
              "      <td>7.0</td>\n",
              "      <td>7.0</td>\n",
              "      <td>8002.0</td>\n",
              "      <td>7531.0</td>\n",
              "      <td>1399.0</td>\n",
              "      <td>6784.0</td>\n",
              "      <td>6132.0</td>\n",
              "      <td>1880.0</td>\n",
              "    </tr>\n",
              "    <tr>\n",
              "      <th>116762</th>\n",
              "      <td>03/27/2022</td>\n",
              "      <td>12059</td>\n",
              "      <td>13</td>\n",
              "      <td>Holmes County</td>\n",
              "      <td>FL</td>\n",
              "      <td>98.6</td>\n",
              "      <td>6931.0</td>\n",
              "      <td>35.3</td>\n",
              "      <td>6926.0</td>\n",
              "      <td>37.4</td>\n",
              "      <td>...</td>\n",
              "      <td>5.0</td>\n",
              "      <td>6.0</td>\n",
              "      <td>6.0</td>\n",
              "      <td>5.0</td>\n",
              "      <td>19617.0</td>\n",
              "      <td>18524.0</td>\n",
              "      <td>2900.0</td>\n",
              "      <td>17023.0</td>\n",
              "      <td>15624.0</td>\n",
              "      <td>3921.0</td>\n",
              "    </tr>\n",
              "    <tr>\n",
              "      <th>39046</th>\n",
              "      <td>04/20/2022</td>\n",
              "      <td>41011</td>\n",
              "      <td>16</td>\n",
              "      <td>Coos County</td>\n",
              "      <td>OR</td>\n",
              "      <td>97.8</td>\n",
              "      <td>40919.0</td>\n",
              "      <td>63.5</td>\n",
              "      <td>40908.0</td>\n",
              "      <td>66.6</td>\n",
              "      <td>...</td>\n",
              "      <td>8.0</td>\n",
              "      <td>8.0</td>\n",
              "      <td>8.0</td>\n",
              "      <td>7.0</td>\n",
              "      <td>64487.0</td>\n",
              "      <td>61391.0</td>\n",
              "      <td>8686.0</td>\n",
              "      <td>56760.0</td>\n",
              "      <td>52705.0</td>\n",
              "      <td>17093.0</td>\n",
              "    </tr>\n",
              "    <tr>\n",
              "      <th>55028</th>\n",
              "      <td>04/15/2022</td>\n",
              "      <td>50021</td>\n",
              "      <td>15</td>\n",
              "      <td>Rutland County</td>\n",
              "      <td>VT</td>\n",
              "      <td>73.5</td>\n",
              "      <td>46046.0</td>\n",
              "      <td>79.1</td>\n",
              "      <td>46033.0</td>\n",
              "      <td>82.8</td>\n",
              "      <td>...</td>\n",
              "      <td>8.0</td>\n",
              "      <td>8.0</td>\n",
              "      <td>8.0</td>\n",
              "      <td>7.0</td>\n",
              "      <td>58191.0</td>\n",
              "      <td>55626.0</td>\n",
              "      <td>7653.0</td>\n",
              "      <td>51677.0</td>\n",
              "      <td>47973.0</td>\n",
              "      <td>13232.0</td>\n",
              "    </tr>\n",
              "    <tr>\n",
              "      <th>43949</th>\n",
              "      <td>04/18/2022</td>\n",
              "      <td>04019</td>\n",
              "      <td>16</td>\n",
              "      <td>Pima County</td>\n",
              "      <td>AZ</td>\n",
              "      <td>97.7</td>\n",
              "      <td>859403.0</td>\n",
              "      <td>82.1</td>\n",
              "      <td>859010.0</td>\n",
              "      <td>86.7</td>\n",
              "      <td>...</td>\n",
              "      <td>3.0</td>\n",
              "      <td>3.0</td>\n",
              "      <td>3.0</td>\n",
              "      <td>3.0</td>\n",
              "      <td>1047279.0</td>\n",
              "      <td>990261.0</td>\n",
              "      <td>158289.0</td>\n",
              "      <td>905833.0</td>\n",
              "      <td>831972.0</td>\n",
              "      <td>212554.0</td>\n",
              "    </tr>\n",
              "    <tr>\n",
              "      <th>...</th>\n",
              "      <td>...</td>\n",
              "      <td>...</td>\n",
              "      <td>...</td>\n",
              "      <td>...</td>\n",
              "      <td>...</td>\n",
              "      <td>...</td>\n",
              "      <td>...</td>\n",
              "      <td>...</td>\n",
              "      <td>...</td>\n",
              "      <td>...</td>\n",
              "      <td>...</td>\n",
              "      <td>...</td>\n",
              "      <td>...</td>\n",
              "      <td>...</td>\n",
              "      <td>...</td>\n",
              "      <td>...</td>\n",
              "      <td>...</td>\n",
              "      <td>...</td>\n",
              "      <td>...</td>\n",
              "      <td>...</td>\n",
              "      <td>...</td>\n",
              "    </tr>\n",
              "    <tr>\n",
              "      <th>125715</th>\n",
              "      <td>03/24/2022</td>\n",
              "      <td>37191</td>\n",
              "      <td>12</td>\n",
              "      <td>Wayne County</td>\n",
              "      <td>NC</td>\n",
              "      <td>96.9</td>\n",
              "      <td>80845.0</td>\n",
              "      <td>65.7</td>\n",
              "      <td>80824.0</td>\n",
              "      <td>70.3</td>\n",
              "      <td>...</td>\n",
              "      <td>1.0</td>\n",
              "      <td>1.0</td>\n",
              "      <td>1.0</td>\n",
              "      <td>1.0</td>\n",
              "      <td>123131.0</td>\n",
              "      <td>115046.0</td>\n",
              "      <td>21015.0</td>\n",
              "      <td>103693.0</td>\n",
              "      <td>94031.0</td>\n",
              "      <td>20802.0</td>\n",
              "    </tr>\n",
              "    <tr>\n",
              "      <th>124806</th>\n",
              "      <td>03/24/2022</td>\n",
              "      <td>05077</td>\n",
              "      <td>12</td>\n",
              "      <td>Lee County</td>\n",
              "      <td>AR</td>\n",
              "      <td>90.5</td>\n",
              "      <td>3783.0</td>\n",
              "      <td>42.7</td>\n",
              "      <td>3780.0</td>\n",
              "      <td>45.0</td>\n",
              "      <td>...</td>\n",
              "      <td>7.0</td>\n",
              "      <td>7.0</td>\n",
              "      <td>7.0</td>\n",
              "      <td>6.0</td>\n",
              "      <td>8857.0</td>\n",
              "      <td>8395.0</td>\n",
              "      <td>1169.0</td>\n",
              "      <td>7777.0</td>\n",
              "      <td>7226.0</td>\n",
              "      <td>1787.0</td>\n",
              "    </tr>\n",
              "    <tr>\n",
              "      <th>104974</th>\n",
              "      <td>03/31/2022</td>\n",
              "      <td>28121</td>\n",
              "      <td>13</td>\n",
              "      <td>Rankin County</td>\n",
              "      <td>MS</td>\n",
              "      <td>98.1</td>\n",
              "      <td>88817.0</td>\n",
              "      <td>57.2</td>\n",
              "      <td>88811.0</td>\n",
              "      <td>60.6</td>\n",
              "      <td>...</td>\n",
              "      <td>2.0</td>\n",
              "      <td>2.0</td>\n",
              "      <td>3.0</td>\n",
              "      <td>2.0</td>\n",
              "      <td>155271.0</td>\n",
              "      <td>146473.0</td>\n",
              "      <td>26599.0</td>\n",
              "      <td>132636.0</td>\n",
              "      <td>119874.0</td>\n",
              "      <td>24326.0</td>\n",
              "    </tr>\n",
              "    <tr>\n",
              "      <th>70828</th>\n",
              "      <td>04/10/2022</td>\n",
              "      <td>21221</td>\n",
              "      <td>15</td>\n",
              "      <td>Trigg County</td>\n",
              "      <td>KY</td>\n",
              "      <td>94.0</td>\n",
              "      <td>7748.0</td>\n",
              "      <td>52.9</td>\n",
              "      <td>7746.0</td>\n",
              "      <td>55.8</td>\n",
              "      <td>...</td>\n",
              "      <td>3.0</td>\n",
              "      <td>3.0</td>\n",
              "      <td>3.0</td>\n",
              "      <td>2.0</td>\n",
              "      <td>14651.0</td>\n",
              "      <td>13894.0</td>\n",
              "      <td>2346.0</td>\n",
              "      <td>12684.0</td>\n",
              "      <td>11548.0</td>\n",
              "      <td>3394.0</td>\n",
              "    </tr>\n",
              "    <tr>\n",
              "      <th>37019</th>\n",
              "      <td>04/20/2022</td>\n",
              "      <td>17025</td>\n",
              "      <td>16</td>\n",
              "      <td>Clay County</td>\n",
              "      <td>IL</td>\n",
              "      <td>98.3</td>\n",
              "      <td>5402.0</td>\n",
              "      <td>41.0</td>\n",
              "      <td>5399.0</td>\n",
              "      <td>43.6</td>\n",
              "      <td>...</td>\n",
              "      <td>7.0</td>\n",
              "      <td>7.0</td>\n",
              "      <td>7.0</td>\n",
              "      <td>7.0</td>\n",
              "      <td>13184.0</td>\n",
              "      <td>12391.0</td>\n",
              "      <td>2191.0</td>\n",
              "      <td>11221.0</td>\n",
              "      <td>10200.0</td>\n",
              "      <td>2738.0</td>\n",
              "    </tr>\n",
              "  </tbody>\n",
              "</table>\n",
              "<p>714 rows × 66 columns</p>\n",
              "</div>"
            ],
            "text/plain": [
              "              Date   FIPS  MMWR_week    Recip_County Recip_State  \\\n",
              "87617   04/05/2022  20027         14     Clay County          KS   \n",
              "116762  03/27/2022  12059         13   Holmes County          FL   \n",
              "39046   04/20/2022  41011         16     Coos County          OR   \n",
              "55028   04/15/2022  50021         15  Rutland County          VT   \n",
              "43949   04/18/2022  04019         16     Pima County          AZ   \n",
              "...            ...    ...        ...             ...         ...   \n",
              "125715  03/24/2022  37191         12    Wayne County          NC   \n",
              "124806  03/24/2022  05077         12      Lee County          AR   \n",
              "104974  03/31/2022  28121         13   Rankin County          MS   \n",
              "70828   04/10/2022  21221         15    Trigg County          KY   \n",
              "37019   04/20/2022  17025         16     Clay County          IL   \n",
              "\n",
              "        Completeness_pct  Administered_Dose1_Recip  \\\n",
              "87617               93.6                    5361.0   \n",
              "116762              98.6                    6931.0   \n",
              "39046               97.8                   40919.0   \n",
              "55028               73.5                   46046.0   \n",
              "43949               97.7                  859403.0   \n",
              "...                  ...                       ...   \n",
              "125715              96.9                   80845.0   \n",
              "124806              90.5                    3783.0   \n",
              "104974              98.1                   88817.0   \n",
              "70828               94.0                    7748.0   \n",
              "37019               98.3                    5402.0   \n",
              "\n",
              "        Administered_Dose1_Pop_Pct  Administered_Dose1_Recip_5Plus  \\\n",
              "87617                         67.0                          5361.0   \n",
              "116762                        35.3                          6926.0   \n",
              "39046                         63.5                         40908.0   \n",
              "55028                         79.1                         46033.0   \n",
              "43949                         82.1                        859010.0   \n",
              "...                            ...                             ...   \n",
              "125715                        65.7                         80824.0   \n",
              "124806                        42.7                          3780.0   \n",
              "104974                        57.2                         88811.0   \n",
              "70828                         52.9                          7746.0   \n",
              "37019                         41.0                          5399.0   \n",
              "\n",
              "        Administered_Dose1_Recip_5PlusPop_Pct  ...  \\\n",
              "87617                                    71.2  ...   \n",
              "116762                                   37.4  ...   \n",
              "39046                                    66.6  ...   \n",
              "55028                                    82.8  ...   \n",
              "43949                                    86.7  ...   \n",
              "...                                       ...  ...   \n",
              "125715                                   70.3  ...   \n",
              "124806                                   45.0  ...   \n",
              "104974                                   60.6  ...   \n",
              "70828                                    55.8  ...   \n",
              "37019                                    43.6  ...   \n",
              "\n",
              "        Booster_Doses_Vax_Pct_UR_Equity  \\\n",
              "87617                               7.0   \n",
              "116762                              5.0   \n",
              "39046                               8.0   \n",
              "55028                               8.0   \n",
              "43949                               3.0   \n",
              "...                                 ...   \n",
              "125715                              1.0   \n",
              "124806                              7.0   \n",
              "104974                              2.0   \n",
              "70828                               3.0   \n",
              "37019                               7.0   \n",
              "\n",
              "        Booster_Doses_12PlusVax_Pct_UR_Equity  \\\n",
              "87617                                     7.0   \n",
              "116762                                    6.0   \n",
              "39046                                     8.0   \n",
              "55028                                     8.0   \n",
              "43949                                     3.0   \n",
              "...                                       ...   \n",
              "125715                                    1.0   \n",
              "124806                                    7.0   \n",
              "104974                                    2.0   \n",
              "70828                                     3.0   \n",
              "37019                                     7.0   \n",
              "\n",
              "        Booster_Doses_18PlusVax_Pct_UR_Equity  \\\n",
              "87617                                     7.0   \n",
              "116762                                    6.0   \n",
              "39046                                     8.0   \n",
              "55028                                     8.0   \n",
              "43949                                     3.0   \n",
              "...                                       ...   \n",
              "125715                                    1.0   \n",
              "124806                                    7.0   \n",
              "104974                                    3.0   \n",
              "70828                                     3.0   \n",
              "37019                                     7.0   \n",
              "\n",
              "        Booster_Doses_65PlusVax_Pct_UR_Equity  Census2019  \\\n",
              "87617                                     7.0      8002.0   \n",
              "116762                                    5.0     19617.0   \n",
              "39046                                     7.0     64487.0   \n",
              "55028                                     7.0     58191.0   \n",
              "43949                                     3.0   1047279.0   \n",
              "...                                       ...         ...   \n",
              "125715                                    1.0    123131.0   \n",
              "124806                                    6.0      8857.0   \n",
              "104974                                    2.0    155271.0   \n",
              "70828                                     2.0     14651.0   \n",
              "37019                                     7.0     13184.0   \n",
              "\n",
              "        Census2019_5PlusPop  Census2019_5to17Pop  Census2019_12PlusPop  \\\n",
              "87617                7531.0               1399.0                6784.0   \n",
              "116762              18524.0               2900.0               17023.0   \n",
              "39046               61391.0               8686.0               56760.0   \n",
              "55028               55626.0               7653.0               51677.0   \n",
              "43949              990261.0             158289.0              905833.0   \n",
              "...                     ...                  ...                   ...   \n",
              "125715             115046.0              21015.0              103693.0   \n",
              "124806               8395.0               1169.0                7777.0   \n",
              "104974             146473.0              26599.0              132636.0   \n",
              "70828               13894.0               2346.0               12684.0   \n",
              "37019               12391.0               2191.0               11221.0   \n",
              "\n",
              "        Census2019_18PlusPop  Census2019_65PlusPop  \n",
              "87617                 6132.0                1880.0  \n",
              "116762               15624.0                3921.0  \n",
              "39046                52705.0               17093.0  \n",
              "55028                47973.0               13232.0  \n",
              "43949               831972.0              212554.0  \n",
              "...                      ...                   ...  \n",
              "125715               94031.0               20802.0  \n",
              "124806                7226.0                1787.0  \n",
              "104974              119874.0               24326.0  \n",
              "70828                11548.0                3394.0  \n",
              "37019                10200.0                2738.0  \n",
              "\n",
              "[714 rows x 66 columns]"
            ]
          },
          "execution_count": 58,
          "metadata": {},
          "output_type": "execute_result"
        }
      ],
      "source": [
        "vaccine_df"
      ]
    },
    {
      "cell_type": "code",
      "execution_count": 59,
      "metadata": {
        "colab": {
          "base_uri": "https://localhost:8080/"
        },
        "id": "8ve6QroDMGCT",
        "outputId": "f5071b65-8971-4eaf-d620-d1a273720ab5"
      },
      "outputs": [
        {
          "data": {
            "text/plain": [
              "TX    54\n",
              "GA    32\n",
              "KS    29\n",
              "NC    28\n",
              "IL    28\n",
              "MO    27\n",
              "KY    26\n",
              "IA    26\n",
              "VA    25\n",
              "MN    23\n",
              "AR    22\n",
              "OH    20\n",
              "PA    19\n",
              "NY    19\n",
              "FL    18\n",
              "IN    18\n",
              "MS    18\n",
              "MI    18\n",
              "OK    17\n",
              "PR    16\n",
              "WV    16\n",
              "AL    15\n",
              "LA    15\n",
              "ID    14\n",
              "MT    12\n",
              "WI    11\n",
              "CO    11\n",
              "SD    11\n",
              "WY    11\n",
              "TN    11\n",
              "ND    11\n",
              "AK    10\n",
              "SC     9\n",
              "NM     9\n",
              "OR     9\n",
              "CA     8\n",
              "ME     7\n",
              "WA     7\n",
              "NJ     6\n",
              "NV     5\n",
              "MD     4\n",
              "NE     3\n",
              "CT     3\n",
              "VT     3\n",
              "UT     3\n",
              "RI     2\n",
              "AZ     2\n",
              "NH     1\n",
              "DC     1\n",
              "MA     1\n",
              "Name: Recip_State, dtype: int64"
            ]
          },
          "execution_count": 59,
          "metadata": {},
          "output_type": "execute_result"
        }
      ],
      "source": [
        "vaccine_df[\"Recip_State\"].value_counts()"
      ]
    },
    {
      "cell_type": "code",
      "execution_count": 60,
      "metadata": {
        "id": "2jPQabAPOO3N"
      },
      "outputs": [],
      "source": [
        "tx_df = vaccine_df[vaccine_df[\"Recip_State\"] == \"TX\"]\n"
      ]
    },
    {
      "cell_type": "code",
      "execution_count": 61,
      "metadata": {
        "colab": {
          "base_uri": "https://localhost:8080/"
        },
        "id": "mEmTbznMORcE",
        "outputId": "35bef52b-16f3-445f-b86e-b1f7aa9389fc"
      },
      "outputs": [
        {
          "name": "stdout",
          "output_type": "stream",
          "text": [
            "Texas Counties:\n",
            " Non-metro    41\n",
            "Metro        13\n",
            "Name: Metro_status, dtype: int64\n"
          ]
        }
      ],
      "source": [
        "tx_nonmetro= (tx_df[\"Metro_status\"].value_counts())\n",
        "print(\"Texas Counties:\\n\", tx_nonmetro)\n",
        "# print(\"Texas Number of Metro Counties:\", tx_metro)"
      ]
    },
    {
      "cell_type": "markdown",
      "metadata": {
        "id": "UzjLLdXkdF_7"
      },
      "source": [
        "# Education Data"
      ]
    },
    {
      "cell_type": "code",
      "execution_count": 62,
      "metadata": {
        "id": "uqSs4X-pOZ0Z"
      },
      "outputs": [],
      "source": [
        "def makelower(text):\n",
        "  return text.lower()"
      ]
    },
    {
      "cell_type": "code",
      "execution_count": 63,
      "metadata": {
        "colab": {
          "base_uri": "https://localhost:8080/",
          "height": 659
        },
        "id": "ZAjxwaukdIvZ",
        "outputId": "be1279f8-247e-4511-8067-b266b96debe4"
      },
      "outputs": [
        {
          "data": {
            "text/html": [
              "<div>\n",
              "<style scoped>\n",
              "    .dataframe tbody tr th:only-of-type {\n",
              "        vertical-align: middle;\n",
              "    }\n",
              "\n",
              "    .dataframe tbody tr th {\n",
              "        vertical-align: top;\n",
              "    }\n",
              "\n",
              "    .dataframe thead th {\n",
              "        text-align: right;\n",
              "    }\n",
              "</style>\n",
              "<table border=\"1\" class=\"dataframe\">\n",
              "  <thead>\n",
              "    <tr style=\"text-align: right;\">\n",
              "      <th></th>\n",
              "      <th>GEO_ID</th>\n",
              "      <th>County, State</th>\n",
              "      <th>State</th>\n",
              "      <th>Total Adult Population</th>\n",
              "      <th>Adult Population with High School Diploma or Higher</th>\n",
              "      <th>Adult Population with Bachelor's Degree or Higher</th>\n",
              "    </tr>\n",
              "  </thead>\n",
              "  <tbody>\n",
              "    <tr>\n",
              "      <th>0</th>\n",
              "      <td>0500000US01001</td>\n",
              "      <td>autauga county, alabama</td>\n",
              "      <td>alabama</td>\n",
              "      <td>37860.0</td>\n",
              "      <td>33587.0</td>\n",
              "      <td>10721.0</td>\n",
              "    </tr>\n",
              "    <tr>\n",
              "      <th>1</th>\n",
              "      <td>0500000US01003</td>\n",
              "      <td>baldwin county, alabama</td>\n",
              "      <td>alabama</td>\n",
              "      <td>155563.0</td>\n",
              "      <td>140740.0</td>\n",
              "      <td>49636.0</td>\n",
              "    </tr>\n",
              "    <tr>\n",
              "      <th>2</th>\n",
              "      <td>0500000US01005</td>\n",
              "      <td>barbour county, alabama</td>\n",
              "      <td>alabama</td>\n",
              "      <td>17797.0</td>\n",
              "      <td>13300.0</td>\n",
              "      <td>2067.0</td>\n",
              "    </tr>\n",
              "    <tr>\n",
              "      <th>3</th>\n",
              "      <td>0500000US01007</td>\n",
              "      <td>bibb county, alabama</td>\n",
              "      <td>alabama</td>\n",
              "      <td>15987.0</td>\n",
              "      <td>12931.0</td>\n",
              "      <td>1814.0</td>\n",
              "    </tr>\n",
              "    <tr>\n",
              "      <th>4</th>\n",
              "      <td>0500000US01009</td>\n",
              "      <td>blount county, alabama</td>\n",
              "      <td>alabama</td>\n",
              "      <td>39814.0</td>\n",
              "      <td>32976.0</td>\n",
              "      <td>5276.0</td>\n",
              "    </tr>\n",
              "    <tr>\n",
              "      <th>...</th>\n",
              "      <td>...</td>\n",
              "      <td>...</td>\n",
              "      <td>...</td>\n",
              "      <td>...</td>\n",
              "      <td>...</td>\n",
              "      <td>...</td>\n",
              "    </tr>\n",
              "    <tr>\n",
              "      <th>3136</th>\n",
              "      <td>0500000US56037</td>\n",
              "      <td>sweetwater county, wyoming</td>\n",
              "      <td>wyoming</td>\n",
              "      <td>28236.0</td>\n",
              "      <td>26138.0</td>\n",
              "      <td>5989.0</td>\n",
              "    </tr>\n",
              "    <tr>\n",
              "      <th>3137</th>\n",
              "      <td>0500000US56039</td>\n",
              "      <td>teton county, wyoming</td>\n",
              "      <td>wyoming</td>\n",
              "      <td>17782.0</td>\n",
              "      <td>16837.0</td>\n",
              "      <td>9789.0</td>\n",
              "    </tr>\n",
              "    <tr>\n",
              "      <th>3138</th>\n",
              "      <td>0500000US56041</td>\n",
              "      <td>uinta county, wyoming</td>\n",
              "      <td>wyoming</td>\n",
              "      <td>13093.0</td>\n",
              "      <td>12190.0</td>\n",
              "      <td>2501.0</td>\n",
              "    </tr>\n",
              "    <tr>\n",
              "      <th>3139</th>\n",
              "      <td>0500000US56043</td>\n",
              "      <td>washakie county, wyoming</td>\n",
              "      <td>wyoming</td>\n",
              "      <td>5515.0</td>\n",
              "      <td>5074.0</td>\n",
              "      <td>1313.0</td>\n",
              "    </tr>\n",
              "    <tr>\n",
              "      <th>3140</th>\n",
              "      <td>0500000US56045</td>\n",
              "      <td>weston county, wyoming</td>\n",
              "      <td>wyoming</td>\n",
              "      <td>4933.0</td>\n",
              "      <td>4604.0</td>\n",
              "      <td>848.0</td>\n",
              "    </tr>\n",
              "  </tbody>\n",
              "</table>\n",
              "<p>3141 rows × 6 columns</p>\n",
              "</div>"
            ],
            "text/plain": [
              "              GEO_ID               County, State     State  \\\n",
              "0     0500000US01001     autauga county, alabama   alabama   \n",
              "1     0500000US01003     baldwin county, alabama   alabama   \n",
              "2     0500000US01005     barbour county, alabama   alabama   \n",
              "3     0500000US01007        bibb county, alabama   alabama   \n",
              "4     0500000US01009      blount county, alabama   alabama   \n",
              "...              ...                         ...       ...   \n",
              "3136  0500000US56037  sweetwater county, wyoming   wyoming   \n",
              "3137  0500000US56039       teton county, wyoming   wyoming   \n",
              "3138  0500000US56041       uinta county, wyoming   wyoming   \n",
              "3139  0500000US56043    washakie county, wyoming   wyoming   \n",
              "3140  0500000US56045      weston county, wyoming   wyoming   \n",
              "\n",
              "      Total Adult Population  \\\n",
              "0                    37860.0   \n",
              "1                   155563.0   \n",
              "2                    17797.0   \n",
              "3                    15987.0   \n",
              "4                    39814.0   \n",
              "...                      ...   \n",
              "3136                 28236.0   \n",
              "3137                 17782.0   \n",
              "3138                 13093.0   \n",
              "3139                  5515.0   \n",
              "3140                  4933.0   \n",
              "\n",
              "      Adult Population with High School Diploma or Higher  \\\n",
              "0                                               33587.0     \n",
              "1                                              140740.0     \n",
              "2                                               13300.0     \n",
              "3                                               12931.0     \n",
              "4                                               32976.0     \n",
              "...                                                 ...     \n",
              "3136                                            26138.0     \n",
              "3137                                            16837.0     \n",
              "3138                                            12190.0     \n",
              "3139                                             5074.0     \n",
              "3140                                             4604.0     \n",
              "\n",
              "      Adult Population with Bachelor's Degree or Higher  \n",
              "0                                               10721.0  \n",
              "1                                               49636.0  \n",
              "2                                                2067.0  \n",
              "3                                                1814.0  \n",
              "4                                                5276.0  \n",
              "...                                                 ...  \n",
              "3136                                             5989.0  \n",
              "3137                                             9789.0  \n",
              "3138                                             2501.0  \n",
              "3139                                             1313.0  \n",
              "3140                                              848.0  \n",
              "\n",
              "[3141 rows x 6 columns]"
            ]
          },
          "execution_count": 63,
          "metadata": {},
          "output_type": "execute_result"
        }
      ],
      "source": [
        "education_df['County, State'] = education_df['County, State'].apply(makelower)\n",
        "education_df['State'] = education_df['State'].apply(makelower)\n",
        "education_df"
      ]
    },
    {
      "cell_type": "code",
      "execution_count": 64,
      "metadata": {
        "colab": {
          "base_uri": "https://localhost:8080/",
          "height": 226
        },
        "id": "5MIayYyiddp5",
        "outputId": "35130eaf-b71f-4d89-cbc4-2c52f870ca8d"
      },
      "outputs": [
        {
          "name": "stdout",
          "output_type": "stream",
          "text": [
            "The Pearson correlation coefficient matrix\n"
          ]
        },
        {
          "data": {
            "text/html": [
              "<div>\n",
              "<style scoped>\n",
              "    .dataframe tbody tr th:only-of-type {\n",
              "        vertical-align: middle;\n",
              "    }\n",
              "\n",
              "    .dataframe tbody tr th {\n",
              "        vertical-align: top;\n",
              "    }\n",
              "\n",
              "    .dataframe thead th {\n",
              "        text-align: right;\n",
              "    }\n",
              "</style>\n",
              "<table border=\"1\" class=\"dataframe\">\n",
              "  <thead>\n",
              "    <tr style=\"text-align: right;\">\n",
              "      <th></th>\n",
              "      <th>Adult Population with High School Diploma or Higher</th>\n",
              "      <th>Adult Population with Bachelor's Degree or Higher</th>\n",
              "    </tr>\n",
              "  </thead>\n",
              "  <tbody>\n",
              "    <tr>\n",
              "      <th>Adult Population with High School Diploma or Higher</th>\n",
              "      <td>1.000000</td>\n",
              "      <td>0.980357</td>\n",
              "    </tr>\n",
              "    <tr>\n",
              "      <th>Adult Population with Bachelor's Degree or Higher</th>\n",
              "      <td>0.980357</td>\n",
              "      <td>1.000000</td>\n",
              "    </tr>\n",
              "  </tbody>\n",
              "</table>\n",
              "</div>"
            ],
            "text/plain": [
              "                                                    Adult Population with High School Diploma or Higher  \\\n",
              "Adult Population with High School Diploma or Hi...                                           1.000000     \n",
              "Adult Population with Bachelor's Degree or Higher                                            0.980357     \n",
              "\n",
              "                                                    Adult Population with Bachelor's Degree or Higher  \n",
              "Adult Population with High School Diploma or Hi...                                           0.980357  \n",
              "Adult Population with Bachelor's Degree or Higher                                            1.000000  "
            ]
          },
          "execution_count": 64,
          "metadata": {},
          "output_type": "execute_result"
        }
      ],
      "source": [
        "highSchool_bachelor_pearson = education_df[['Adult Population with High School Diploma or Higher','Adult Population with Bachelor\\'s Degree or Higher']].corr(method='pearson')\n",
        "print(\"The Pearson correlation coefficient matrix\")\n",
        "highSchool_bachelor_pearson"
      ]
    },
    {
      "cell_type": "code",
      "execution_count": 106,
      "metadata": {
        "colab": {
          "base_uri": "https://localhost:8080/",
          "height": 363
        },
        "id": "7Wxj0erqR-kL",
        "outputId": "1ac21e1f-ffc1-405a-cd2f-010f13c54b6c"
      },
      "outputs": [
        {
          "data": {
            "image/png": "[encoded data removed]",
            "text/plain": [
              "<Figure size 1800x720 with 1 Axes>"
            ]
          },
          "metadata": {
            "needs_background": "light"
          },
          "output_type": "display_data"
        }
      ],
      "source": [
        "edu_states = education_df[\"State\"].unique()\n",
        "edu_values = education_df.groupby([\"State\"]).mean()\n",
        "# print(edu_values)\n",
        "edu_values[\"HS/Total\"] = edu_values[\"Adult Population with High School Diploma or Higher\"]/edu_values[\"Total Adult Population\"]\n",
        "edu_values[\"BS/Total\"] = edu_values[\"Adult Population with Bachelor's Degree or Higher\"]/edu_values[\"Total Adult Population\"]\n",
        "# edu_values.sort_values(by=['HS/Total'])\n",
        "# print(edu_values)\n",
        "\n",
        "\n",
        "# fig, axs = plt.subplots(1, 2, figsize=(9, 3), sharey=True)\n",
        "fig, ax = plt.subplots(figsize=(25, 10))\n",
        "plt.bar(edu_states, edu_values[\"HS/Total\"], width=0.8)\n",
        "plt.bar(edu_states, edu_values[\"BS/Total\"], width=0.8)\n",
        "plt.xticks(rotation = 45, ha='right')\n",
        "plt.xlabel(\"Level of Education\")\n",
        "plt.ylabel('% Population')\n",
        "plt.title(\"Education Attainment\")\n",
        "plt.show()\n",
        "\n",
        "\n",
        "  \n",
        "\n",
        "\n"
      ]
    },
    {
      "cell_type": "code",
      "execution_count": 66,
      "metadata": {
        "id": "qiQ5bPxQhNdy"
      },
      "outputs": [],
      "source": [
        "newdf = vaccinehesitancy.copy()"
      ]
    },
    {
      "cell_type": "code",
      "execution_count": 67,
      "metadata": {
        "colab": {
          "base_uri": "https://localhost:8080/",
          "height": 922
        },
        "id": "9KxsvNXTiCK3",
        "outputId": "fb3d8b3d-8d7c-4750-f42b-3db7a844f024"
      },
      "outputs": [
        {
          "data": {
            "text/html": [
              "<div>\n",
              "<style scoped>\n",
              "    .dataframe tbody tr th:only-of-type {\n",
              "        vertical-align: middle;\n",
              "    }\n",
              "\n",
              "    .dataframe tbody tr th {\n",
              "        vertical-align: top;\n",
              "    }\n",
              "\n",
              "    .dataframe thead th {\n",
              "        text-align: right;\n",
              "    }\n",
              "</style>\n",
              "<table border=\"1\" class=\"dataframe\">\n",
              "  <thead>\n",
              "    <tr style=\"text-align: right;\">\n",
              "      <th></th>\n",
              "      <th>FIPS Code</th>\n",
              "      <th>County Name</th>\n",
              "      <th>State</th>\n",
              "      <th>Estimated hesitant</th>\n",
              "      <th>Estimated hesitant or unsure</th>\n",
              "      <th>Estimated strongly hesitant</th>\n",
              "      <th>SVI</th>\n",
              "      <th>SVI Category</th>\n",
              "      <th>CVAC</th>\n",
              "      <th>CVAC Category</th>\n",
              "      <th>...</th>\n",
              "      <th>Percent Hispanic</th>\n",
              "      <th>Percent non-Hispanic American Indian/Alaska Native</th>\n",
              "      <th>Percent non-Hispanic Asian</th>\n",
              "      <th>Percent non-Hispanic Black</th>\n",
              "      <th>Percent non-Hispanic Native Hawaiian/Pacific Islander</th>\n",
              "      <th>Percent non-Hispanic White</th>\n",
              "      <th>State Code</th>\n",
              "      <th>Total Adult Population</th>\n",
              "      <th>Adult Population with High School Diploma or Higher</th>\n",
              "      <th>Adult Population with Bachelor's Degree or Higher</th>\n",
              "    </tr>\n",
              "  </thead>\n",
              "  <tbody>\n",
              "    <tr>\n",
              "      <th>0</th>\n",
              "      <td>1001</td>\n",
              "      <td>autauga county, alabama</td>\n",
              "      <td>alabama</td>\n",
              "      <td>0.1685</td>\n",
              "      <td>0.2233</td>\n",
              "      <td>0.1272</td>\n",
              "      <td>0.44</td>\n",
              "      <td>moderate vulnerability</td>\n",
              "      <td>0.61</td>\n",
              "      <td>high concern</td>\n",
              "      <td>...</td>\n",
              "      <td>0.0283</td>\n",
              "      <td>0.0025</td>\n",
              "      <td>0.0103</td>\n",
              "      <td>0.1900</td>\n",
              "      <td>0.0001</td>\n",
              "      <td>0.7460</td>\n",
              "      <td>AL</td>\n",
              "      <td>37860.0</td>\n",
              "      <td>33587.0</td>\n",
              "      <td>10721.0</td>\n",
              "    </tr>\n",
              "    <tr>\n",
              "      <th>1</th>\n",
              "      <td>1003</td>\n",
              "      <td>baldwin county, alabama</td>\n",
              "      <td>alabama</td>\n",
              "      <td>0.1544</td>\n",
              "      <td>0.1988</td>\n",
              "      <td>0.1169</td>\n",
              "      <td>0.22</td>\n",
              "      <td>low vulnerability</td>\n",
              "      <td>0.23</td>\n",
              "      <td>low concern</td>\n",
              "      <td>...</td>\n",
              "      <td>0.0456</td>\n",
              "      <td>0.0065</td>\n",
              "      <td>0.0092</td>\n",
              "      <td>0.0917</td>\n",
              "      <td>0.0000</td>\n",
              "      <td>0.8307</td>\n",
              "      <td>AL</td>\n",
              "      <td>155563.0</td>\n",
              "      <td>140740.0</td>\n",
              "      <td>49636.0</td>\n",
              "    </tr>\n",
              "    <tr>\n",
              "      <th>2</th>\n",
              "      <td>1005</td>\n",
              "      <td>barbour county, alabama</td>\n",
              "      <td>alabama</td>\n",
              "      <td>0.1676</td>\n",
              "      <td>0.2337</td>\n",
              "      <td>0.1274</td>\n",
              "      <td>1.00</td>\n",
              "      <td>very high vulnerability</td>\n",
              "      <td>0.89</td>\n",
              "      <td>very high concern</td>\n",
              "      <td>...</td>\n",
              "      <td>0.0436</td>\n",
              "      <td>0.0029</td>\n",
              "      <td>0.0048</td>\n",
              "      <td>0.4744</td>\n",
              "      <td>0.0000</td>\n",
              "      <td>0.4581</td>\n",
              "      <td>AL</td>\n",
              "      <td>17797.0</td>\n",
              "      <td>13300.0</td>\n",
              "      <td>2067.0</td>\n",
              "    </tr>\n",
              "    <tr>\n",
              "      <th>3</th>\n",
              "      <td>1007</td>\n",
              "      <td>bibb county, alabama</td>\n",
              "      <td>alabama</td>\n",
              "      <td>0.1808</td>\n",
              "      <td>0.2526</td>\n",
              "      <td>0.1390</td>\n",
              "      <td>0.60</td>\n",
              "      <td>high vulnerability</td>\n",
              "      <td>0.76</td>\n",
              "      <td>high concern</td>\n",
              "      <td>...</td>\n",
              "      <td>0.0257</td>\n",
              "      <td>0.0013</td>\n",
              "      <td>0.0012</td>\n",
              "      <td>0.2214</td>\n",
              "      <td>0.0000</td>\n",
              "      <td>0.7453</td>\n",
              "      <td>AL</td>\n",
              "      <td>15987.0</td>\n",
              "      <td>12931.0</td>\n",
              "      <td>1814.0</td>\n",
              "    </tr>\n",
              "    <tr>\n",
              "      <th>4</th>\n",
              "      <td>1009</td>\n",
              "      <td>blount county, alabama</td>\n",
              "      <td>alabama</td>\n",
              "      <td>0.1854</td>\n",
              "      <td>0.2362</td>\n",
              "      <td>0.1416</td>\n",
              "      <td>0.42</td>\n",
              "      <td>moderate vulnerability</td>\n",
              "      <td>0.80</td>\n",
              "      <td>high concern</td>\n",
              "      <td>...</td>\n",
              "      <td>0.0926</td>\n",
              "      <td>0.0007</td>\n",
              "      <td>0.0037</td>\n",
              "      <td>0.0153</td>\n",
              "      <td>0.0004</td>\n",
              "      <td>0.8689</td>\n",
              "      <td>AL</td>\n",
              "      <td>39814.0</td>\n",
              "      <td>32976.0</td>\n",
              "      <td>5276.0</td>\n",
              "    </tr>\n",
              "    <tr>\n",
              "      <th>...</th>\n",
              "      <td>...</td>\n",
              "      <td>...</td>\n",
              "      <td>...</td>\n",
              "      <td>...</td>\n",
              "      <td>...</td>\n",
              "      <td>...</td>\n",
              "      <td>...</td>\n",
              "      <td>...</td>\n",
              "      <td>...</td>\n",
              "      <td>...</td>\n",
              "      <td>...</td>\n",
              "      <td>...</td>\n",
              "      <td>...</td>\n",
              "      <td>...</td>\n",
              "      <td>...</td>\n",
              "      <td>...</td>\n",
              "      <td>...</td>\n",
              "      <td>...</td>\n",
              "      <td>...</td>\n",
              "      <td>...</td>\n",
              "      <td>...</td>\n",
              "    </tr>\n",
              "    <tr>\n",
              "      <th>3136</th>\n",
              "      <td>56037</td>\n",
              "      <td>sweetwater county, wyoming</td>\n",
              "      <td>wyoming</td>\n",
              "      <td>0.2184</td>\n",
              "      <td>0.2843</td>\n",
              "      <td>0.1584</td>\n",
              "      <td>0.37</td>\n",
              "      <td>low vulnerability</td>\n",
              "      <td>0.56</td>\n",
              "      <td>moderate concern</td>\n",
              "      <td>...</td>\n",
              "      <td>0.1588</td>\n",
              "      <td>0.0102</td>\n",
              "      <td>0.0074</td>\n",
              "      <td>0.0112</td>\n",
              "      <td>0.0003</td>\n",
              "      <td>0.7956</td>\n",
              "      <td>WY</td>\n",
              "      <td>28236.0</td>\n",
              "      <td>26138.0</td>\n",
              "      <td>5989.0</td>\n",
              "    </tr>\n",
              "    <tr>\n",
              "      <th>3137</th>\n",
              "      <td>56039</td>\n",
              "      <td>teton county, wyoming</td>\n",
              "      <td>wyoming</td>\n",
              "      <td>0.2050</td>\n",
              "      <td>0.2671</td>\n",
              "      <td>0.1472</td>\n",
              "      <td>0.11</td>\n",
              "      <td>very low vulnerability</td>\n",
              "      <td>0.44</td>\n",
              "      <td>moderate concern</td>\n",
              "      <td>...</td>\n",
              "      <td>0.1503</td>\n",
              "      <td>0.0033</td>\n",
              "      <td>0.0125</td>\n",
              "      <td>0.0124</td>\n",
              "      <td>0.0012</td>\n",
              "      <td>0.8134</td>\n",
              "      <td>WY</td>\n",
              "      <td>17782.0</td>\n",
              "      <td>16837.0</td>\n",
              "      <td>9789.0</td>\n",
              "    </tr>\n",
              "    <tr>\n",
              "      <th>3138</th>\n",
              "      <td>56041</td>\n",
              "      <td>uinta county, wyoming</td>\n",
              "      <td>wyoming</td>\n",
              "      <td>0.2184</td>\n",
              "      <td>0.2843</td>\n",
              "      <td>0.1584</td>\n",
              "      <td>0.45</td>\n",
              "      <td>moderate vulnerability</td>\n",
              "      <td>0.48</td>\n",
              "      <td>moderate concern</td>\n",
              "      <td>...</td>\n",
              "      <td>0.0913</td>\n",
              "      <td>0.0065</td>\n",
              "      <td>0.0016</td>\n",
              "      <td>0.0011</td>\n",
              "      <td>0.0000</td>\n",
              "      <td>0.8752</td>\n",
              "      <td>WY</td>\n",
              "      <td>13093.0</td>\n",
              "      <td>12190.0</td>\n",
              "      <td>2501.0</td>\n",
              "    </tr>\n",
              "    <tr>\n",
              "      <th>3139</th>\n",
              "      <td>56043</td>\n",
              "      <td>washakie county, wyoming</td>\n",
              "      <td>wyoming</td>\n",
              "      <td>0.2283</td>\n",
              "      <td>0.2943</td>\n",
              "      <td>0.1687</td>\n",
              "      <td>0.37</td>\n",
              "      <td>low vulnerability</td>\n",
              "      <td>0.69</td>\n",
              "      <td>high concern</td>\n",
              "      <td>...</td>\n",
              "      <td>0.1423</td>\n",
              "      <td>0.0052</td>\n",
              "      <td>0.0000</td>\n",
              "      <td>0.0004</td>\n",
              "      <td>0.0000</td>\n",
              "      <td>0.8190</td>\n",
              "      <td>WY</td>\n",
              "      <td>5515.0</td>\n",
              "      <td>5074.0</td>\n",
              "      <td>1313.0</td>\n",
              "    </tr>\n",
              "    <tr>\n",
              "      <th>3140</th>\n",
              "      <td>56045</td>\n",
              "      <td>weston county, wyoming</td>\n",
              "      <td>wyoming</td>\n",
              "      <td>0.2283</td>\n",
              "      <td>0.2943</td>\n",
              "      <td>0.1687</td>\n",
              "      <td>0.35</td>\n",
              "      <td>low vulnerability</td>\n",
              "      <td>0.51</td>\n",
              "      <td>moderate concern</td>\n",
              "      <td>...</td>\n",
              "      <td>0.0108</td>\n",
              "      <td>0.0017</td>\n",
              "      <td>0.0077</td>\n",
              "      <td>0.0023</td>\n",
              "      <td>0.0011</td>\n",
              "      <td>0.9637</td>\n",
              "      <td>WY</td>\n",
              "      <td>4933.0</td>\n",
              "      <td>4604.0</td>\n",
              "      <td>848.0</td>\n",
              "    </tr>\n",
              "  </tbody>\n",
              "</table>\n",
              "<p>3141 rows × 21 columns</p>\n",
              "</div>"
            ],
            "text/plain": [
              "      FIPS Code                 County Name    State  Estimated hesitant  \\\n",
              "0          1001     autauga county, alabama  alabama              0.1685   \n",
              "1          1003     baldwin county, alabama  alabama              0.1544   \n",
              "2          1005     barbour county, alabama  alabama              0.1676   \n",
              "3          1007        bibb county, alabama  alabama              0.1808   \n",
              "4          1009      blount county, alabama  alabama              0.1854   \n",
              "...         ...                         ...      ...                 ...   \n",
              "3136      56037  sweetwater county, wyoming  wyoming              0.2184   \n",
              "3137      56039       teton county, wyoming  wyoming              0.2050   \n",
              "3138      56041       uinta county, wyoming  wyoming              0.2184   \n",
              "3139      56043    washakie county, wyoming  wyoming              0.2283   \n",
              "3140      56045      weston county, wyoming  wyoming              0.2283   \n",
              "\n",
              "      Estimated hesitant or unsure  Estimated strongly hesitant   SVI  \\\n",
              "0                           0.2233                       0.1272  0.44   \n",
              "1                           0.1988                       0.1169  0.22   \n",
              "2                           0.2337                       0.1274  1.00   \n",
              "3                           0.2526                       0.1390  0.60   \n",
              "4                           0.2362                       0.1416  0.42   \n",
              "...                            ...                          ...   ...   \n",
              "3136                        0.2843                       0.1584  0.37   \n",
              "3137                        0.2671                       0.1472  0.11   \n",
              "3138                        0.2843                       0.1584  0.45   \n",
              "3139                        0.2943                       0.1687  0.37   \n",
              "3140                        0.2943                       0.1687  0.35   \n",
              "\n",
              "                 SVI Category  CVAC      CVAC Category  ...  Percent Hispanic  \\\n",
              "0      moderate vulnerability  0.61       high concern  ...            0.0283   \n",
              "1           low vulnerability  0.23        low concern  ...            0.0456   \n",
              "2     very high vulnerability  0.89  very high concern  ...            0.0436   \n",
              "3          high vulnerability  0.76       high concern  ...            0.0257   \n",
              "4      moderate vulnerability  0.80       high concern  ...            0.0926   \n",
              "...                       ...   ...                ...  ...               ...   \n",
              "3136        low vulnerability  0.56   moderate concern  ...            0.1588   \n",
              "3137   very low vulnerability  0.44   moderate concern  ...            0.1503   \n",
              "3138   moderate vulnerability  0.48   moderate concern  ...            0.0913   \n",
              "3139        low vulnerability  0.69       high concern  ...            0.1423   \n",
              "3140        low vulnerability  0.51   moderate concern  ...            0.0108   \n",
              "\n",
              "      Percent non-Hispanic American Indian/Alaska Native  \\\n",
              "0                                                0.0025    \n",
              "1                                                0.0065    \n",
              "2                                                0.0029    \n",
              "3                                                0.0013    \n",
              "4                                                0.0007    \n",
              "...                                                 ...    \n",
              "3136                                             0.0102    \n",
              "3137                                             0.0033    \n",
              "3138                                             0.0065    \n",
              "3139                                             0.0052    \n",
              "3140                                             0.0017    \n",
              "\n",
              "      Percent non-Hispanic Asian  Percent non-Hispanic Black  \\\n",
              "0                         0.0103                      0.1900   \n",
              "1                         0.0092                      0.0917   \n",
              "2                         0.0048                      0.4744   \n",
              "3                         0.0012                      0.2214   \n",
              "4                         0.0037                      0.0153   \n",
              "...                          ...                         ...   \n",
              "3136                      0.0074                      0.0112   \n",
              "3137                      0.0125                      0.0124   \n",
              "3138                      0.0016                      0.0011   \n",
              "3139                      0.0000                      0.0004   \n",
              "3140                      0.0077                      0.0023   \n",
              "\n",
              "      Percent non-Hispanic Native Hawaiian/Pacific Islander  \\\n",
              "0                                                0.0001       \n",
              "1                                                0.0000       \n",
              "2                                                0.0000       \n",
              "3                                                0.0000       \n",
              "4                                                0.0004       \n",
              "...                                                 ...       \n",
              "3136                                             0.0003       \n",
              "3137                                             0.0012       \n",
              "3138                                             0.0000       \n",
              "3139                                             0.0000       \n",
              "3140                                             0.0011       \n",
              "\n",
              "      Percent non-Hispanic White  State Code Total Adult Population  \\\n",
              "0                         0.7460          AL                37860.0   \n",
              "1                         0.8307          AL               155563.0   \n",
              "2                         0.4581          AL                17797.0   \n",
              "3                         0.7453          AL                15987.0   \n",
              "4                         0.8689          AL                39814.0   \n",
              "...                          ...         ...                    ...   \n",
              "3136                      0.7956          WY                28236.0   \n",
              "3137                      0.8134          WY                17782.0   \n",
              "3138                      0.8752          WY                13093.0   \n",
              "3139                      0.8190          WY                 5515.0   \n",
              "3140                      0.9637          WY                 4933.0   \n",
              "\n",
              "      Adult Population with High School Diploma or Higher  \\\n",
              "0                                               33587.0     \n",
              "1                                              140740.0     \n",
              "2                                               13300.0     \n",
              "3                                               12931.0     \n",
              "4                                               32976.0     \n",
              "...                                                 ...     \n",
              "3136                                            26138.0     \n",
              "3137                                            16837.0     \n",
              "3138                                            12190.0     \n",
              "3139                                             5074.0     \n",
              "3140                                             4604.0     \n",
              "\n",
              "      Adult Population with Bachelor's Degree or Higher  \n",
              "0                                               10721.0  \n",
              "1                                               49636.0  \n",
              "2                                                2067.0  \n",
              "3                                                1814.0  \n",
              "4                                                5276.0  \n",
              "...                                                 ...  \n",
              "3136                                             5989.0  \n",
              "3137                                             9789.0  \n",
              "3138                                             2501.0  \n",
              "3139                                             1313.0  \n",
              "3140                                              848.0  \n",
              "\n",
              "[3141 rows x 21 columns]"
            ]
          },
          "execution_count": 67,
          "metadata": {},
          "output_type": "execute_result"
        }
      ],
      "source": [
        "hcounty = vaccinehesitancy[\"County Name\"]\n",
        "ecounty = education_df['County, State']\n",
        "\n",
        "def changename(txt):\n",
        "  if txt == \"Do√±a Ana County, New Mexico\":\n",
        "    return \"DoÃƒÂ±a Ana County, New Mexico\"\n",
        "  else:\n",
        "    return txt\n",
        "\n",
        "education_df['County, State'] = education_df['County, State'].apply(changename)\n",
        "\n",
        "newdf['Total Adult Population'] = education_df['Total Adult Population']\n",
        "newdf['Adult Population with High School Diploma or Higher'] = education_df['Adult Population with High School Diploma or Higher']\n",
        "newdf[\"Adult Population with Bachelor's Degree or Higher\"] = education_df[\"Adult Population with Bachelor's Degree or Higher\"]\n",
        "\n",
        "newdf"
      ]
    },
    {
      "cell_type": "code",
      "execution_count": 68,
      "metadata": {
        "id": "jiBL8tyYiYPH"
      },
      "outputs": [],
      "source": [
        "newdf[\"Pct Adult Population with High School Diploma or Higher\"] = newdf[\"Adult Population with High School Diploma or Higher\"]/(newdf[\"Total Adult Population\"])"
      ]
    },
    {
      "cell_type": "code",
      "execution_count": 69,
      "metadata": {
        "id": "7xZVTFiAluNp"
      },
      "outputs": [],
      "source": [
        "newdf[\"Pct Adult Population with Bachelor's Degree or Higher\"] = newdf[\"Adult Population with Bachelor's Degree or Higher\"]/(newdf[\"Total Adult Population\"])"
      ]
    },
    {
      "cell_type": "code",
      "execution_count": 70,
      "metadata": {
        "colab": {
          "base_uri": "https://localhost:8080/"
        },
        "id": "w0x9hWCw6KXm",
        "outputId": "46b50115-02b0-415d-87a1-c51f5b0b7213"
      },
      "outputs": [
        {
          "name": "stdout",
          "output_type": "stream",
          "text": [
            "*****************************High School Diploma or Higher *****************************\n",
            "Average percentage of the Adult population with a high school diploma or higher with SVI Category with very high vulnerability 81.18. \n",
            "Average percentage of the Adult population with a high school diploma or higher with SVI Category with high vulnerability 85.05. \n",
            "Average percentage of the Adult population with a high school diploma or higher with SVI Category with moderate vulnerability 88.00. \n",
            "Average percentage of the Adult population with a high school diploma or higher with SVI Category with low vulnerability 90.69. \n",
            "Average percentage of the Adult population with a high school diploma or higher with SVI Category with very low vulnerability 93.10. \n",
            "***************************** Bachelor's Degree or Higher *****************************\n",
            "Average percentage of the Adult population with a Bachelor's Degree or higher with SVI Category with very high vulnerability 16.34. \n",
            "Average percentage of the Adult population with a Bachelor's Degree or higher with SVI Category with high vulnerability 19.39. \n",
            "Average percentage of the Adult population with a Bachelor's Degree or higher with SVI Category with moderate vulnerability 22.79. \n",
            "Average percentage of the Adult population with a Bachelor's Degree or higher with SVI Category with low vulnerability 25.63. \n",
            "Average percentage of the Adult population with a Bachelor's Degree or higher with SVI Category with very low vulnerability 28.94. \n"
          ]
        }
      ],
      "source": [
        "print(\"*****************************High School Diploma or Higher *****************************\")\n",
        "hs_vhigh_svi= newdf[newdf[\"SVI Category\"] == \"very high vulnerability\"][\"Pct Adult Population with High School Diploma or Higher\"].mean()\n",
        "print(\"Average percentage of the Adult population with a high school diploma or higher with SVI Category with very high vulnerability %.2f. \"%(float(hs_vhigh_svi * 100)))\n",
        "\n",
        "hs_high_svi= newdf[newdf[\"SVI Category\"] == \"high vulnerability\"][\"Pct Adult Population with High School Diploma or Higher\"].mean()\n",
        "print(\"Average percentage of the Adult population with a high school diploma or higher with SVI Category with high vulnerability %.2f. \"%(float(hs_high_svi * 100)))\n",
        "\n",
        "hs_moderate_svi= newdf[newdf[\"SVI Category\"] == \"moderate vulnerability\"][\"Pct Adult Population with High School Diploma or Higher\"].mean()\n",
        "print(\"Average percentage of the Adult population with a high school diploma or higher with SVI Category with moderate vulnerability %.2f. \"%(float(hs_moderate_svi * 100)))\n",
        "\n",
        "hs_low_svi= newdf[newdf[\"SVI Category\"] == \"low vulnerability\"][\"Pct Adult Population with High School Diploma or Higher\"].mean()\n",
        "print(\"Average percentage of the Adult population with a high school diploma or higher with SVI Category with low vulnerability %.2f. \"%(float(hs_low_svi * 100)))\n",
        "\n",
        "hs_vlow_svi= newdf[newdf[\"SVI Category\"] == \"very low vulnerability\"][\"Pct Adult Population with High School Diploma or Higher\"].mean()\n",
        "print(\"Average percentage of the Adult population with a high school diploma or higher with SVI Category with very low vulnerability %.2f. \"%(float(hs_vlow_svi * 100)))\n",
        "\n",
        "print(\"***************************** Bachelor\\'s Degree or Higher *****************************\")\n",
        "bs_vhigh_svi= newdf[newdf[\"SVI Category\"] == \"very high vulnerability\"][\"Pct Adult Population with Bachelor's Degree or Higher\"].mean()\n",
        "print(\"Average percentage of the Adult population with a Bachelor's Degree or higher with SVI Category with very high vulnerability %.2f. \"%(float(bs_vhigh_svi * 100)))\n",
        "\n",
        "bs_high_svi= newdf[newdf[\"SVI Category\"] == \"high vulnerability\"][\"Pct Adult Population with Bachelor's Degree or Higher\"].mean()\n",
        "print(\"Average percentage of the Adult population with a Bachelor's Degree or higher with SVI Category with high vulnerability %.2f. \"%(float(bs_high_svi * 100)))\n",
        "\n",
        "bs_moderate_svi= newdf[newdf[\"SVI Category\"] == \"moderate vulnerability\"][\"Pct Adult Population with Bachelor's Degree or Higher\"].mean()\n",
        "print(\"Average percentage of the Adult population with a Bachelor's Degree or higher with SVI Category with moderate vulnerability %.2f. \"%(float(bs_moderate_svi * 100)))\n",
        "\n",
        "bs_low_svi= newdf[newdf[\"SVI Category\"] == \"low vulnerability\"][\"Pct Adult Population with Bachelor's Degree or Higher\"].mean()\n",
        "print(\"Average percentage of the Adult population with a Bachelor's Degree or higher with SVI Category with low vulnerability %.2f. \"%(float(bs_low_svi * 100)))\n",
        "\n",
        "bs_vlow_svi= newdf[newdf[\"SVI Category\"] == \"very low vulnerability\"][\"Pct Adult Population with Bachelor's Degree or Higher\"].mean()\n",
        "print(\"Average percentage of the Adult population with a Bachelor's Degree or higher with SVI Category with very low vulnerability %.2f. \"%(float(bs_vlow_svi * 100)))"
      ]
    },
    {
      "cell_type": "code",
      "execution_count": 71,
      "metadata": {
        "colab": {
          "base_uri": "https://localhost:8080/",
          "height": 130
        },
        "id": "Mnw3K6qz6vL3",
        "outputId": "187617b4-df13-4d24-b1e7-8eb29dfe467b"
      },
      "outputs": [
        {
          "name": "stdout",
          "output_type": "stream",
          "text": [
            "The Pearson correlation coefficient matrix\n"
          ]
        },
        {
          "data": {
            "text/html": [
              "<div>\n",
              "<style scoped>\n",
              "    .dataframe tbody tr th:only-of-type {\n",
              "        vertical-align: middle;\n",
              "    }\n",
              "\n",
              "    .dataframe tbody tr th {\n",
              "        vertical-align: top;\n",
              "    }\n",
              "\n",
              "    .dataframe thead th {\n",
              "        text-align: right;\n",
              "    }\n",
              "</style>\n",
              "<table border=\"1\" class=\"dataframe\">\n",
              "  <thead>\n",
              "    <tr style=\"text-align: right;\">\n",
              "      <th></th>\n",
              "      <th>Pct Adult Population with High School Diploma or Higher</th>\n",
              "      <th>SVI</th>\n",
              "    </tr>\n",
              "  </thead>\n",
              "  <tbody>\n",
              "    <tr>\n",
              "      <th>Pct Adult Population with High School Diploma or Higher</th>\n",
              "      <td>1.000000</td>\n",
              "      <td>-0.711692</td>\n",
              "    </tr>\n",
              "    <tr>\n",
              "      <th>SVI</th>\n",
              "      <td>-0.711692</td>\n",
              "      <td>1.000000</td>\n",
              "    </tr>\n",
              "  </tbody>\n",
              "</table>\n",
              "</div>"
            ],
            "text/plain": [
              "                                                    Pct Adult Population with High School Diploma or Higher  \\\n",
              "Pct Adult Population with High School Diploma o...                                           1.000000         \n",
              "SVI                                                                                         -0.711692         \n",
              "\n",
              "                                                         SVI  \n",
              "Pct Adult Population with High School Diploma o... -0.711692  \n",
              "SVI                                                 1.000000  "
            ]
          },
          "execution_count": 71,
          "metadata": {},
          "output_type": "execute_result"
        }
      ],
      "source": [
        "svi_hsedu_pearson = newdf[['Pct Adult Population with High School Diploma or Higher','SVI']].corr(method='pearson')\n",
        "print(\"The Pearson correlation coefficient matrix\")\n",
        "svi_hsedu_pearson"
      ]
    },
    {
      "cell_type": "code",
      "execution_count": 72,
      "metadata": {
        "colab": {
          "base_uri": "https://localhost:8080/",
          "height": 130
        },
        "id": "BqX2CDYsAbrD",
        "outputId": "f8cd65cd-19c1-4f8d-e5ac-5e78d8376186"
      },
      "outputs": [
        {
          "name": "stdout",
          "output_type": "stream",
          "text": [
            "The Pearson correlation coefficient matrix\n"
          ]
        },
        {
          "data": {
            "text/html": [
              "<div>\n",
              "<style scoped>\n",
              "    .dataframe tbody tr th:only-of-type {\n",
              "        vertical-align: middle;\n",
              "    }\n",
              "\n",
              "    .dataframe tbody tr th {\n",
              "        vertical-align: top;\n",
              "    }\n",
              "\n",
              "    .dataframe thead th {\n",
              "        text-align: right;\n",
              "    }\n",
              "</style>\n",
              "<table border=\"1\" class=\"dataframe\">\n",
              "  <thead>\n",
              "    <tr style=\"text-align: right;\">\n",
              "      <th></th>\n",
              "      <th>Pct Adult Population with Bachelor's Degree or Higher</th>\n",
              "      <th>SVI</th>\n",
              "    </tr>\n",
              "  </thead>\n",
              "  <tbody>\n",
              "    <tr>\n",
              "      <th>Pct Adult Population with Bachelor's Degree or Higher</th>\n",
              "      <td>1.00000</td>\n",
              "      <td>-0.47013</td>\n",
              "    </tr>\n",
              "    <tr>\n",
              "      <th>SVI</th>\n",
              "      <td>-0.47013</td>\n",
              "      <td>1.00000</td>\n",
              "    </tr>\n",
              "  </tbody>\n",
              "</table>\n",
              "</div>"
            ],
            "text/plain": [
              "                                                    Pct Adult Population with Bachelor's Degree or Higher  \\\n",
              "Pct Adult Population with Bachelor's Degree or ...                                            1.00000       \n",
              "SVI                                                                                          -0.47013       \n",
              "\n",
              "                                                        SVI  \n",
              "Pct Adult Population with Bachelor's Degree or ... -0.47013  \n",
              "SVI                                                 1.00000  "
            ]
          },
          "execution_count": 72,
          "metadata": {},
          "output_type": "execute_result"
        }
      ],
      "source": [
        "svi_bacheloredu_pearson = newdf[['Pct Adult Population with Bachelor\\'s Degree or Higher','SVI']].corr(method='pearson')\n",
        "print(\"The Pearson correlation coefficient matrix\")\n",
        "svi_bacheloredu_pearson"
      ]
    },
    {
      "cell_type": "code",
      "execution_count": 73,
      "metadata": {
        "colab": {
          "base_uri": "https://localhost:8080/",
          "height": 313
        },
        "id": "1BPg5A1PAtBB",
        "outputId": "53271982-b735-4247-9fe8-93e291281d53"
      },
      "outputs": [
        {
          "data": {
            "text/plain": [
              "<matplotlib.legend.Legend at 0x1103a48e0>"
            ]
          },
          "execution_count": 73,
          "metadata": {},
          "output_type": "execute_result"
        },
        {
          "data": {
            "image/png": "[encoded data removed]",
            "text/plain": [
              "<Figure size 432x288 with 1 Axes>"
            ]
          },
          "metadata": {
            "needs_background": "light"
          },
          "output_type": "display_data"
        }
      ],
      "source": [
        "N = 5\n",
        "ind = np.arange(N) \n",
        "width = 0.25\n",
        "  \n",
        "xvals = [hs_vhigh_svi, hs_high_svi, hs_moderate_svi, hs_low_svi, hs_vlow_svi]\n",
        "bar1 = plt.bar(ind, xvals, width, color = 'r')\n",
        "  \n",
        "yvals = [bs_vhigh_svi, bs_high_svi, bs_moderate_svi, bs_low_svi,bs_vlow_svi]\n",
        "bar2 = plt.bar(ind+width, yvals, width, color='g')\n",
        "\n",
        "plt.xlabel(\"Degrees of SVI Vulnerabilty\")\n",
        "plt.ylabel('Percentage of Vulnerability')\n",
        "plt.title(\"SVI Index & Educational Attainment \")\n",
        "  \n",
        "plt.xticks(ind+width,['V.High Vul', 'High Vul', 'Mod. Vul', 'Low Vul', 'V. Low Vul' ])\n",
        "plt.legend( (bar1, bar2), ('HS Degree', 'Bachelor Degree') )"
      ]
    },
    {
      "cell_type": "code",
      "execution_count": 74,
      "metadata": {
        "colab": {
          "base_uri": "https://localhost:8080/",
          "height": 130
        },
        "id": "Q9hZamENDNEZ",
        "outputId": "5ba7cd16-e2a2-4698-e938-49cfd1eef494"
      },
      "outputs": [
        {
          "name": "stdout",
          "output_type": "stream",
          "text": [
            "The Pearson correlation coefficient matrix\n"
          ]
        },
        {
          "data": {
            "text/html": [
              "<div>\n",
              "<style scoped>\n",
              "    .dataframe tbody tr th:only-of-type {\n",
              "        vertical-align: middle;\n",
              "    }\n",
              "\n",
              "    .dataframe tbody tr th {\n",
              "        vertical-align: top;\n",
              "    }\n",
              "\n",
              "    .dataframe thead th {\n",
              "        text-align: right;\n",
              "    }\n",
              "</style>\n",
              "<table border=\"1\" class=\"dataframe\">\n",
              "  <thead>\n",
              "    <tr style=\"text-align: right;\">\n",
              "      <th></th>\n",
              "      <th>Estimated hesitant or unsure</th>\n",
              "      <th>SVI</th>\n",
              "    </tr>\n",
              "  </thead>\n",
              "  <tbody>\n",
              "    <tr>\n",
              "      <th>Estimated hesitant or unsure</th>\n",
              "      <td>1.00000</td>\n",
              "      <td>0.38649</td>\n",
              "    </tr>\n",
              "    <tr>\n",
              "      <th>SVI</th>\n",
              "      <td>0.38649</td>\n",
              "      <td>1.00000</td>\n",
              "    </tr>\n",
              "  </tbody>\n",
              "</table>\n",
              "</div>"
            ],
            "text/plain": [
              "                              Estimated hesitant or unsure      SVI\n",
              "Estimated hesitant or unsure                       1.00000  0.38649\n",
              "SVI                                                0.38649  1.00000"
            ]
          },
          "execution_count": 74,
          "metadata": {},
          "output_type": "execute_result"
        }
      ],
      "source": [
        "svi_bacheloredu_pearson = newdf[['Estimated hesitant or unsure','SVI']].corr(method='pearson')\n",
        "print(\"The Pearson correlation coefficient matrix\")\n",
        "svi_bacheloredu_pearson"
      ]
    },
    {
      "cell_type": "code",
      "execution_count": 75,
      "metadata": {
        "colab": {
          "base_uri": "https://localhost:8080/",
          "height": 209
        },
        "id": "CfyMRabPUSSW",
        "outputId": "8992e91e-703f-41c1-f1d7-274fa74abef5"
      },
      "outputs": [
        {
          "name": "stdout",
          "output_type": "stream",
          "text": [
            "The Pearson correlation coefficient matrix\n"
          ]
        },
        {
          "data": {
            "text/html": [
              "<div>\n",
              "<style scoped>\n",
              "    .dataframe tbody tr th:only-of-type {\n",
              "        vertical-align: middle;\n",
              "    }\n",
              "\n",
              "    .dataframe tbody tr th {\n",
              "        vertical-align: top;\n",
              "    }\n",
              "\n",
              "    .dataframe thead th {\n",
              "        text-align: right;\n",
              "    }\n",
              "</style>\n",
              "<table border=\"1\" class=\"dataframe\">\n",
              "  <thead>\n",
              "    <tr style=\"text-align: right;\">\n",
              "      <th></th>\n",
              "      <th>Estimated hesitant or unsure</th>\n",
              "      <th>Pct Adult Population with High School Diploma or Higher</th>\n",
              "    </tr>\n",
              "  </thead>\n",
              "  <tbody>\n",
              "    <tr>\n",
              "      <th>Estimated hesitant or unsure</th>\n",
              "      <td>1.000000</td>\n",
              "      <td>-0.397172</td>\n",
              "    </tr>\n",
              "    <tr>\n",
              "      <th>Pct Adult Population with High School Diploma or Higher</th>\n",
              "      <td>-0.397172</td>\n",
              "      <td>1.000000</td>\n",
              "    </tr>\n",
              "  </tbody>\n",
              "</table>\n",
              "</div>"
            ],
            "text/plain": [
              "                                                    Estimated hesitant or unsure  \\\n",
              "Estimated hesitant or unsure                                            1.000000   \n",
              "Pct Adult Population with High School Diploma o...                     -0.397172   \n",
              "\n",
              "                                                    Pct Adult Population with High School Diploma or Higher  \n",
              "Estimated hesitant or unsure                                                                -0.397172        \n",
              "Pct Adult Population with High School Diploma o...                                           1.000000        "
            ]
          },
          "execution_count": 75,
          "metadata": {},
          "output_type": "execute_result"
        }
      ],
      "source": [
        "svi_bacheloredu_pearson = newdf[['Estimated hesitant or unsure','Pct Adult Population with High School Diploma or Higher']].corr(method='spearman')\n",
        "print(\"The Pearson correlation coefficient matrix\")\n",
        "svi_bacheloredu_pearson"
      ]
    },
    {
      "cell_type": "code",
      "execution_count": 76,
      "metadata": {
        "colab": {
          "base_uri": "https://localhost:8080/",
          "height": 209
        },
        "id": "-ROrwXEfUWHa",
        "outputId": "37323cf4-d195-4c23-bf1a-f7025aba6fac"
      },
      "outputs": [
        {
          "name": "stdout",
          "output_type": "stream",
          "text": [
            "The Pearson correlation coefficient matrix\n"
          ]
        },
        {
          "data": {
            "text/html": [
              "<div>\n",
              "<style scoped>\n",
              "    .dataframe tbody tr th:only-of-type {\n",
              "        vertical-align: middle;\n",
              "    }\n",
              "\n",
              "    .dataframe tbody tr th {\n",
              "        vertical-align: top;\n",
              "    }\n",
              "\n",
              "    .dataframe thead th {\n",
              "        text-align: right;\n",
              "    }\n",
              "</style>\n",
              "<table border=\"1\" class=\"dataframe\">\n",
              "  <thead>\n",
              "    <tr style=\"text-align: right;\">\n",
              "      <th></th>\n",
              "      <th>Estimated hesitant</th>\n",
              "      <th>Pct Adult Population with High School Diploma or Higher</th>\n",
              "    </tr>\n",
              "  </thead>\n",
              "  <tbody>\n",
              "    <tr>\n",
              "      <th>Estimated hesitant</th>\n",
              "      <td>1.000000</td>\n",
              "      <td>-0.318483</td>\n",
              "    </tr>\n",
              "    <tr>\n",
              "      <th>Pct Adult Population with High School Diploma or Higher</th>\n",
              "      <td>-0.318483</td>\n",
              "      <td>1.000000</td>\n",
              "    </tr>\n",
              "  </tbody>\n",
              "</table>\n",
              "</div>"
            ],
            "text/plain": [
              "                                                    Estimated hesitant  \\\n",
              "Estimated hesitant                                            1.000000   \n",
              "Pct Adult Population with High School Diploma o...           -0.318483   \n",
              "\n",
              "                                                    Pct Adult Population with High School Diploma or Higher  \n",
              "Estimated hesitant                                                                          -0.318483        \n",
              "Pct Adult Population with High School Diploma o...                                           1.000000        "
            ]
          },
          "execution_count": 76,
          "metadata": {},
          "output_type": "execute_result"
        }
      ],
      "source": [
        "svi_bacheloredu_pearson = newdf[['Estimated hesitant','Pct Adult Population with High School Diploma or Higher']].corr(method='spearman')\n",
        "print(\"The Pearson correlation coefficient matrix\")\n",
        "svi_bacheloredu_pearson"
      ]
    },
    {
      "cell_type": "code",
      "execution_count": 77,
      "metadata": {
        "colab": {
          "base_uri": "https://localhost:8080/",
          "height": 209
        },
        "id": "cC082kc2UWQl",
        "outputId": "72d01b42-174a-46fc-9efd-958dcddf54dc"
      },
      "outputs": [
        {
          "name": "stdout",
          "output_type": "stream",
          "text": [
            "The Pearson correlation coefficient matrix\n"
          ]
        },
        {
          "data": {
            "text/html": [
              "<div>\n",
              "<style scoped>\n",
              "    .dataframe tbody tr th:only-of-type {\n",
              "        vertical-align: middle;\n",
              "    }\n",
              "\n",
              "    .dataframe tbody tr th {\n",
              "        vertical-align: top;\n",
              "    }\n",
              "\n",
              "    .dataframe thead th {\n",
              "        text-align: right;\n",
              "    }\n",
              "</style>\n",
              "<table border=\"1\" class=\"dataframe\">\n",
              "  <thead>\n",
              "    <tr style=\"text-align: right;\">\n",
              "      <th></th>\n",
              "      <th>Estimated strongly hesitant</th>\n",
              "      <th>Pct Adult Population with High School Diploma or Higher</th>\n",
              "    </tr>\n",
              "  </thead>\n",
              "  <tbody>\n",
              "    <tr>\n",
              "      <th>Estimated strongly hesitant</th>\n",
              "      <td>1.000000</td>\n",
              "      <td>-0.345841</td>\n",
              "    </tr>\n",
              "    <tr>\n",
              "      <th>Pct Adult Population with High School Diploma or Higher</th>\n",
              "      <td>-0.345841</td>\n",
              "      <td>1.000000</td>\n",
              "    </tr>\n",
              "  </tbody>\n",
              "</table>\n",
              "</div>"
            ],
            "text/plain": [
              "                                                    Estimated strongly hesitant  \\\n",
              "Estimated strongly hesitant                                            1.000000   \n",
              "Pct Adult Population with High School Diploma o...                    -0.345841   \n",
              "\n",
              "                                                    Pct Adult Population with High School Diploma or Higher  \n",
              "Estimated strongly hesitant                                                                 -0.345841        \n",
              "Pct Adult Population with High School Diploma o...                                           1.000000        "
            ]
          },
          "execution_count": 77,
          "metadata": {},
          "output_type": "execute_result"
        }
      ],
      "source": [
        "svi_bacheloredu_pearson = newdf[['Estimated strongly hesitant','Pct Adult Population with High School Diploma or Higher']].corr(method='spearman')\n",
        "print(\"The Pearson correlation coefficient matrix\")\n",
        "svi_bacheloredu_pearson"
      ]
    },
    {
      "cell_type": "markdown",
      "metadata": {
        "id": "helBHuI1TrSe"
      },
      "source": [
        "# Machine Learning (SVI, CVAC, Education predicts Vaccine Hesitancy with GBR)\n"
      ]
    },
    {
      "cell_type": "code",
      "execution_count": 78,
      "metadata": {
        "id": "5skaryPIU8_m"
      },
      "outputs": [],
      "source": [
        "from sklearn.ensemble import GradientBoostingRegressor\n",
        "from sklearn import datasets\n",
        "from sklearn.model_selection import train_test_split\n",
        "from sklearn.model_selection import cross_validate\n",
        "from sklearn.model_selection import cross_val_score\n",
        "from sklearn.model_selection import GridSearchCV\n",
        "from statistics import mean"
      ]
    },
    {
      "cell_type": "code",
      "execution_count": 79,
      "metadata": {
        "id": "3a_Zk3F6X8SU"
      },
      "outputs": [],
      "source": [
        "len(newdf['Pct Adult Population with High School Diploma or Higher'])\n",
        "X=[]\n",
        "for i in range(3141):\n",
        "  X.append([newdf[\"Pct Adult Population with Bachelor's Degree or Higher\"][i], newdf['SVI'][i], newdf['CVAC'][i]])"
      ]
    },
    {
      "cell_type": "code",
      "execution_count": 80,
      "metadata": {
        "id": "8AsR7JsfWVot"
      },
      "outputs": [],
      "source": [
        "y = newdf['Estimated strongly hesitant']\n",
        "X_train, X_test, y_train, y_test = train_test_split(X,y,test_size=0.2,random_state=0)"
      ]
    },
    {
      "cell_type": "code",
      "execution_count": 81,
      "metadata": {
        "colab": {
          "base_uri": "https://localhost:8080/",
          "height": 443
        },
        "id": "5blJnFLoW6vN",
        "outputId": "712a4c4a-6485-4cf9-993d-a77263197a19"
      },
      "outputs": [
        {
          "name": "stdout",
          "output_type": "stream",
          "text": [
            "accuracy: 0.17192797044730102, depth: 5, learning_rate: 0.02\n"
          ]
        }
      ],
      "source": [
        "gbt_score_to_model = {}\n",
        "array = []\n",
        "for depth in range(1,13,2):\n",
        "    for learning_rate in [.01,.02,.03,.04,.05]:\n",
        "        gbt_model = GradientBoostingRegressor(max_depth=depth, learning_rate=learning_rate)\n",
        "        gbt_model.fit(X_train, y_train)\n",
        "        score = gbt_model.score(X_test, y_test)\n",
        "        \n",
        "        gbt_score_to_model[score] = gbt_model\n",
        "        # print(\"accuracy: \" + str(score) + \", depth: \" + str(depth) + \", learning_rate: \" + str(learning_rate))\n",
        "\n",
        "best_gbt_score = max(gbt_score_to_model.keys())\n",
        "best_gbt_model = gbt_score_to_model[best_gbt_score]\n",
        "print(\"accuracy: \" + str(best_gbt_score) + \", depth: \" + str(best_gbt_model.max_depth) + \", learning_rate: \" + str(best_gbt_model.learning_rate))"
      ]
    },
    {
      "cell_type": "code",
      "execution_count": 82,
      "metadata": {
        "id": "a0lYdp8LYxps"
      },
      "outputs": [
        {
          "name": "stdout",
          "output_type": "stream",
          "text": [
            "accuracy: 0.1851049569340314, depth: 3, learning_rate: 0.03\n"
          ]
        }
      ],
      "source": [
        "y = newdf['Estimated hesitant']\n",
        "X_train, X_test, y_train, y_test = train_test_split(X,y,test_size=0.2,random_state=0)\n",
        "gbt_score_to_model = {}\n",
        "array = []\n",
        "for depth in range(1,13,2):\n",
        "    for learning_rate in [.01,.02,.03,.04,.05]:\n",
        "        gbt_model = GradientBoostingRegressor(max_depth=depth, learning_rate=learning_rate)\n",
        "        gbt_model.fit(X_train, y_train)\n",
        "        score = gbt_model.score(X_test, y_test)\n",
        "        \n",
        "        gbt_score_to_model[score] = gbt_model\n",
        "        # print(\"accuracy: \" + str(score) + \", depth: \" + str(depth) + \", learning_rate: \" + str(learning_rate))\n",
        "\n",
        "best_gbt_score = max(gbt_score_to_model.keys())\n",
        "best_gbt_model = gbt_score_to_model[best_gbt_score]\n",
        "print(\"accuracy: \" + str(best_gbt_score) + \", depth: \" + str(best_gbt_model.max_depth) + \", learning_rate: \" + str(best_gbt_model.learning_rate))"
      ]
    },
    {
      "cell_type": "code",
      "execution_count": 83,
      "metadata": {
        "id": "Y9nc8561ZDuL"
      },
      "outputs": [
        {
          "name": "stdout",
          "output_type": "stream",
          "text": [
            "accuracy: 0.25564539003186537, depth: 5, learning_rate: 0.02\n"
          ]
        }
      ],
      "source": [
        "y = newdf['Estimated hesitant or unsure']\n",
        "X_train, X_test, y_train, y_test = train_test_split(X,y,test_size=0.2,random_state=0)\n",
        "gbt_score_to_model = {}\n",
        "array = []\n",
        "for depth in range(1,13,2):\n",
        "    for learning_rate in [.01,.02,.03,.04,.05]:\n",
        "        gbt_model = GradientBoostingRegressor(max_depth=depth, learning_rate=learning_rate)\n",
        "        gbt_model.fit(X_train, y_train)\n",
        "        score = gbt_model.score(X_test, y_test)\n",
        "        \n",
        "        gbt_score_to_model[score] = gbt_model\n",
        "        # print(\"accuracy: \" + str(score) + \", depth: \" + str(depth) + \", learning_rate: \" + str(learning_rate))\n",
        "\n",
        "best_gbt_score = max(gbt_score_to_model.keys())\n",
        "best_gbt_model = gbt_score_to_model[best_gbt_score]\n",
        "print(\"accuracy: \" + str(best_gbt_score) + \", depth: \" + str(best_gbt_model.max_depth) + \", learning_rate: \" + str(best_gbt_model.learning_rate))"
      ]
    },
    {
      "cell_type": "code",
      "execution_count": 84,
      "metadata": {
        "id": "UKQs1yKAZh8v"
      },
      "outputs": [],
      "source": [
        "X=[]\n",
        "for i in range(3141):\n",
        "  X.append([newdf['SVI'][i], newdf['CVAC'][i]])\n",
        "X_train, X_test = train_test_split(X,test_size=0.2,random_state=0)"
      ]
    },
    {
      "cell_type": "code",
      "execution_count": 85,
      "metadata": {
        "id": "BtNJAkUWZ6Pw"
      },
      "outputs": [
        {
          "name": "stdout",
          "output_type": "stream",
          "text": [
            "accuracy: 0.22512303502804806, depth: 3, learning_rate: 0.04\n"
          ]
        }
      ],
      "source": [
        "gbt_score_to_model = {}\n",
        "array = []\n",
        "for depth in range(1,13,2):\n",
        "    for learning_rate in [.01,.02,.03,.04,.05]:\n",
        "        gbt_model = GradientBoostingRegressor(max_depth=depth, learning_rate=learning_rate)\n",
        "        gbt_model.fit(X_train, y_train)\n",
        "        cvscore = mean(cross_val_score(gbt_model, X_train, y_train, scoring=\"r2\", cv=5))\n",
        "        # score = gbt_model.score(X_test, y_test)\n",
        "        gbt_score_to_model[cvscore] = gbt_model\n",
        "        # print(\"accuracy: \" + str(score) + \", depth: \" + str(depth) + \", learning_rate: \" + str(learning_rate))\n",
        "\n",
        "best_gbt_score = max(gbt_score_to_model.keys())\n",
        "best_gbt_model = gbt_score_to_model[best_gbt_score]\n",
        "print(\"accuracy: \" + str(best_gbt_score) + \", depth: \" + str(best_gbt_model.max_depth) + \", learning_rate: \" + str(best_gbt_model.learning_rate))"
      ]
    },
    {
      "cell_type": "markdown",
      "metadata": {
        "id": "WBQ-RvI0OtLW"
      },
      "source": [
        "## Vaccine Hesitancy ML"
      ]
    },
    {
      "cell_type": "code",
      "execution_count": 86,
      "metadata": {
        "id": "Owrlr37QhF8f"
      },
      "outputs": [
        {
          "data": {
            "text/html": [
              "<div>\n",
              "<style scoped>\n",
              "    .dataframe tbody tr th:only-of-type {\n",
              "        vertical-align: middle;\n",
              "    }\n",
              "\n",
              "    .dataframe tbody tr th {\n",
              "        vertical-align: top;\n",
              "    }\n",
              "\n",
              "    .dataframe thead th {\n",
              "        text-align: right;\n",
              "    }\n",
              "</style>\n",
              "<table border=\"1\" class=\"dataframe\">\n",
              "  <thead>\n",
              "    <tr style=\"text-align: right;\">\n",
              "      <th></th>\n",
              "      <th>FIPS Code</th>\n",
              "      <th>County Name</th>\n",
              "      <th>State</th>\n",
              "      <th>Estimated hesitant</th>\n",
              "      <th>Estimated hesitant or unsure</th>\n",
              "      <th>Estimated strongly hesitant</th>\n",
              "      <th>SVI</th>\n",
              "      <th>SVI Category</th>\n",
              "      <th>CVAC</th>\n",
              "      <th>CVAC Category</th>\n",
              "      <th>Percent adults fully vaccinated against COVID-19 (as of 6/10/21)</th>\n",
              "      <th>Percent Hispanic</th>\n",
              "      <th>Percent non-Hispanic American Indian/Alaska Native</th>\n",
              "      <th>Percent non-Hispanic Asian</th>\n",
              "      <th>Percent non-Hispanic Black</th>\n",
              "      <th>Percent non-Hispanic Native Hawaiian/Pacific Islander</th>\n",
              "      <th>Percent non-Hispanic White</th>\n",
              "      <th>State Code</th>\n",
              "    </tr>\n",
              "  </thead>\n",
              "  <tbody>\n",
              "    <tr>\n",
              "      <th>0</th>\n",
              "      <td>1001</td>\n",
              "      <td>autauga county, alabama</td>\n",
              "      <td>alabama</td>\n",
              "      <td>0.1685</td>\n",
              "      <td>0.2233</td>\n",
              "      <td>0.1272</td>\n",
              "      <td>0.44</td>\n",
              "      <td>moderate vulnerability</td>\n",
              "      <td>0.61</td>\n",
              "      <td>high concern</td>\n",
              "      <td>0.288</td>\n",
              "      <td>0.0283</td>\n",
              "      <td>0.0025</td>\n",
              "      <td>0.0103</td>\n",
              "      <td>0.1900</td>\n",
              "      <td>0.0001</td>\n",
              "      <td>0.7460</td>\n",
              "      <td>AL</td>\n",
              "    </tr>\n",
              "    <tr>\n",
              "      <th>1</th>\n",
              "      <td>1003</td>\n",
              "      <td>baldwin county, alabama</td>\n",
              "      <td>alabama</td>\n",
              "      <td>0.1544</td>\n",
              "      <td>0.1988</td>\n",
              "      <td>0.1169</td>\n",
              "      <td>0.22</td>\n",
              "      <td>low vulnerability</td>\n",
              "      <td>0.23</td>\n",
              "      <td>low concern</td>\n",
              "      <td>0.336</td>\n",
              "      <td>0.0456</td>\n",
              "      <td>0.0065</td>\n",
              "      <td>0.0092</td>\n",
              "      <td>0.0917</td>\n",
              "      <td>0.0000</td>\n",
              "      <td>0.8307</td>\n",
              "      <td>AL</td>\n",
              "    </tr>\n",
              "    <tr>\n",
              "      <th>2</th>\n",
              "      <td>1005</td>\n",
              "      <td>barbour county, alabama</td>\n",
              "      <td>alabama</td>\n",
              "      <td>0.1676</td>\n",
              "      <td>0.2337</td>\n",
              "      <td>0.1274</td>\n",
              "      <td>1.00</td>\n",
              "      <td>very high vulnerability</td>\n",
              "      <td>0.89</td>\n",
              "      <td>very high concern</td>\n",
              "      <td>0.257</td>\n",
              "      <td>0.0436</td>\n",
              "      <td>0.0029</td>\n",
              "      <td>0.0048</td>\n",
              "      <td>0.4744</td>\n",
              "      <td>0.0000</td>\n",
              "      <td>0.4581</td>\n",
              "      <td>AL</td>\n",
              "    </tr>\n",
              "    <tr>\n",
              "      <th>3</th>\n",
              "      <td>1007</td>\n",
              "      <td>bibb county, alabama</td>\n",
              "      <td>alabama</td>\n",
              "      <td>0.1808</td>\n",
              "      <td>0.2526</td>\n",
              "      <td>0.1390</td>\n",
              "      <td>0.60</td>\n",
              "      <td>high vulnerability</td>\n",
              "      <td>0.76</td>\n",
              "      <td>high concern</td>\n",
              "      <td>0.222</td>\n",
              "      <td>0.0257</td>\n",
              "      <td>0.0013</td>\n",
              "      <td>0.0012</td>\n",
              "      <td>0.2214</td>\n",
              "      <td>0.0000</td>\n",
              "      <td>0.7453</td>\n",
              "      <td>AL</td>\n",
              "    </tr>\n",
              "    <tr>\n",
              "      <th>4</th>\n",
              "      <td>1009</td>\n",
              "      <td>blount county, alabama</td>\n",
              "      <td>alabama</td>\n",
              "      <td>0.1854</td>\n",
              "      <td>0.2362</td>\n",
              "      <td>0.1416</td>\n",
              "      <td>0.42</td>\n",
              "      <td>moderate vulnerability</td>\n",
              "      <td>0.80</td>\n",
              "      <td>high concern</td>\n",
              "      <td>0.215</td>\n",
              "      <td>0.0926</td>\n",
              "      <td>0.0007</td>\n",
              "      <td>0.0037</td>\n",
              "      <td>0.0153</td>\n",
              "      <td>0.0004</td>\n",
              "      <td>0.8689</td>\n",
              "      <td>AL</td>\n",
              "    </tr>\n",
              "  </tbody>\n",
              "</table>\n",
              "</div>"
            ],
            "text/plain": [
              "   FIPS Code              County Name    State  Estimated hesitant  \\\n",
              "0       1001  autauga county, alabama  alabama              0.1685   \n",
              "1       1003  baldwin county, alabama  alabama              0.1544   \n",
              "2       1005  barbour county, alabama  alabama              0.1676   \n",
              "3       1007     bibb county, alabama  alabama              0.1808   \n",
              "4       1009   blount county, alabama  alabama              0.1854   \n",
              "\n",
              "   Estimated hesitant or unsure  Estimated strongly hesitant   SVI  \\\n",
              "0                        0.2233                       0.1272  0.44   \n",
              "1                        0.1988                       0.1169  0.22   \n",
              "2                        0.2337                       0.1274  1.00   \n",
              "3                        0.2526                       0.1390  0.60   \n",
              "4                        0.2362                       0.1416  0.42   \n",
              "\n",
              "              SVI Category  CVAC      CVAC Category  \\\n",
              "0   moderate vulnerability  0.61       high concern   \n",
              "1        low vulnerability  0.23        low concern   \n",
              "2  very high vulnerability  0.89  very high concern   \n",
              "3       high vulnerability  0.76       high concern   \n",
              "4   moderate vulnerability  0.80       high concern   \n",
              "\n",
              "   Percent adults fully vaccinated against COVID-19 (as of 6/10/21)  \\\n",
              "0                                              0.288                  \n",
              "1                                              0.336                  \n",
              "2                                              0.257                  \n",
              "3                                              0.222                  \n",
              "4                                              0.215                  \n",
              "\n",
              "   Percent Hispanic  Percent non-Hispanic American Indian/Alaska Native  \\\n",
              "0            0.0283                                             0.0025    \n",
              "1            0.0456                                             0.0065    \n",
              "2            0.0436                                             0.0029    \n",
              "3            0.0257                                             0.0013    \n",
              "4            0.0926                                             0.0007    \n",
              "\n",
              "   Percent non-Hispanic Asian  Percent non-Hispanic Black  \\\n",
              "0                      0.0103                      0.1900   \n",
              "1                      0.0092                      0.0917   \n",
              "2                      0.0048                      0.4744   \n",
              "3                      0.0012                      0.2214   \n",
              "4                      0.0037                      0.0153   \n",
              "\n",
              "   Percent non-Hispanic Native Hawaiian/Pacific Islander  \\\n",
              "0                                             0.0001       \n",
              "1                                             0.0000       \n",
              "2                                             0.0000       \n",
              "3                                             0.0000       \n",
              "4                                             0.0004       \n",
              "\n",
              "   Percent non-Hispanic White State Code  \n",
              "0                      0.7460         AL  \n",
              "1                      0.8307         AL  \n",
              "2                      0.4581         AL  \n",
              "3                      0.7453         AL  \n",
              "4                      0.8689         AL  "
            ]
          },
          "execution_count": 86,
          "metadata": {},
          "output_type": "execute_result"
        }
      ],
      "source": [
        "vaccinehesitancy.head()"
      ]
    },
    {
      "cell_type": "code",
      "execution_count": 87,
      "metadata": {
        "id": "fPmuTAycOv6u"
      },
      "outputs": [],
      "source": [
        "## do classification model using svi, cvac, and percent hesitant"
      ]
    },
    {
      "cell_type": "code",
      "execution_count": 88,
      "metadata": {
        "id": "ZxkjItSaRSxk"
      },
      "outputs": [],
      "source": [
        "len(newdf['Pct Adult Population with High School Diploma or Higher'])\n",
        "X=[]\n",
        "for i in range(3141):\n",
        "  X.append([newdf[\"Pct Adult Population with Bachelor's Degree or Higher\"][i], newdf['SVI'][i], newdf['CVAC'][i]])"
      ]
    },
    {
      "cell_type": "code",
      "execution_count": 89,
      "metadata": {
        "id": "W8F4vzRET1Wl"
      },
      "outputs": [],
      "source": [
        "y = newdf['Estimated strongly hesitant']\n",
        "X_train, X_test, y_train, y_test = train_test_split(X,y,test_size=0.2,random_state=0)"
      ]
    },
    {
      "cell_type": "code",
      "execution_count": 90,
      "metadata": {
        "id": "dSfvzX8jT3l_"
      },
      "outputs": [],
      "source": [
        "# parameters = {\"learning_rate\":[0.01,0.02,0.03,0.04,0.05],\n",
        "#              \"max_depth\": [1,3,5,7,9,11],\n",
        "#               'subsample'    : [0.9, 0.5, 0.2, 0.1],\n",
        "#               'n_estimators' : [100,500,1000, 1500],\n",
        "#               \"criterion\": ['friedman_mse', 'squared_error', 'mse'],\n",
        "#               \"min_samples_split\" : range(2,25)\n",
        "#               }\n",
        "\n",
        "# gbr = GradientBoostingRegressor()\n",
        "# gridsearch = GridSearchCV(gbr, parameters, cv=5, scoring = 'r2')\n",
        "# gridsearch.fit(X_train, y_train)"
      ]
    },
    {
      "cell_type": "code",
      "execution_count": 91,
      "metadata": {
        "id": "5W8F9q3EUTQs"
      },
      "outputs": [],
      "source": [
        "# print('Best learning rate:', gridsearch.best_estimator_.get_params()['learning_rate'])\n",
        "# print('Best max_depth:', gridsearch.best_estimator_.get_params()['max_depth'])"
      ]
    },
    {
      "cell_type": "markdown",
      "metadata": {},
      "source": [
        "## Logistic Regression Models"
      ]
    },
    {
      "cell_type": "code",
      "execution_count": 143,
      "metadata": {},
      "outputs": [],
      "source": [
        "newdf = newdf.dropna()\n",
        "combinedfeatures = newdf[['SVI','CVAC','Percent adults fully vaccinated against COVID-19 (as of 6/10/21)','Percent Hispanic','Percent non-Hispanic American Indian/Alaska Native','Percent non-Hispanic Asian',\n",
        "'Percent non-Hispanic Black','Percent non-Hispanic Native Hawaiian/Pacific Islander','Percent non-Hispanic White','Adult Population with High School Diploma or Higher',\n",
        "\"Adult Population with Bachelor's Degree or Higher\"]]"
      ]
    },
    {
      "cell_type": "code",
      "execution_count": 138,
      "metadata": {},
      "outputs": [
        {
          "name": "stderr",
          "output_type": "stream",
          "text": [
            "/Library/Frameworks/Python.framework/Versions/3.9/lib/python3.9/site-packages/sklearn/linear_model/_sag.py:350: ConvergenceWarning: The max_iter was reached which means the coef_ did not converge\n",
            "  warnings.warn(\n",
            "/Library/Frameworks/Python.framework/Versions/3.9/lib/python3.9/site-packages/sklearn/linear_model/_sag.py:350: ConvergenceWarning: The max_iter was reached which means the coef_ did not converge\n",
            "  warnings.warn(\n",
            "/Library/Frameworks/Python.framework/Versions/3.9/lib/python3.9/site-packages/sklearn/linear_model/_sag.py:350: ConvergenceWarning: The max_iter was reached which means the coef_ did not converge\n",
            "  warnings.warn(\n",
            "/Library/Frameworks/Python.framework/Versions/3.9/lib/python3.9/site-packages/sklearn/linear_model/_sag.py:350: ConvergenceWarning: The max_iter was reached which means the coef_ did not converge\n",
            "  warnings.warn(\n",
            "/Library/Frameworks/Python.framework/Versions/3.9/lib/python3.9/site-packages/sklearn/linear_model/_sag.py:350: ConvergenceWarning: The max_iter was reached which means the coef_ did not converge\n",
            "  warnings.warn(\n",
            "/Library/Frameworks/Python.framework/Versions/3.9/lib/python3.9/site-packages/sklearn/linear_model/_sag.py:350: ConvergenceWarning: The max_iter was reached which means the coef_ did not converge\n",
            "  warnings.warn(\n",
            "/Library/Frameworks/Python.framework/Versions/3.9/lib/python3.9/site-packages/sklearn/linear_model/_sag.py:350: ConvergenceWarning: The max_iter was reached which means the coef_ did not converge\n",
            "  warnings.warn(\n",
            "/Library/Frameworks/Python.framework/Versions/3.9/lib/python3.9/site-packages/sklearn/linear_model/_sag.py:350: ConvergenceWarning: The max_iter was reached which means the coef_ did not converge\n",
            "  warnings.warn(\n",
            "/Library/Frameworks/Python.framework/Versions/3.9/lib/python3.9/site-packages/sklearn/linear_model/_sag.py:350: ConvergenceWarning: The max_iter was reached which means the coef_ did not converge\n",
            "  warnings.warn(\n",
            "/Library/Frameworks/Python.framework/Versions/3.9/lib/python3.9/site-packages/sklearn/linear_model/_sag.py:350: ConvergenceWarning: The max_iter was reached which means the coef_ did not converge\n",
            "  warnings.warn(\n"
          ]
        }
      ],
      "source": [
        "from statistics import median\n",
        "from sklearn.linear_model import LogisticRegression\n",
        "from sklearn import preprocessing\n",
        "from sklearn.random_projection import GaussianRandomProjection\n",
        "\n",
        "y = newdf['Estimated hesitant or unsure']\n",
        "X = combinedfeatures\n",
        "\n",
        "X_train, X_test, y_train, y_test = train_test_split(X,y,test_size=0.2,random_state=0)\n",
        "y_bool = [1 if i >= median(y) else 0 for i in y_train]\n",
        "\n",
        "# X_train = X_train.array.reshape(-1, 1)\n",
        "\n",
        "lr_model = LogisticRegression(solver='saga')\n",
        "\n",
        "## no scaling\n",
        "LR_results_noscale = mean(cross_val_score(lr_model, X_train, y_bool, cv=5, scoring='roc_auc'))\n",
        "\n",
        "## minmax scaling\n",
        "scaler = preprocessing.MinMaxScaler()\n",
        "scaleddata = scaler.fit_transform(X_train)\n",
        "\n",
        "LR_results_minmaxscale = mean(cross_val_score(lr_model, scaleddata, y_bool, cv=5, scoring='roc_auc'))\n",
        "\n",
        "\n",
        "## standard scaling\n",
        "X_scaled = preprocessing.scale(X_train)\n",
        "LR_results_standardscale = mean(cross_val_score(lr_model, X_scaled, y_bool, cv=5, scoring='roc_auc'))\n",
        "\n"
      ]
    },
    {
      "cell_type": "code",
      "execution_count": 139,
      "metadata": {},
      "outputs": [
        {
          "name": "stdout",
          "output_type": "stream",
          "text": [
            "roc auc score - no scaling: 0.6434297720306098: \n",
            "roc auc score - min max scaled: 0.8059236736076406: \n",
            "roc auc score - standard scaled: 0.8094705794900727: \n"
          ]
        }
      ],
      "source": [
        "print(\"roc auc score - no scaling: {}: \".format(LR_results_noscale))\n",
        "print(\"roc auc score - min max scaled: {}: \".format(LR_results_minmaxscale))\n",
        "print(\"roc auc score - standard scaled: {}: \".format(LR_results_standardscale))"
      ]
    },
    {
      "cell_type": "code",
      "execution_count": 144,
      "metadata": {},
      "outputs": [
        {
          "data": {
            "image/png": "[encoded data removed]",
            "text/plain": [
              "<Figure size 720x576 with 1 Axes>"
            ]
          },
          "metadata": {
            "needs_background": "light"
          },
          "output_type": "display_data"
        }
      ],
      "source": [
        "# Plot\n",
        "scalingtypes = ['No Scaling', \n",
        "           'Min Max Scaling', \n",
        "           'Standard Scaling']\n",
        "performance = [LR_results_noscale,\n",
        "              LR_results_minmaxscale,\n",
        "              LR_results_standardscale]\n",
        "fig, ax = plt.subplots(figsize=(10, 8))\n",
        "plt.bar(scalingtypes, performance, align='center')\n",
        "plt.xticks(scalingtypes)\n",
        "plt.ylabel('ROC_AUC Performance')\n",
        "plt.xlabel('Scaling Types')\n",
        "plt.title('Comparison')\n",
        "plt.show()"
      ]
    },
    {
      "cell_type": "markdown",
      "metadata": {},
      "source": [
        "### PCA"
      ]
    },
    {
      "cell_type": "code",
      "execution_count": 140,
      "metadata": {},
      "outputs": [
        {
          "name": "stderr",
          "output_type": "stream",
          "text": [
            "/Library/Frameworks/Python.framework/Versions/3.9/lib/python3.9/site-packages/sklearn/linear_model/_sag.py:350: ConvergenceWarning: The max_iter was reached which means the coef_ did not converge\n",
            "  warnings.warn(\n",
            "/Library/Frameworks/Python.framework/Versions/3.9/lib/python3.9/site-packages/sklearn/linear_model/_sag.py:350: ConvergenceWarning: The max_iter was reached which means the coef_ did not converge\n",
            "  warnings.warn(\n",
            "/Library/Frameworks/Python.framework/Versions/3.9/lib/python3.9/site-packages/sklearn/linear_model/_sag.py:350: ConvergenceWarning: The max_iter was reached which means the coef_ did not converge\n",
            "  warnings.warn(\n",
            "/Library/Frameworks/Python.framework/Versions/3.9/lib/python3.9/site-packages/sklearn/linear_model/_sag.py:350: ConvergenceWarning: The max_iter was reached which means the coef_ did not converge\n",
            "  warnings.warn(\n",
            "/Library/Frameworks/Python.framework/Versions/3.9/lib/python3.9/site-packages/sklearn/linear_model/_sag.py:350: ConvergenceWarning: The max_iter was reached which means the coef_ did not converge\n",
            "  warnings.warn(\n"
          ]
        },
        {
          "data": {
            "image/png": "[encoded data removed]",
            "text/plain": [
              "<Figure size 432x288 with 1 Axes>"
            ]
          },
          "metadata": {
            "needs_background": "light"
          },
          "output_type": "display_data"
        }
      ],
      "source": [
        "from sklearn.decomposition import PCA\n",
        "import seaborn as sns\n",
        "\n",
        "# pca = PCA(n_components=6)\n",
        "# X_scaled_PCA10 = pca.fit_transform(X_scaled)\n",
        "# lrscaledPCA10_cv_results = mean(cross_val_score(lr_model, X_scaled_PCA10, y_bool, cv=5, scoring='roc_auc'))\n",
        "# print(\"roc auc score - standard scaled and PCA to 10 dimensions: {}: \".format(lrscaledPCA10_cv_results))\n",
        "\n",
        "scoredict = {}\n",
        "lr_model = LogisticRegression(solver='saga')\n",
        "\n",
        "for k in range(1, 11):\n",
        "    currpca = PCA(n_components=k)\n",
        "    currxscaled = currpca.fit_transform(X_scaled)\n",
        "    cvscore = mean(cross_val_score(lr_model, currxscaled, y_bool, cv=5, scoring='roc_auc'))\n",
        "    scoredict[k] = cvscore\n",
        "    # print(scoredict[k])\n",
        "    \n",
        "    \n",
        "plt.title('Knee plot for dimension selection')\n",
        "plt.xlabel('dimensions')\n",
        "plt.ylabel('roc_auc scoring')\n",
        "sns.pointplot(x=list(scoredict.keys()),\n",
        "             y=list(scoredict.values()))\n",
        "plt.show()\n",
        "\n"
      ]
    },
    {
      "cell_type": "code",
      "execution_count": 141,
      "metadata": {},
      "outputs": [
        {
          "name": "stderr",
          "output_type": "stream",
          "text": [
            "/Library/Frameworks/Python.framework/Versions/3.9/lib/python3.9/site-packages/sklearn/linear_model/_sag.py:350: ConvergenceWarning: The max_iter was reached which means the coef_ did not converge\n",
            "  warnings.warn(\n",
            "/Library/Frameworks/Python.framework/Versions/3.9/lib/python3.9/site-packages/sklearn/linear_model/_sag.py:350: ConvergenceWarning: The max_iter was reached which means the coef_ did not converge\n",
            "  warnings.warn(\n",
            "/Library/Frameworks/Python.framework/Versions/3.9/lib/python3.9/site-packages/sklearn/linear_model/_sag.py:350: ConvergenceWarning: The max_iter was reached which means the coef_ did not converge\n",
            "  warnings.warn(\n",
            "/Library/Frameworks/Python.framework/Versions/3.9/lib/python3.9/site-packages/sklearn/linear_model/_sag.py:350: ConvergenceWarning: The max_iter was reached which means the coef_ did not converge\n",
            "  warnings.warn(\n",
            "/Library/Frameworks/Python.framework/Versions/3.9/lib/python3.9/site-packages/sklearn/linear_model/_sag.py:350: ConvergenceWarning: The max_iter was reached which means the coef_ did not converge\n",
            "  warnings.warn(\n",
            "/Library/Frameworks/Python.framework/Versions/3.9/lib/python3.9/site-packages/sklearn/linear_model/_sag.py:350: ConvergenceWarning: The max_iter was reached which means the coef_ did not converge\n",
            "  warnings.warn(\n"
          ]
        }
      ],
      "source": [
        "## running lr model on testing data\n",
        "Xtest_scaled = preprocessing.scale(X_test)\n",
        "y_bool_test = [1 if i >= median(y) else 0 for i in y_test]\n",
        "lr_test = lr_model.fit(X_scaled, y_bool)\n",
        "LR_standard_test = mean(cross_val_score(lr_test, Xtest_scaled, y_bool_test, cv=5, scoring='roc_auc'))\n"
      ]
    },
    {
      "cell_type": "code",
      "execution_count": 142,
      "metadata": {},
      "outputs": [
        {
          "name": "stdout",
          "output_type": "stream",
          "text": [
            "roc auc score - standard scaled, testing data: 0.7873465992567626: \n"
          ]
        }
      ],
      "source": [
        "print(\"roc auc score - standard scaled, testing data: {}: \".format(LR_standard_test))"
      ]
    },
    {
      "cell_type": "markdown",
      "metadata": {},
      "source": [
        "## Random Forest Classifier"
      ]
    },
    {
      "cell_type": "code",
      "execution_count": 97,
      "metadata": {},
      "outputs": [
        {
          "ename": "NameError",
          "evalue": "name 'clf' is not defined",
          "output_type": "error",
          "traceback": [
            "\u001b[0;31m---------------------------------------------------------------------------\u001b[0m",
            "\u001b[0;31mNameError\u001b[0m                                 Traceback (most recent call last)",
            "\u001b[1;32m/Users/allisonrhee/cs396-final-proj/396_Final_Proj.ipynb Cell 110'\u001b[0m in \u001b[0;36m<cell line: 11>\u001b[0;34m()\u001b[0m\n\u001b[1;32m      <a href='vscode-notebook-cell:/Users/allisonrhee/cs396-final-proj/396_Final_Proj.ipynb#ch0000110?line=7'>8</a>\u001b[0m scaleddata \u001b[39m=\u001b[39m scaler\u001b[39m.\u001b[39mfit_transform(X_train)\n\u001b[1;32m     <a href='vscode-notebook-cell:/Users/allisonrhee/cs396-final-proj/396_Final_Proj.ipynb#ch0000110?line=9'>10</a>\u001b[0m rf_model \u001b[39m=\u001b[39m RandomForestClassifier()\n\u001b[0;32m---> <a href='vscode-notebook-cell:/Users/allisonrhee/cs396-final-proj/396_Final_Proj.ipynb#ch0000110?line=10'>11</a>\u001b[0m rf_model \u001b[39m=\u001b[39m clf\u001b[39m.\u001b[39mfit(X_train, y_bool)\n\u001b[1;32m     <a href='vscode-notebook-cell:/Users/allisonrhee/cs396-final-proj/396_Final_Proj.ipynb#ch0000110?line=11'>12</a>\u001b[0m scores \u001b[39m=\u001b[39m cross_val_score(rf_model, scaleddata, y_bool, cv\u001b[39m=\u001b[39m\u001b[39m5\u001b[39m)\n\u001b[1;32m     <a href='vscode-notebook-cell:/Users/allisonrhee/cs396-final-proj/396_Final_Proj.ipynb#ch0000110?line=12'>13</a>\u001b[0m \u001b[39mprint\u001b[39m(\u001b[39m\"\u001b[39m\u001b[39mRandom Forests Min Max:\u001b[39m\u001b[39m\"\u001b[39m,scores\u001b[39m.\u001b[39mmean())\n",
            "\u001b[0;31mNameError\u001b[0m: name 'clf' is not defined"
          ]
        }
      ],
      "source": [
        "#Random Forest Classifeir \n",
        "\n",
        "from sklearn.ensemble import RandomForestClassifier\n",
        "from sklearn import preprocessing\n",
        "\n",
        "# minmax scaling\n",
        "scaler = preprocessing.MinMaxScaler()\n",
        "scaleddata = scaler.fit_transform(X_train)\n",
        "\n",
        "rf_model = RandomForestClassifier()\n",
        "rf_model = clf.fit(X_train, y_bool)\n",
        "scores = cross_val_score(rf_model, scaleddata, y_bool, cv=5)\n",
        "print(\"Random Forests Min Max:\",scores.mean())\n",
        "\n",
        "#scaling\n",
        "X_scaled = preprocessing.scale(X_train)\n",
        "rf_model = RandomForestClassifier()\n",
        "rf_model = clf.fit(X_train, y_bool)\n",
        "scores = cross_val_score(rf_model, scaleddata, y_bool, cv=5)\n",
        "print(\"Random Forests Standard Scaling:\",scores.mean())"
      ]
    },
    {
      "cell_type": "code",
      "execution_count": null,
      "metadata": {},
      "outputs": [],
      "source": []
    }
  ],
  "metadata": {
    "colab": {
      "collapsed_sections": [],
      "name": "396_Final_Proj.ipynb",
      "provenance": []
    },
    "interpreter": {
      "hash": "aee8b7b246df8f9039afb4144a1f6fd8d2ca17a180786b69acc140d282b71a49"
    },
    "kernelspec": {
      "display_name": "Python 3.9.12 64-bit",
      "language": "python",
      "name": "python3"
    },
    "language_info": {
      "codemirror_mode": {
        "name": "ipython",
        "version": 3
      },
      "file_extension": ".py",
      "mimetype": "text/x-python",
      "name": "python",
      "nbconvert_exporter": "python",
      "pygments_lexer": "ipython3",
      "version": "3.9.12"
    }
  },
  "nbformat": 4,
  "nbformat_minor": 0
}
